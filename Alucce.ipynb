{
 "cells": [
  {
   "cell_type": "code",
   "execution_count": null,
   "id": "5d613ee1-530f-4690-b7a1-2ba7ca65863e",
   "metadata": {},
   "outputs": [],
   "source": []
  },
  {
   "cell_type": "code",
   "execution_count": 1,
   "id": "155e31b4-247b-4b07-b133-a2a52e9f4323",
   "metadata": {},
   "outputs": [],
   "source": [
    "#to play the game, restart the kernel and run the notebook, answer each follow up lines to continue "
   ]
  },
  {
   "cell_type": "code",
   "execution_count": 2,
   "id": "4807b3e0-6128-4a13-81a9-353acaad12a4",
   "metadata": {},
   "outputs": [
    {
     "name": "stdout",
     "output_type": "stream",
     "text": [
      "While going on a trip to the caribbean islands on a Pj, you decided to take a nap before arriving.\n",
      "When you wake up the only things you see are a red door and a blue door.\n",
      "Which door do you choose?\n"
     ]
    }
   ],
   "source": [
    "print(\"While going on a trip to the caribbean islands on a Pj, you decided to take a nap before arriving.\")\n",
    "print(\"When you wake up the only things you see are a red door and a blue door.\")\n",
    "print(\"Which door do you choose?\")"
   ]
  },
  {
   "cell_type": "code",
   "execution_count": 3,
   "id": "cc542869-c8cd-489b-b726-26db5fa8e8fb",
   "metadata": {},
   "outputs": [
    {
     "name": "stdin",
     "output_type": "stream",
     "text": [
      "What do you want to choose? Enter red door or blue door:  red door\n"
     ]
    }
   ],
   "source": [
    "choice = (input(\"What do you want to choose? Enter red door or blue door: \"))"
   ]
  },
  {
   "cell_type": "code",
   "execution_count": 4,
   "id": "5d14b897-d234-42e9-8b63-55cbcbc2fedd",
   "metadata": {},
   "outputs": [
    {
     "name": "stdout",
     "output_type": "stream",
     "text": [
      "Behind this door, it leads to two roads, road 1 is a muddy pathway and road 2 is a well constructed pathway. Which road are you taking? \n",
      "(3) You choose road 2?\n",
      "(4) You choose road 1?\n"
     ]
    }
   ],
   "source": [
    "if choice == \"red door\": \n",
    "    #continue with the red door\n",
    "    print(\"Behind this door, it leads to two roads, road 1 is a muddy pathway and road 2 is a well constructed pathway. Which road are you taking? \")\n",
    "          \n",
    "    print(\"(3) You choose road 2?\")\n",
    "    print(\"(4) You choose road 1?\")\n",
    "    \n",
    "elif choice == \"blue door\":\n",
    "    #continue with the blue door\n",
    "    print(\"You choose the blue door. You see an old lady and and a young boy stand on opposite side of each other, who are you approaching?  \")\n",
    "    print(\"(5) You aproach the old lady?\")\n",
    "    print(\"(6) You approach the young boy?\") "
   ]
  },
  {
   "cell_type": "code",
   "execution_count": 5,
   "id": "c30b982e-08aa-47a4-958a-95b47900d956",
   "metadata": {},
   "outputs": [
    {
     "name": "stdin",
     "output_type": "stream",
     "text": [
      "what do you want to do? Enter the number:  4\n"
     ]
    }
   ],
   "source": [
    "choice = int(input(\"what do you want to do? Enter the number: \"))"
   ]
  },
  {
   "cell_type": "code",
   "execution_count": 6,
   "id": "c51bdf58-1416-431b-b042-2f039c361389",
   "metadata": {},
   "outputs": [
    {
     "name": "stdout",
     "output_type": "stream",
     "text": [
      "You choose road 1, While walking you saw a bright light straight ahead, and to the left you a pile of treasure. Which one you choosing?\n",
      "(9) Keep walking straight?\n",
      "(10) go to the treasure?\n"
     ]
    }
   ],
   "source": [
    "if choice == 3:\n",
    "    print(\"You choose road 2, while walking on that pathway you notice a little river that goes in the opposite direction with a boat right on shore. Do you take the boat and go on the river or keep on walking straight ahead?\")\n",
    "    \n",
    "    print(\"(7) Take the boat?\")\n",
    "    print(\"(8) keep walking?\")\n",
    "    \n",
    "elif choice == 4:\n",
    "    print(\"You choose road 1, While walking you saw a bright light straight ahead, and to the left you a pile of treasure. Which one you choosing?\")\n",
    "    \n",
    "    print(\"(9) Keep walking straight?\")\n",
    "    print(\"(10) go to the treasure?\")\n",
    "    \n",
    "elif choice == 5:\n",
    "    print(\"You a approach the old lady, and she gave you two choices, a dirt or water, which one are you choosing? \")\n",
    "    \n",
    "    print(\"(11) You pick water?\")\n",
    "    print(\"(12) You pick dirt?\")\n",
    "    \n",
    "elif choice == 6:\n",
    "    print(\"You approach the young boy, he ran away from you, What are you doing? \")\n",
    "    \n",
    "    print(\"(13) You run after the boy?\")\n",
    "    print(\"(14) You stand still?\")"
   ]
  },
  {
   "cell_type": "code",
   "execution_count": 7,
   "id": "e73c48b6-70fa-4683-acdb-565ec318dfa4",
   "metadata": {},
   "outputs": [
    {
     "name": "stdin",
     "output_type": "stream",
     "text": [
      "What do you want to do? Enter number:  10\n"
     ]
    }
   ],
   "source": [
    "choice = int(input(\"What do you want to do? Enter number: \"))"
   ]
  },
  {
   "cell_type": "code",
   "execution_count": 8,
   "id": "4f22824b-9a3e-415a-998f-b667811c7b15",
   "metadata": {},
   "outputs": [
    {
     "name": "stdout",
     "output_type": "stream",
     "text": [
      "You decided to go for the treasure, now you're are stuck in a trap,Calling for help but noboby never come. \n",
      "The End. \n"
     ]
    }
   ],
   "source": [
    "if choice == 7:\n",
    "    print(\"Now you on the boat in the river,you go down cliftand die. \\nThe End\")\n",
    "    \n",
    "elif choice == 8:\n",
    "    print(\"You keep on Walking straight ahead and suddenly you wake up from the dream. \\nThe End  \")\n",
    "    \n",
    "    \n",
    "elif choice == 9:\n",
    "    \n",
    "    print(\"Walking straight ahead you suddenly wake up from the dream. \\nThe End\")\n",
    "    \n",
    "elif choice == 10: \n",
    "    print(\"You decided to go for the treasure, now you're are stuck in a trap,Calling for help but noboby never come. \\nThe End. \")\n",
    "\n",
    "\n",
    "elif choice == 11:\n",
    "    print(\"You choose the water, the old lady starts laughing,You woke from the dream and the plane start crash. \\nThe End.\")\n",
    "    \n",
    "    \n",
    "elif choice == 12:\n",
    "    print(\"You choose the dirt, the old lady starts laughing,The old lady eats you. \\nThe End.\")\n",
    "\n",
    "\n",
    "elif choice == 13:\n",
    "    print(\"You decide to chase the boy,You keep on foolowing him and led you to wake up from the dream and landed to your destination. \\nThe End. \")\n",
    "    \n",
    "elif choice == 14:\n",
    "    print(\"You didn't follow the boy and now a dog is chasing you, You got kill by the dog. \\nThe End. \")\n",
    "    \n",
    "    \n",
    "    "
   ]
  },
  {
   "cell_type": "code",
   "execution_count": 9,
   "id": "c453d57d-322f-4509-92ae-4cba9978f9da",
   "metadata": {},
   "outputs": [
    {
     "data": {
      "text/plain": [
       "()"
      ]
     },
     "execution_count": 9,
     "metadata": {},
     "output_type": "execute_result"
    }
   ],
   "source": [
    "()"
   ]
  },
  {
   "cell_type": "code",
   "execution_count": 10,
   "id": "6a58a017-7205-4d9b-964e-375b28f10e63",
   "metadata": {},
   "outputs": [],
   "source": [
    "# Credit to the Class 9: ML showcase + Python basics + CYOA intro"
   ]
  }
 ],
 "metadata": {
  "kernelspec": {
   "display_name": "Python 3",
   "language": "python",
   "name": "python3"
  },
  "language_info": {
   "codemirror_mode": {
    "name": "ipython",
    "version": 3
   },
   "file_extension": ".py",
   "mimetype": "text/x-python",
   "name": "python",
   "nbconvert_exporter": "python",
   "pygments_lexer": "ipython3",
   "version": "3.8.8"
  }
 },
 "nbformat": 4,
 "nbformat_minor": 5
}
