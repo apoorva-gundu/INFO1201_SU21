{
 "cells": [
  {
   "cell_type": "code",
   "execution_count": 1,
   "metadata": {},
   "outputs": [],
   "source": [
    "# MY QUESTIONS\n",
    "# 1. What is the number of dead male characters?\n",
    "# 2. How many female characters are first appeared in april\n",
    "# 3. print the number of characters who have blue eyes and appeared more than 88 times"
   ]
  },
  {
   "cell_type": "code",
   "execution_count": 2,
   "metadata": {},
   "outputs": [],
   "source": [
    "# import the libraries we want to use\n",
    "import pandas as pd\n",
    "import numpy as np "
   ]
  },
  {
   "cell_type": "code",
   "execution_count": 3,
   "metadata": {},
   "outputs": [],
   "source": [
    "# load csv file\n",
    "superheroes = pd.read_csv(\"superhero_data.csv\", parse_dates = [\"FIRST_YEAR\"])"
   ]
  },
  {
   "cell_type": "code",
   "execution_count": 4,
   "metadata": {},
   "outputs": [
    {
     "name": "stdout",
     "output_type": "stream",
     "text": [
      "      UNIVERSE page_id                                   name  \\\n",
      "0           DC    1702             Richard Occult (New Earth)   \n",
      "1           DC  158200           Arthur Pendragon (New Earth)   \n",
      "2           DC  289378                   Bedivere (New Earth)   \n",
      "3           DC   11333  Franklin Delano Roosevelt (New Earth)   \n",
      "4           DC  342641                     Gareth (New Earth)   \n",
      "...        ...     ...                                    ...   \n",
      "23415   MARVEL      ND                  Zola Hulk (Earth-616)   \n",
      "23416   MARVEL      ND              Zola Iron Man (Earth-616)   \n",
      "23417   MARVEL      ND                  Zola Thor (Earth-616)   \n",
      "23418   MARVEL      ND                    Zoltaro (Earth-616)   \n",
      "23419   MARVEL      ND                Zora Loftus (Earth-616)   \n",
      "\n",
      "                                     urlslug               ID  \\\n",
      "0                 Richard_Occult_(New_Earth)  Secret Identity   \n",
      "1               Arthur_Pendragon_(New_Earth)  Public Identity   \n",
      "2                       Bedivere_(New_Earth)               ND   \n",
      "3      Franklin_Delano_Roosevelt_(New_Earth)  Public Identity   \n",
      "4                         Gareth_(New_Earth)               ND   \n",
      "...                                      ...              ...   \n",
      "23415                  Zola_Hulk_(Earth-616)  Secret Identity   \n",
      "23416              Zola_Iron_Man_(Earth-616)  Secret Identity   \n",
      "23417                  Zola_Thor_(Earth-616)  Secret Identity   \n",
      "23418                    Zoltaro_(Earth-616)               ND   \n",
      "23419                Zora_Loftus_(Earth-616)  Secret Identity   \n",
      "\n",
      "                 ALIGN IS_AVENGER AVENGER_STATUS AVENGER_YEAR        EYES  \\\n",
      "0                   ND         NO             ND           ND   Grey Eyes   \n",
      "1      Good Characters         NO             ND           ND  Brown Eyes   \n",
      "2                   ND         NO             ND           ND          ND   \n",
      "3      Good Characters         NO             ND           ND          ND   \n",
      "4                   ND         NO             ND           ND          ND   \n",
      "...                ...        ...            ...          ...         ...   \n",
      "23415   Bad Characters         NO             ND           ND    Red Eyes   \n",
      "23416   Bad Characters         NO             ND           ND  Black Eyes   \n",
      "23417   Bad Characters         NO             ND           ND   Blue Eyes   \n",
      "23418   Bad Characters         NO             ND           ND          ND   \n",
      "23419   Bad Characters         NO             ND           ND          ND   \n",
      "\n",
      "       ...                SEX                SEXUALITY                ALIVE  \\\n",
      "0      ...    Male Characters  Heterosexual Characters    Living Characters   \n",
      "1      ...    Male Characters  Heterosexual Characters    Living Characters   \n",
      "2      ...    Male Characters  Heterosexual Characters    Living Characters   \n",
      "3      ...    Male Characters  Heterosexual Characters    Living Characters   \n",
      "4      ...    Male Characters  Heterosexual Characters    Living Characters   \n",
      "...    ...                ...                      ...                  ...   \n",
      "23415  ...    Male Characters  Heterosexual Characters    Living Characters   \n",
      "23416  ...    Male Characters  Heterosexual Characters    Living Characters   \n",
      "23417  ...    Male Characters  Heterosexual Characters    Living Characters   \n",
      "23418  ...    Male Characters  Heterosexual Characters  Deceased Characters   \n",
      "23419  ...  Female Characters  Heterosexual Characters    Living Characters   \n",
      "\n",
      "      APPEARANCES FIRST_MONTH FIRST_YEAR DECEASED RESURRECTED Unnamed: 19  \\\n",
      "0             125    October        1935       ND          ND         NaN   \n",
      "1              41   February        1936       ND          ND         NaN   \n",
      "2              ND   February        1936       ND          ND         NaN   \n",
      "3              52      March        1936       ND          ND         NaN   \n",
      "4               1   February        1936       ND          ND         NaN   \n",
      "...           ...         ...        ...      ...         ...         ...   \n",
      "23415           1          ND         ND       ND          ND         NaN   \n",
      "23416           1          ND         ND       ND          ND         NaN   \n",
      "23417           1          ND         ND       ND          ND         NaN   \n",
      "23418           2          ND         ND       ND          ND         NaN   \n",
      "23419          ND          ND         ND       ND          ND         NaN   \n",
      "\n",
      "       Unnamed: 20  \n",
      "0              NaN  \n",
      "1              NaN  \n",
      "2              NaN  \n",
      "3              NaN  \n",
      "4              NaN  \n",
      "...            ...  \n",
      "23415          NaN  \n",
      "23416          NaN  \n",
      "23417          NaN  \n",
      "23418          NaN  \n",
      "23419          NaN  \n",
      "\n",
      "[23420 rows x 21 columns]\n"
     ]
    }
   ],
   "source": [
    "# create data frame \n",
    "df = pd.DataFrame(data = superheroes)\n",
    "\n",
    "# you can print to see the selected data\n",
    "print(df)"
   ]
  },
  {
   "cell_type": "code",
   "execution_count": 5,
   "metadata": {},
   "outputs": [],
   "source": [
    "# create list to sort out the answers to data set questions \n",
    "# 1. What is the number of dead male characters?\n",
    "\n",
    "list_of_deadmales = []"
   ]
  },
  {
   "cell_type": "code",
   "execution_count": 6,
   "metadata": {},
   "outputs": [],
   "source": [
    "num_rows = df.shape[0]"
   ]
  },
  {
   "cell_type": "code",
   "execution_count": 7,
   "metadata": {},
   "outputs": [],
   "source": [
    "# create loop\n",
    "for row in range(num_rows):\n",
    "    \n",
    "# use continue to skip cell with no data\n",
    "    if(df[\"SEX\"][row]==\"ND\"):\n",
    "        continue\n",
    "    \n",
    "    elif(df[\"SEX\"][row] == \"Male Characters\" and (df[\"ALIVE\"][row])) == \"Deceased Characters\":\n",
    "        \n",
    "        list_of_deadmales.append(df[\"name\"][row])"
   ]
  },
  {
   "cell_type": "code",
   "execution_count": 8,
   "metadata": {},
   "outputs": [
    {
     "name": "stdout",
     "output_type": "stream",
     "text": [
      "4140\n"
     ]
    }
   ],
   "source": [
    "# print the number of list_of_deadmales\n",
    "print(len(list_of_deadmales))"
   ]
  },
  {
   "cell_type": "code",
   "execution_count": 9,
   "metadata": {},
   "outputs": [],
   "source": [
    "# qustion #2\n",
    "\n",
    "# How many female characters are first appeared in april \n",
    "\n",
    "list_of_aprilfemales = []"
   ]
  },
  {
   "cell_type": "code",
   "execution_count": 10,
   "metadata": {},
   "outputs": [],
   "source": [
    "num_rowsapril = df.shape[0]"
   ]
  },
  {
   "cell_type": "code",
   "execution_count": 11,
   "metadata": {},
   "outputs": [],
   "source": [
    "# create new loop \n",
    "for row in range(num_rowsapril):\n",
    "    if(df[\"SEX\"][row]==\"ND\"):\n",
    "        continue\n",
    "        \n",
    "    elif(df[\"SEX\"][row] == \"Female Characters\" and (df[\"FIRST_MONTH\"][row])) == \"April\":\n",
    "    \n",
    "        list_of_aprilfemales.append(df[\"name\"][row])\n",
    "    \n",
    "    "
   ]
  },
  {
   "cell_type": "code",
   "execution_count": 12,
   "metadata": {},
   "outputs": [
    {
     "name": "stdout",
     "output_type": "stream",
     "text": [
      "186\n"
     ]
    }
   ],
   "source": [
    "# print number of felame characters who appeared in April \n",
    "print(len(list_of_aprilfemales))"
   ]
  },
  {
   "cell_type": "code",
   "execution_count": 13,
   "metadata": {},
   "outputs": [],
   "source": [
    "# question #3\n",
    "# print the number of characters who have blue eyes and appeared more than 88 times\n",
    "\n",
    "list_of_blue88 = []\n",
    "appear= 0"
   ]
  },
  {
   "cell_type": "code",
   "execution_count": 14,
   "metadata": {},
   "outputs": [],
   "source": [
    "num_rows88 = df.shape[0]"
   ]
  },
  {
   "cell_type": "code",
   "execution_count": 15,
   "metadata": {},
   "outputs": [],
   "source": [
    "#i put the new list in the same cell as the loop so that we don't get confused about repeatedly adding items to the list. \n",
    "updated_list_of_blue88 = []\n",
    "\n",
    "\n",
    "for row in range(num_rows88):\n",
    "    #it isn't necessary, since you're isolating a specific string later on \n",
    "    if(df[\"EYES\"][row]==\"ND\"):\n",
    "        continue\n",
    "    \n",
    "    #skipping ND appearances is critical because of the int & string mix    \n",
    "    if(df[\"APPEARANCES\"][row]==\"ND\"):\n",
    "        continue\n",
    "   \n",
    "    #the simplest fix I could think of was just placing it in a variable.    \n",
    "    c = int(df[\"APPEARANCES\"][row])\n",
    "    #checking to see it's working\n",
    "    #print(c)\n",
    "    \n",
    "    #checking to see if both conditions are true before adding it.\n",
    "    if(c > 88) and (df[\"EYES\"][row] == \"Blue Eyes\"):        \n",
    "        updated_list_of_blue88.append(df[\"name\"][row])"
   ]
  },
  {
   "cell_type": "code",
   "execution_count": 16,
   "metadata": {},
   "outputs": [
    {
     "name": "stdout",
     "output_type": "stream",
     "text": [
      "402\n"
     ]
    }
   ],
   "source": [
    "# print number of charactesr with blue eyes who have appeared more than 88 times\n",
    "print(len(updated_list_of_blue88))"
   ]
  },
  {
   "cell_type": "code",
   "execution_count": null,
   "metadata": {},
   "outputs": [],
   "source": []
  },
  {
   "cell_type": "code",
   "execution_count": null,
   "metadata": {},
   "outputs": [],
   "source": []
  }
 ],
 "metadata": {
  "kernelspec": {
   "display_name": "Python 3",
   "language": "python",
   "name": "python3"
  },
  "language_info": {
   "codemirror_mode": {
    "name": "ipython",
    "version": 3
   },
   "file_extension": ".py",
   "mimetype": "text/x-python",
   "name": "python",
   "nbconvert_exporter": "python",
   "pygments_lexer": "ipython3",
   "version": "3.8.5"
  }
 },
 "nbformat": 4,
 "nbformat_minor": 4
}
