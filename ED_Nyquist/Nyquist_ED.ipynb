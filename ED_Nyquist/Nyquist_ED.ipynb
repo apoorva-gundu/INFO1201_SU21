{
 "cells": [
  {
   "cell_type": "code",
   "execution_count": 1,
   "id": "acbed2fa-86bb-4f76-91e6-f81fd9680227",
   "metadata": {},
   "outputs": [],
   "source": [
    "# Welcome to my Exploring Data project for INFO 1201\n",
    "# Most of the code was remixed or reused from Shiva Darian's lectures and slides\n",
    "# The tables comparing three values were remixed from Michael Ghattas' code\n",
    "# I answered 3 questions in the project, which you will be able to review shortly\n",
    "# The code after the thank you are practices from class - feel free to disregard them"
   ]
  },
  {
   "cell_type": "code",
   "execution_count": 2,
   "id": "a7260fa5-9eb5-462f-bfb7-5ed94c2b7569",
   "metadata": {
    "tags": []
   },
   "outputs": [],
   "source": [
    "# I imported pandas and numpy, two libraries used in python that have functions to simplify data analysis\n",
    "import pandas as pd\n",
    "import numpy as np"
   ]
  },
  {
   "cell_type": "code",
   "execution_count": 3,
   "id": "27ac55bf-6e8a-4249-bab7-3c2e47beb7c4",
   "metadata": {
    "tags": []
   },
   "outputs": [],
   "source": [
    "# The variable superheroes means that python will use a pandas function to read the excel data sheet, organizing by the numbers in FIRST_YEAR column\n",
    "superheroes = pd.read_csv(\"superhero_data.csv\", parse_dates = [\"FIRST_YEAR\"])"
   ]
  },
  {
   "cell_type": "code",
   "execution_count": 4,
   "id": "86833bac-6cf1-4392-8ed7-72872ab7c0ce",
   "metadata": {},
   "outputs": [
    {
     "data": {
      "text/html": [
       "<div>\n",
       "<style scoped>\n",
       "    .dataframe tbody tr th:only-of-type {\n",
       "        vertical-align: middle;\n",
       "    }\n",
       "\n",
       "    .dataframe tbody tr th {\n",
       "        vertical-align: top;\n",
       "    }\n",
       "\n",
       "    .dataframe thead th {\n",
       "        text-align: right;\n",
       "    }\n",
       "</style>\n",
       "<table border=\"1\" class=\"dataframe\">\n",
       "  <thead>\n",
       "    <tr style=\"text-align: right;\">\n",
       "      <th></th>\n",
       "      <th>UNIVERSE</th>\n",
       "      <th>page_id</th>\n",
       "      <th>name</th>\n",
       "      <th>urlslug</th>\n",
       "      <th>ID</th>\n",
       "      <th>ALIGN</th>\n",
       "      <th>IS_AVENGER</th>\n",
       "      <th>AVENGER_STATUS</th>\n",
       "      <th>AVENGER_YEAR</th>\n",
       "      <th>EYES</th>\n",
       "      <th>HAIR</th>\n",
       "      <th>SEX</th>\n",
       "      <th>SEXUALITY</th>\n",
       "      <th>ALIVE</th>\n",
       "      <th>APPEARANCES</th>\n",
       "      <th>FIRST_MONTH</th>\n",
       "      <th>FIRST_YEAR</th>\n",
       "      <th>DECEASED</th>\n",
       "      <th>RESURRECTED</th>\n",
       "    </tr>\n",
       "  </thead>\n",
       "  <tbody>\n",
       "    <tr>\n",
       "      <th>0</th>\n",
       "      <td>DC</td>\n",
       "      <td>1702</td>\n",
       "      <td>Richard Occult (New Earth)</td>\n",
       "      <td>Richard_Occult_(New_Earth)</td>\n",
       "      <td>Secret Identity</td>\n",
       "      <td>ND</td>\n",
       "      <td>NO</td>\n",
       "      <td>ND</td>\n",
       "      <td>ND</td>\n",
       "      <td>Grey Eyes</td>\n",
       "      <td>Black Hair</td>\n",
       "      <td>Male Characters</td>\n",
       "      <td>Heterosexual Characters</td>\n",
       "      <td>Living Characters</td>\n",
       "      <td>125</td>\n",
       "      <td>October</td>\n",
       "      <td>1935</td>\n",
       "      <td>ND</td>\n",
       "      <td>ND</td>\n",
       "    </tr>\n",
       "    <tr>\n",
       "      <th>1</th>\n",
       "      <td>DC</td>\n",
       "      <td>158200</td>\n",
       "      <td>Arthur Pendragon (New Earth)</td>\n",
       "      <td>Arthur_Pendragon_(New_Earth)</td>\n",
       "      <td>Public Identity</td>\n",
       "      <td>Good Characters</td>\n",
       "      <td>NO</td>\n",
       "      <td>ND</td>\n",
       "      <td>ND</td>\n",
       "      <td>Brown Eyes</td>\n",
       "      <td>Brown Hair</td>\n",
       "      <td>Male Characters</td>\n",
       "      <td>Heterosexual Characters</td>\n",
       "      <td>Living Characters</td>\n",
       "      <td>41</td>\n",
       "      <td>February</td>\n",
       "      <td>1936</td>\n",
       "      <td>ND</td>\n",
       "      <td>ND</td>\n",
       "    </tr>\n",
       "    <tr>\n",
       "      <th>2</th>\n",
       "      <td>DC</td>\n",
       "      <td>289378</td>\n",
       "      <td>Bedivere (New Earth)</td>\n",
       "      <td>Bedivere_(New_Earth)</td>\n",
       "      <td>ND</td>\n",
       "      <td>ND</td>\n",
       "      <td>NO</td>\n",
       "      <td>ND</td>\n",
       "      <td>ND</td>\n",
       "      <td>ND</td>\n",
       "      <td>ND</td>\n",
       "      <td>Male Characters</td>\n",
       "      <td>Heterosexual Characters</td>\n",
       "      <td>Living Characters</td>\n",
       "      <td>ND</td>\n",
       "      <td>February</td>\n",
       "      <td>1936</td>\n",
       "      <td>ND</td>\n",
       "      <td>ND</td>\n",
       "    </tr>\n",
       "    <tr>\n",
       "      <th>3</th>\n",
       "      <td>DC</td>\n",
       "      <td>11333</td>\n",
       "      <td>Franklin Delano Roosevelt (New Earth)</td>\n",
       "      <td>Franklin_Delano_Roosevelt_(New_Earth)</td>\n",
       "      <td>Public Identity</td>\n",
       "      <td>Good Characters</td>\n",
       "      <td>NO</td>\n",
       "      <td>ND</td>\n",
       "      <td>ND</td>\n",
       "      <td>ND</td>\n",
       "      <td>Grey Hair</td>\n",
       "      <td>Male Characters</td>\n",
       "      <td>Heterosexual Characters</td>\n",
       "      <td>Living Characters</td>\n",
       "      <td>52</td>\n",
       "      <td>March</td>\n",
       "      <td>1936</td>\n",
       "      <td>ND</td>\n",
       "      <td>ND</td>\n",
       "    </tr>\n",
       "    <tr>\n",
       "      <th>4</th>\n",
       "      <td>DC</td>\n",
       "      <td>342641</td>\n",
       "      <td>Gareth (New Earth)</td>\n",
       "      <td>Gareth_(New_Earth)</td>\n",
       "      <td>ND</td>\n",
       "      <td>ND</td>\n",
       "      <td>NO</td>\n",
       "      <td>ND</td>\n",
       "      <td>ND</td>\n",
       "      <td>ND</td>\n",
       "      <td>ND</td>\n",
       "      <td>Male Characters</td>\n",
       "      <td>Heterosexual Characters</td>\n",
       "      <td>Living Characters</td>\n",
       "      <td>1</td>\n",
       "      <td>February</td>\n",
       "      <td>1936</td>\n",
       "      <td>ND</td>\n",
       "      <td>ND</td>\n",
       "    </tr>\n",
       "  </tbody>\n",
       "</table>\n",
       "</div>"
      ],
      "text/plain": [
       "  UNIVERSE page_id                                   name  \\\n",
       "0       DC    1702             Richard Occult (New Earth)   \n",
       "1       DC  158200           Arthur Pendragon (New Earth)   \n",
       "2       DC  289378                   Bedivere (New Earth)   \n",
       "3       DC   11333  Franklin Delano Roosevelt (New Earth)   \n",
       "4       DC  342641                     Gareth (New Earth)   \n",
       "\n",
       "                                 urlslug               ID            ALIGN  \\\n",
       "0             Richard_Occult_(New_Earth)  Secret Identity               ND   \n",
       "1           Arthur_Pendragon_(New_Earth)  Public Identity  Good Characters   \n",
       "2                   Bedivere_(New_Earth)               ND               ND   \n",
       "3  Franklin_Delano_Roosevelt_(New_Earth)  Public Identity  Good Characters   \n",
       "4                     Gareth_(New_Earth)               ND               ND   \n",
       "\n",
       "  IS_AVENGER AVENGER_STATUS AVENGER_YEAR        EYES        HAIR  \\\n",
       "0         NO             ND           ND   Grey Eyes  Black Hair   \n",
       "1         NO             ND           ND  Brown Eyes  Brown Hair   \n",
       "2         NO             ND           ND          ND          ND   \n",
       "3         NO             ND           ND          ND   Grey Hair   \n",
       "4         NO             ND           ND          ND          ND   \n",
       "\n",
       "               SEX                SEXUALITY              ALIVE APPEARANCES  \\\n",
       "0  Male Characters  Heterosexual Characters  Living Characters         125   \n",
       "1  Male Characters  Heterosexual Characters  Living Characters          41   \n",
       "2  Male Characters  Heterosexual Characters  Living Characters          ND   \n",
       "3  Male Characters  Heterosexual Characters  Living Characters          52   \n",
       "4  Male Characters  Heterosexual Characters  Living Characters           1   \n",
       "\n",
       "  FIRST_MONTH FIRST_YEAR DECEASED RESURRECTED  \n",
       "0    October        1935       ND          ND  \n",
       "1   February        1936       ND          ND  \n",
       "2   February        1936       ND          ND  \n",
       "3      March        1936       ND          ND  \n",
       "4   February        1936       ND          ND  "
      ]
     },
     "execution_count": 4,
     "metadata": {},
     "output_type": "execute_result"
    }
   ],
   "source": [
    "# This is a viewing of the excel sheet to make sure everything is working\n",
    "superheroes.head()"
   ]
  },
  {
   "cell_type": "code",
   "execution_count": 5,
   "id": "750d0f77-7e67-48af-a1bd-981a8cab0d5f",
   "metadata": {},
   "outputs": [
    {
     "name": "stdout",
     "output_type": "stream",
     "text": [
      "After looking through the data of Marvel and DC characters, I developed some questions I wanted to answer.\n",
      "~~~~~~~~~~~~~~~~~~~~~~~~~~~~~~~~~~~~~~~~~~~~~~~~~~~~~~~~~~~~~~~\n",
      "Below is some general information for each of the keys I used:\n"
     ]
    }
   ],
   "source": [
    "print(\"After looking through the data of Marvel and DC characters, I developed some questions I wanted to answer.\\n~~~~~~~~~~~~~~~~~~~~~~~~~~~~~~~~~~~~~~~~~~~~~~~~~~~~~~~~~~~~~~~\\nBelow is some general information for each of the keys I used:\")"
   ]
  },
  {
   "cell_type": "code",
   "execution_count": 6,
   "id": "82b7eefc-e5de-4cc8-b6d5-aa41e8b9cac0",
   "metadata": {},
   "outputs": [
    {
     "name": "stdout",
     "output_type": "stream",
     "text": [
      "Total number of characters: 23420\n"
     ]
    }
   ],
   "source": [
    "# The length of the columns or the number of rows are calculated and turned into a string to read\n",
    "print(\"Total number of characters: \" + str(len(superheroes)))"
   ]
  },
  {
   "cell_type": "code",
   "execution_count": 7,
   "id": "aa6a957f-db39-4f5d-aa86-d99515e52a83",
   "metadata": {},
   "outputs": [
    {
     "name": "stdout",
     "output_type": "stream",
     "text": [
      "Total number of characters per gender:\n",
      "Male Characters           16521\n",
      "Female Characters          5853\n",
      "ND                          978\n",
      "Agender Characters           45\n",
      "Genderless Characters        20\n",
      "Genderfluid Characters        2\n",
      "Transgender Characters        1\n",
      "Name: SEX, dtype: int64\n"
     ]
    }
   ],
   "source": [
    "# the variable is a list of counts for each value in a key\n",
    "print(\"Total number of characters per gender:\")\n",
    "sex_counts = superheroes[\"SEX\"].value_counts()\n",
    "print(sex_counts)"
   ]
  },
  {
   "cell_type": "code",
   "execution_count": 8,
   "id": "88945cb0-83e5-4200-9022-40bc929fc808",
   "metadata": {},
   "outputs": [
    {
     "name": "stdout",
     "output_type": "stream",
     "text": [
      "Total number of characters per sexuality:\n",
      "Heterosexual Characters    23118\n",
      "ND                           150\n",
      "Homosexual Characters        118\n",
      "Bisexual Characters           29\n",
      "Transgender Characters         2\n",
      "Genderfluid Characters         1\n",
      "Transvestites                  1\n",
      "Pansexual Characters           1\n",
      "Name: SEXUALITY, dtype: int64\n"
     ]
    }
   ],
   "source": [
    "print(\"Total number of characters per sexuality:\")\n",
    "sexuality_counts = superheroes[\"SEXUALITY\"].value_counts()\n",
    "print(sexuality_counts)"
   ]
  },
  {
   "cell_type": "code",
   "execution_count": 9,
   "id": "97e39a81-f015-4fbe-b4a5-aa75852f3e00",
   "metadata": {},
   "outputs": [
    {
     "name": "stdout",
     "output_type": "stream",
     "text": [
      "Total number of characters per moral alignment:\n",
      "Bad Characters        9616\n",
      "Good Characters       7584\n",
      "ND                    3437\n",
      "Neutral Characters    2779\n",
      "Reformed Criminals       3\n",
      "Name: ALIGN, dtype: int64\n"
     ]
    }
   ],
   "source": [
    "print(\"Total number of characters per moral alignment:\")\n",
    "moral_counts = superheroes[\"ALIGN\"].value_counts()\n",
    "print(moral_counts)"
   ]
  },
  {
   "cell_type": "code",
   "execution_count": 10,
   "id": "8fd9200d-188f-4641-94dc-d1711fb55627",
   "metadata": {},
   "outputs": [
    {
     "name": "stdout",
     "output_type": "stream",
     "text": [
      "Total number of characters per eye color:\n",
      "ND                                          13394\n",
      "Blue Eyes                                    3127\n",
      "Brown Eyes                                   2848\n",
      "Black Eyes                                    972\n",
      "Green Eyes                                    917\n",
      "Red Eyes                                      719\n",
      "White Eyes                                    517\n",
      "Yellow Eyes                                   343\n",
      "Grey Eyes                                     138\n",
      "Hazel Eyes                                    102\n",
      "Variable Eyes                                  49\n",
      "Photocellular Eyes                             48\n",
      "Purple Eyes                                    46\n",
      "Orange Eyes                                    35\n",
      "Pink Eyes                                      28\n",
      "Gold Eyes                                      24\n",
      "Violet Eyes                                    23\n",
      "One Eye                                        21\n",
      "Amber Eyes                                     15\n",
      "Silver Eyes                                    12\n",
      "No Eyes                                         7\n",
      "Auburn Hair                                     7\n",
      "Multiple Eyes                                   7\n",
      "Yellow Eyeballs                                 6\n",
      "Black Eyeballs                                  3\n",
      "Magenta Eyes                                    2\n",
      "Hazel Eyes; White Eyes                          1\n",
      "Variable                                        1\n",
      "Brown Eyes formerly Blue Eyes                   1\n",
      "Blue Eyes formerly Green                        1\n",
      "Red Eyes formerly Blue Eyes                     1\n",
      "Brown Eyes formerly Amber formerly Green        1\n",
      "Compound Eyes                                   1\n",
      "Name: EYES, dtype: int64\n"
     ]
    }
   ],
   "source": [
    "print(\"Total number of characters per eye color:\")\n",
    "eye_counts = superheroes[\"EYES\"].value_counts()\n",
    "print(eye_counts)"
   ]
  },
  {
   "cell_type": "code",
   "execution_count": 11,
   "id": "c5606474-84bd-420a-b785-e18913c1fcda",
   "metadata": {},
   "outputs": [
    {
     "name": "stdout",
     "output_type": "stream",
     "text": [
      "Total number of characters per identity:\n",
      "Secret Identity                  8766\n",
      "Public Identity                  7037\n",
      "ND                               5784\n",
      "No Dual Identity                 1802\n",
      "Known to Authorities Identity      21\n",
      "Identity Unknown                    9\n",
      "Nathaniel Richards                  1\n",
      "Name: ID, dtype: int64\n",
      "~~~~~~~~~~~~~~~~~~~~~~~~~~~~~~~~~~~~~~~~~~~~~~~~~~~~~~~~~~~~~~~\n",
      "Now, let's answer some questions!\n"
     ]
    }
   ],
   "source": [
    "print(\"Total number of characters per identity:\")\n",
    "id_counts = superheroes[\"ID\"].value_counts()\n",
    "print(id_counts)\n",
    "print(\"~~~~~~~~~~~~~~~~~~~~~~~~~~~~~~~~~~~~~~~~~~~~~~~~~~~~~~~~~~~~~~~\\nNow, let's answer some questions!\")"
   ]
  },
  {
   "cell_type": "code",
   "execution_count": 12,
   "id": "e181b4a2-3e1a-4aa9-8151-fa27d87823b6",
   "metadata": {},
   "outputs": [
    {
     "name": "stdout",
     "output_type": "stream",
     "text": [
      "First question:\n",
      "What percentage of female characters with a bad alignment have secret identities?\n",
      "\n",
      "ALIGN False       True       \n",
      "ID    False True  False True \n",
      "SEX                          \n",
      "False  6545  2979  4414  3629\n",
      "True   2983  1297   712   861\n",
      "\n",
      "712+861 = 1573\n",
      "(861/1573)*100 ~ 54.74 percent of female characters with a bad alignment have secret identities\n"
     ]
    }
   ],
   "source": [
    "print(\"First question:\\nWhat percentage of female characters with a bad alignment have secret identities?\\n\")\n",
    "# a crosstab compares the frequency of two or more values (whether they are present or not), even if they are from different keys\n",
    "# big thanks to Ghattas for showcasing his work and showing how three variables can be compared in a crosstab\n",
    "secretbadfemale= pd.crosstab(index = superheroes[\"SEX\"] == (\"Female Characters\"), columns = [superheroes[\"ALIGN\"] == (\"Bad Characters\"), superheroes[\"ID\"] == (\"Secret Identity\")])\n",
    "#I couldn't get the code below to work so that the table would be easier to read\n",
    "#secretbadfemale.index = [\"Not\", \"Women\"]\n",
    "#secretbadfemale.columns = ([\"Not\", \"Bad\"], [\"Not\", \"Secret\"])\n",
    "print(secretbadfemale)\n",
    "\n",
    "print(\"\\n712+861 = 1573\\n(861/1573)*100 ~ 54.74 percent of female characters with a bad alignment have secret identities\")"
   ]
  },
  {
   "cell_type": "code",
   "execution_count": 13,
   "id": "a8bf5b1b-ba39-4142-8fe9-c1322b22b312",
   "metadata": {},
   "outputs": [
    {
     "name": "stdout",
     "output_type": "stream",
     "text": [
      "Next question:\n",
      "What percentage of neutral characters have black or brown eyes?\n",
      "\n",
      "EYES   False       True \n",
      "EYES   False True  False\n",
      "ALIGN                   \n",
      "False  17349  2469   823\n",
      "True    2251   379   149\n",
      "\n",
      "149+379 = 528\n",
      "(528/2779)*100 ~ 19.00 percent of neutral characters have black or brown eyes\n"
     ]
    }
   ],
   "source": [
    "print(\"Next question:\\nWhat percentage of neutral characters have black or brown eyes?\\n\")\n",
    "neutralblackbrown = pd.crosstab(index = superheroes[\"ALIGN\"] == (\"Neutral Characters\"), columns = [superheroes[\"EYES\"] == (\"Black Eyes\"), superheroes[\"EYES\"] == (\"Brown Eyes\")])\n",
    "print(neutralblackbrown)\n",
    "\n",
    "print(\"\\n149+379 = 528\\n(528/2779)*100 ~ 19.00 percent of neutral characters have black or brown eyes\")"
   ]
  },
  {
   "cell_type": "code",
   "execution_count": 14,
   "id": "a3842e49-836a-4da3-84f5-1c27b9dc466e",
   "metadata": {},
   "outputs": [
    {
     "name": "stdout",
     "output_type": "stream",
     "text": [
      "Final question:\n",
      "What percentage of homosexual characters are male?\n",
      "\n",
      "          Not Homosexual  Homosexual\n",
      "Not Male            6853          46\n",
      "Male               16449          72\n",
      "\n",
      "(72/118)*100 ~ 61.02 percent of homosexual characters are male\n",
      "~~~~~~~~~~~~~~~~~~~~~~~~~~~~~~~~~~~~~~~~~~~~~~~~~~~~~~~~~~~~~~~\n",
      "Thank you for reading!\n"
     ]
    }
   ],
   "source": [
    "print(\"Final question:\\nWhat percentage of homosexual characters are male?\\n\")\n",
    "# by using index and columns, the true/false labels can be redefined to make reading the crosstab easier\n",
    "homosexualmale = pd.crosstab(index = superheroes[\"SEX\"] == (\"Male Characters\"), columns = superheroes[\"SEXUALITY\"] == (\"Homosexual Characters\"))\n",
    "homosexualmale.columns = [\"Not Homosexual\", \"Homosexual\"]\n",
    "homosexualmale.index = [\"Not Male\", \"Male\"]\n",
    "print(homosexualmale)\n",
    "\n",
    "print(\"\\n(72/118)*100 ~ 61.02 percent of homosexual characters are male\\n~~~~~~~~~~~~~~~~~~~~~~~~~~~~~~~~~~~~~~~~~~~~~~~~~~~~~~~~~~~~~~~\\nThank you for reading!\")"
   ]
  },
  {
   "cell_type": "code",
   "execution_count": 15,
   "id": "ebb77540-ae35-4adb-a816-fbe001e1971d",
   "metadata": {},
   "outputs": [],
   "source": [
    "# The rest of the code was done in class and is being kept for future reference, please disregard it for grading :)"
   ]
  },
  {
   "cell_type": "code",
   "execution_count": 16,
   "id": "8b0cb3cc-41aa-44ae-9588-3a7110e06778",
   "metadata": {
    "tags": []
   },
   "outputs": [],
   "source": [
    "good_bad = pd.crosstab(superheroes[\"FIRST_YEAR\"], superheroes[\"ALIGN\"])\n",
    "#print(good_bad)"
   ]
  },
  {
   "cell_type": "code",
   "execution_count": 17,
   "id": "d562d817-5c8a-4aa5-9b50-3db776a08f07",
   "metadata": {
    "tags": []
   },
   "outputs": [],
   "source": [
    "bad_hair = pd.crosstab(superheroes[\"ALIGN\"], superheroes[\"HAIR\"])\n",
    "#print(bad_hair)"
   ]
  },
  {
   "cell_type": "code",
   "execution_count": 18,
   "id": "5337db05-0904-44ae-ad53-81f3e38a9123",
   "metadata": {},
   "outputs": [],
   "source": [
    "creepy_villain = pd.crosstab(superheroes[\"EYES\"] == \"Violet Eyes\", superheroes[\"HAIR\"] == \"Red Hair\")\n",
    "#print(creepy_villain)"
   ]
  },
  {
   "cell_type": "code",
   "execution_count": 19,
   "id": "9b8bfe5a-fa90-4851-80be-9e1b8ed3e79f",
   "metadata": {},
   "outputs": [],
   "source": [
    "#this doesn't work\n",
    "creepy_villain2 = pd.crosstab(superheroes[\"EYES\"] == (\"Red Eyes\" or \"Blue Eyes\"), superheroes[\"SEX\"] == \"Male Characters\")\n",
    "#print(creepy_villain2)"
   ]
  },
  {
   "cell_type": "code",
   "execution_count": 20,
   "id": "3459ef6e-ac12-4639-bad8-9229b4e5bc6e",
   "metadata": {},
   "outputs": [],
   "source": [
    "creepy_villain3 = pd.crosstab(superheroes[\"EYES\"] == (\"Red Eyes\"), superheroes[\"SEX\"] == \"Male Characters\")\n",
    "#print(creepy_villain3)"
   ]
  },
  {
   "cell_type": "code",
   "execution_count": 21,
   "id": "38aa333b-a224-469a-b253-2ea1b0d04907",
   "metadata": {
    "tags": []
   },
   "outputs": [],
   "source": [
    "#dataframe builds a functional table from the csv (using lists). we use data to perform operations\n",
    "df = pd.DataFrame(data = superheroes)\n",
    "#print(df)"
   ]
  },
  {
   "cell_type": "code",
   "execution_count": 22,
   "id": "01b19396-6945-4eec-86a4-72cfbdb1714a",
   "metadata": {
    "tags": []
   },
   "outputs": [],
   "source": [
    "#listing names of female characters that appear more than 100 times\n",
    "#initialize a blank list\n",
    "\n",
    "list_name = []\n",
    "\n",
    "#.shape[0] gives number of rows, .shape[1] gives number of columns\n",
    "num_rows = df.shape[0]\n",
    "\n",
    "#to print out row 0 of appearances column\n",
    "#print(df[\"APPEARANCES\"] [0])\n",
    "\n",
    "for row in range(num_rows):\n",
    "    if(df[\"APPEARANCES\"][row]==\"ND\"):\n",
    "        continue\n",
    "    elif (df[\"SEX\"][row] == \"Female Characters\" and int(df[\"APPEARANCES\"][row])) > 100:\n",
    "        list_name.append(df[\"name\"][row])\n",
    "        \n",
    "#print(list_name)\n",
    "#build dictionary that takes universe that character is from (key), and the number of appearances\n",
    "#dictionary_name = {}\n",
    "#for item in list_name:"
   ]
  },
  {
   "cell_type": "code",
   "execution_count": 23,
   "id": "f07f49c9-77d4-4476-9981-0c75c9a0f68e",
   "metadata": {},
   "outputs": [],
   "source": [
    "import csv"
   ]
  },
  {
   "cell_type": "code",
   "execution_count": 24,
   "id": "7e077325-ffa8-4cb5-a3d6-d6cf528b0ba4",
   "metadata": {
    "tags": []
   },
   "outputs": [],
   "source": [
    "#when shiva uploads it, she'll put in the different modes with description\n",
    "file = open(\"superhero_data.csv\", \"r\")\n",
    "reader = csv.reader(file)\n",
    "list = []\n",
    "\n",
    "#make a list of all female characters appearing more than 100 times\n",
    "#use a regular for loop (not range)\n",
    "\n",
    "for row in reader:\n",
    "    #print(row)\n",
    "    #break\n",
    "    if(row[14] == \"ND\"):\n",
    "        continue\n",
    "    elif((row[11]==\"Female Characters\") and int(row[14])>100):\n",
    "        list.append(row[2])\n",
    "        \n",
    "#print (list)"
   ]
  },
  {
   "cell_type": "code",
   "execution_count": 25,
   "id": "1a928a19-9c06-413a-83e2-142762ce3c9f",
   "metadata": {},
   "outputs": [],
   "source": [
    "# build a dictionary to take universe that character is from (key), and the number of appearances\n",
    "dictionary_name = {}\n",
    "\n",
    "for item in list:\n",
    "    #if there is no parentheses, then skip it\n",
    "    if(\"(\" not in item):\n",
    "        continue\n",
    "    #when splitting, get 2 parts of the split: 0 (left) 1 (right)\n",
    "    universe_name = item.split(\"(\")[1][:-1]\n",
    "    \n",
    "    #if universe is already in dictionary, add 1 to the tally for the universe\n",
    "    if universe_name in dictionary_name:\n",
    "        dictionary_name[universe_name] += 1\n",
    "        \n",
    "    #if universe name isn't in dictionary yet, we want to add it (put first tally down)\n",
    "    #syntax for adding to a dictionary is dictionary[key] = value\n",
    "    else: \n",
    "        dictionary_name[universe_name] = 1\n",
    "        \n",
    "#print(dictionary_name)"
   ]
  }
 ],
 "metadata": {
  "kernelspec": {
   "display_name": "Python 3",
   "language": "python",
   "name": "python3"
  },
  "language_info": {
   "codemirror_mode": {
    "name": "ipython",
    "version": 3
   },
   "file_extension": ".py",
   "mimetype": "text/x-python",
   "name": "python",
   "nbconvert_exporter": "python",
   "pygments_lexer": "ipython3",
   "version": "3.8.8"
  }
 },
 "nbformat": 4,
 "nbformat_minor": 5
}
