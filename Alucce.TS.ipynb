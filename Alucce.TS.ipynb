{
 "cells": [
  {
   "cell_type": "code",
   "execution_count": 14,
   "id": "729e11e0-40c5-471b-b6b3-2df38c5be1ee",
   "metadata": {},
   "outputs": [],
   "source": [
    "#import the libraries we want to use\n",
    "import pandas as pd\n",
    "import numpy as np\n",
    "import matplotlib.pyplot as plt \n",
    "\n",
    "#this will display graths in line \n",
    "%matplotlib inline\n",
    "#specifiying how large to show the figure\n",
    "plt.rcParams[\"figure.figsize\"] =(8,6)"
   ]
  },
  {
   "cell_type": "code",
   "execution_count": 19,
   "id": "45c6faf6-3873-4861-b31e-a3e1289705d9",
   "metadata": {},
   "outputs": [],
   "source": [
    "superheros = pd.read_csv(\"superhero_vz_data.csv\" , parse_dates = [\"FIRST_YEAR\"])"
   ]
  },
  {
   "cell_type": "code",
   "execution_count": 16,
   "id": "e6877bec-75c3-4b6c-8e06-bc9f235bff75",
   "metadata": {},
   "outputs": [
    {
     "data": {
      "text/html": [
       "<div>\n",
       "<style scoped>\n",
       "    .dataframe tbody tr th:only-of-type {\n",
       "        vertical-align: middle;\n",
       "    }\n",
       "\n",
       "    .dataframe tbody tr th {\n",
       "        vertical-align: top;\n",
       "    }\n",
       "\n",
       "    .dataframe thead th {\n",
       "        text-align: right;\n",
       "    }\n",
       "</style>\n",
       "<table border=\"1\" class=\"dataframe\">\n",
       "  <thead>\n",
       "    <tr style=\"text-align: right;\">\n",
       "      <th></th>\n",
       "      <th>UNIVERSE</th>\n",
       "      <th>page_id</th>\n",
       "      <th>name</th>\n",
       "      <th>urlslug</th>\n",
       "      <th>ID</th>\n",
       "      <th>ALIGN</th>\n",
       "      <th>IS_AVENGER</th>\n",
       "      <th>AVENGER_STATUS</th>\n",
       "      <th>AVENGER_YEAR</th>\n",
       "      <th>EYES</th>\n",
       "      <th>...</th>\n",
       "      <th>SEX</th>\n",
       "      <th>SEXUALITY</th>\n",
       "      <th>ALIVE</th>\n",
       "      <th>APPEARANCES</th>\n",
       "      <th>FIRST_MONTH</th>\n",
       "      <th>FIRST_YEAR</th>\n",
       "      <th>DECEASED</th>\n",
       "      <th>RESURRECTED</th>\n",
       "      <th>Unnamed: 19</th>\n",
       "      <th>Unnamed: 20</th>\n",
       "    </tr>\n",
       "  </thead>\n",
       "  <tbody>\n",
       "    <tr>\n",
       "      <th>0</th>\n",
       "      <td>DC</td>\n",
       "      <td>1702</td>\n",
       "      <td>Richard Occult (New Earth)</td>\n",
       "      <td>Richard_Occult_(New_Earth)</td>\n",
       "      <td>Secret Identity</td>\n",
       "      <td>ND</td>\n",
       "      <td>NO</td>\n",
       "      <td>ND</td>\n",
       "      <td>ND</td>\n",
       "      <td>Grey Eyes</td>\n",
       "      <td>...</td>\n",
       "      <td>Male Characters</td>\n",
       "      <td>Heterosexual Characters</td>\n",
       "      <td>Living Characters</td>\n",
       "      <td>125</td>\n",
       "      <td>October</td>\n",
       "      <td>1935</td>\n",
       "      <td>ND</td>\n",
       "      <td>ND</td>\n",
       "      <td>NaN</td>\n",
       "      <td>NaN</td>\n",
       "    </tr>\n",
       "    <tr>\n",
       "      <th>1</th>\n",
       "      <td>DC</td>\n",
       "      <td>158200</td>\n",
       "      <td>Arthur Pendragon (New Earth)</td>\n",
       "      <td>Arthur_Pendragon_(New_Earth)</td>\n",
       "      <td>Public Identity</td>\n",
       "      <td>Good Characters</td>\n",
       "      <td>NO</td>\n",
       "      <td>ND</td>\n",
       "      <td>ND</td>\n",
       "      <td>Brown Eyes</td>\n",
       "      <td>...</td>\n",
       "      <td>Male Characters</td>\n",
       "      <td>Heterosexual Characters</td>\n",
       "      <td>Living Characters</td>\n",
       "      <td>41</td>\n",
       "      <td>February</td>\n",
       "      <td>1936</td>\n",
       "      <td>ND</td>\n",
       "      <td>ND</td>\n",
       "      <td>NaN</td>\n",
       "      <td>NaN</td>\n",
       "    </tr>\n",
       "    <tr>\n",
       "      <th>2</th>\n",
       "      <td>DC</td>\n",
       "      <td>289378</td>\n",
       "      <td>Bedivere (New Earth)</td>\n",
       "      <td>Bedivere_(New_Earth)</td>\n",
       "      <td>ND</td>\n",
       "      <td>ND</td>\n",
       "      <td>NO</td>\n",
       "      <td>ND</td>\n",
       "      <td>ND</td>\n",
       "      <td>ND</td>\n",
       "      <td>...</td>\n",
       "      <td>Male Characters</td>\n",
       "      <td>Heterosexual Characters</td>\n",
       "      <td>Living Characters</td>\n",
       "      <td>ND</td>\n",
       "      <td>February</td>\n",
       "      <td>1936</td>\n",
       "      <td>ND</td>\n",
       "      <td>ND</td>\n",
       "      <td>NaN</td>\n",
       "      <td>NaN</td>\n",
       "    </tr>\n",
       "    <tr>\n",
       "      <th>3</th>\n",
       "      <td>DC</td>\n",
       "      <td>11333</td>\n",
       "      <td>Franklin Delano Roosevelt (New Earth)</td>\n",
       "      <td>Franklin_Delano_Roosevelt_(New_Earth)</td>\n",
       "      <td>Public Identity</td>\n",
       "      <td>Good Characters</td>\n",
       "      <td>NO</td>\n",
       "      <td>ND</td>\n",
       "      <td>ND</td>\n",
       "      <td>ND</td>\n",
       "      <td>...</td>\n",
       "      <td>Male Characters</td>\n",
       "      <td>Heterosexual Characters</td>\n",
       "      <td>Living Characters</td>\n",
       "      <td>52</td>\n",
       "      <td>March</td>\n",
       "      <td>1936</td>\n",
       "      <td>ND</td>\n",
       "      <td>ND</td>\n",
       "      <td>NaN</td>\n",
       "      <td>NaN</td>\n",
       "    </tr>\n",
       "    <tr>\n",
       "      <th>4</th>\n",
       "      <td>DC</td>\n",
       "      <td>342641</td>\n",
       "      <td>Gareth (New Earth)</td>\n",
       "      <td>Gareth_(New_Earth)</td>\n",
       "      <td>ND</td>\n",
       "      <td>ND</td>\n",
       "      <td>NO</td>\n",
       "      <td>ND</td>\n",
       "      <td>ND</td>\n",
       "      <td>ND</td>\n",
       "      <td>...</td>\n",
       "      <td>Male Characters</td>\n",
       "      <td>Heterosexual Characters</td>\n",
       "      <td>Living Characters</td>\n",
       "      <td>1</td>\n",
       "      <td>February</td>\n",
       "      <td>1936</td>\n",
       "      <td>ND</td>\n",
       "      <td>ND</td>\n",
       "      <td>NaN</td>\n",
       "      <td>NaN</td>\n",
       "    </tr>\n",
       "  </tbody>\n",
       "</table>\n",
       "<p>5 rows × 21 columns</p>\n",
       "</div>"
      ],
      "text/plain": [
       "  UNIVERSE page_id                                   name  \\\n",
       "0       DC    1702             Richard Occult (New Earth)   \n",
       "1       DC  158200           Arthur Pendragon (New Earth)   \n",
       "2       DC  289378                   Bedivere (New Earth)   \n",
       "3       DC   11333  Franklin Delano Roosevelt (New Earth)   \n",
       "4       DC  342641                     Gareth (New Earth)   \n",
       "\n",
       "                                 urlslug               ID            ALIGN  \\\n",
       "0             Richard_Occult_(New_Earth)  Secret Identity               ND   \n",
       "1           Arthur_Pendragon_(New_Earth)  Public Identity  Good Characters   \n",
       "2                   Bedivere_(New_Earth)               ND               ND   \n",
       "3  Franklin_Delano_Roosevelt_(New_Earth)  Public Identity  Good Characters   \n",
       "4                     Gareth_(New_Earth)               ND               ND   \n",
       "\n",
       "  IS_AVENGER AVENGER_STATUS AVENGER_YEAR        EYES  ...              SEX  \\\n",
       "0         NO             ND           ND   Grey Eyes  ...  Male Characters   \n",
       "1         NO             ND           ND  Brown Eyes  ...  Male Characters   \n",
       "2         NO             ND           ND          ND  ...  Male Characters   \n",
       "3         NO             ND           ND          ND  ...  Male Characters   \n",
       "4         NO             ND           ND          ND  ...  Male Characters   \n",
       "\n",
       "                 SEXUALITY              ALIVE APPEARANCES FIRST_MONTH  \\\n",
       "0  Heterosexual Characters  Living Characters         125    October    \n",
       "1  Heterosexual Characters  Living Characters          41   February    \n",
       "2  Heterosexual Characters  Living Characters          ND   February    \n",
       "3  Heterosexual Characters  Living Characters          52      March    \n",
       "4  Heterosexual Characters  Living Characters           1   February    \n",
       "\n",
       "  FIRST_YEAR DECEASED RESURRECTED Unnamed: 19  Unnamed: 20  \n",
       "0       1935       ND          ND         NaN          NaN  \n",
       "1       1936       ND          ND         NaN          NaN  \n",
       "2       1936       ND          ND         NaN          NaN  \n",
       "3       1936       ND          ND         NaN          NaN  \n",
       "4       1936       ND          ND         NaN          NaN  \n",
       "\n",
       "[5 rows x 21 columns]"
      ]
     },
     "execution_count": 16,
     "metadata": {},
     "output_type": "execute_result"
    }
   ],
   "source": [
    "superheros.head()"
   ]
  },
  {
   "cell_type": "code",
   "execution_count": 4,
   "id": "08e65380-6fbb-428b-ac58-bfbc65e6ca05",
   "metadata": {},
   "outputs": [],
   "source": [
    "## plot #1: When was most Superheros introduced?"
   ]
  },
  {
   "cell_type": "code",
   "execution_count": 5,
   "id": "c4a74547-6aaa-4e50-961e-25286b9b3f50",
   "metadata": {},
   "outputs": [
    {
     "data": {
      "text/plain": [
       "UNIVERSE              0\n",
       "page_id               0\n",
       "name                  0\n",
       "urlslug               0\n",
       "ID                    0\n",
       "ALIGN                 1\n",
       "IS_AVENGER            0\n",
       "AVENGER_STATUS        0\n",
       "AVENGER_YEAR          0\n",
       "EYES                  3\n",
       "HAIR                  3\n",
       "SEX                   0\n",
       "SEXUALITY             0\n",
       "ALIVE                 0\n",
       "APPEARANCES           0\n",
       "FIRST_MONTH           0\n",
       "FIRST_YEAR            0\n",
       "DECEASED              0\n",
       "RESURRECTED           0\n",
       "Unnamed: 19       23420\n",
       "Unnamed: 20       23420\n",
       "dtype: int64"
      ]
     },
     "execution_count": 5,
     "metadata": {},
     "output_type": "execute_result"
    }
   ],
   "source": [
    "superheros.isnull().sum()# want to see what the values we have "
   ]
  },
  {
   "cell_type": "code",
   "execution_count": null,
   "id": "26e526a0-934a-44f3-a1e0-b68046c5ce09",
   "metadata": {},
   "outputs": [],
   "source": [
    "\n"
   ]
  },
  {
   "cell_type": "code",
   "execution_count": null,
   "id": "4e76480f-c795-4827-815b-49cec2c1a344",
   "metadata": {},
   "outputs": [],
   "source": []
  },
  {
   "cell_type": "code",
   "execution_count": 8,
   "id": "ce3d1b6a-bde1-420f-9f99-597dab2dcb77",
   "metadata": {},
   "outputs": [],
   "source": []
  },
  {
   "cell_type": "code",
   "execution_count": null,
   "id": "ef03be21-ac9b-4509-832e-2e5978966d94",
   "metadata": {},
   "outputs": [],
   "source": []
  },
  {
   "cell_type": "code",
   "execution_count": 10,
   "id": "0ce96b1e-d12c-47db-9110-2ff64db07f86",
   "metadata": {},
   "outputs": [
    {
     "data": {
      "image/png": "[encoded data removed]",
      "text/plain": [
       "<Figure size 720x576 with 1 Axes>"
      ]
     },
     "metadata": {
      "needs_background": "light"
     },
     "output_type": "display_data"
    }
   ],
   "source": [
    "#Plot #2: What universe has the most superheros?\n",
    "# Make a bar chart\n",
    "universe = ('DC comics', 'Marvel')\n",
    "y_pos = np.arange(len(universe))\n",
    "nr_superheros = [6896,18000]\n",
    "    \n",
    "fig, ax = plt.subplots()\n",
    "fig.set_size_inches(10, 8)\n",
    "\n",
    "barlist = ax.bar(y_pos, nr_superheros, align='center')\n",
    "barlist[1].set_color('r')\n",
    "\n",
    "plt.xticks(y_pos, universe)\n",
    "plt.xlabel('Universe')\n",
    "plt.ylabel('Number of Superheros')\n",
    "plt.title('What Universe has the most Superheros?')\n",
    "\n",
    "plt.rc('axes', titlesize=16)     \n",
    "plt.rc('axes', labelsize=12)    \n",
    "plt.rc('xtick', labelsize=12)   \n",
    "plt.rc('figure', titlesize=12)  \n",
    " \n",
    "plt.show()\n",
    "#I had to get some help from whatching videos on YouTube to find how to implement a graph-CREDIT"
   ]
  },
  {
   "cell_type": "code",
   "execution_count": 11,
   "id": "d4617d3a-a50c-4f67-ad71-b5d5749d3c07",
   "metadata": {},
   "outputs": [],
   "source": [
    "##plot #3:\n",
    "# exclude missing values from total number of superheros\n",
    "a = len(superheros)-superheros['ID'].isnull().sum()"
   ]
  },
  {
   "cell_type": "code",
   "execution_count": 12,
   "id": "c8fe10bb-3a82-4bca-a56b-d4fd0151bd9f",
   "metadata": {},
   "outputs": [
    {
     "name": "stderr",
     "output_type": "stream",
     "text": [
      "<ipython-input-12-2bc6f038cc2a>:11: MatplotlibDeprecationWarning: normalize=None does not normalize if the sum is less than 1 but this behavior is deprecated since 3.3 until two minor releases later. After the deprecation period the default value will be normalize=True. To prevent normalization pass normalize=False \n",
      "  ax.pie(sizes, explode=explode, labels=labels, autopct='%1.1f%%',\n"
     ]
    },
    {
     "data": {
      "image/png": "[encoded data removed]",
      "text/plain": [
       "<Figure size 720x576 with 1 Axes>"
      ]
     },
     "metadata": {},
     "output_type": "display_data"
    }
   ],
   "source": [
    "# Make a pie chart\n",
    "labels = 'Secret Identity', 'Public Identity', 'Identity Unknown'\n",
    "sizes = [(len(superheros[superheros['ID'] == 'Secret Identity'])/a),\n",
    "         (len(superheros[superheros['ID'] == 'Public Identity'])/a), \n",
    "         (len(superheros[superheros['ID'] == 'Identity Unknown'])/a)]\n",
    "\n",
    "explode = (0.1, 0, 0)  # split the first slice (i.e. 'Secret Identity')\n",
    "\n",
    "fig, ax = plt.subplots()\n",
    "fig.set_size_inches(10, 8)\n",
    "ax.pie(sizes, explode=explode, labels=labels, autopct='%1.1f%%',\n",
    "        shadow=False, startangle=100)\n",
    "ax.axis('equal')\n",
    "\n",
    "plt.title('Info about the DC comics Superheros identity')\n",
    "\n",
    "plt.show()\n",
    "\n",
    "#I had to get some help from whatching videos on YouTube to find how to implement the cart- CREDIT\n",
    "# I don't really know the meaning of this message. "
   ]
  },
  {
   "cell_type": "code",
   "execution_count": 13,
   "id": "41b26c6d-c43b-4e02-9b19-3af50be50ab1",
   "metadata": {},
   "outputs": [],
   "source": [
    "#CREDIT to the lecture video I rewaatch and YouTube videos- \n",
    "#In loooked up some online examples to guide me to come up with my own \n",
    "\n"
   ]
  },
  {
   "cell_type": "markdown",
   "id": "338ef3e9-ccfb-4aa3-8f51-26932420d659",
   "metadata": {},
   "source": [
    "# Part 1"
   ]
  },
  {
   "cell_type": "markdown",
   "id": "ee15221a-ba60-43b6-a0f7-852e5d7c0922",
   "metadata": {},
   "source": [
    "The CVS file is a large contained a lot of the informations of DC and Marvel Univers charcaters. It's a file provided by Walt Hickey, giving us most of the informations we've ever wanted to konw ow about these characters. It has invormations like like characters hair colors to their Sexuality. The data was collected from GetHub. Data that is included are in like of name, ID, Align, year included, sex, sexuality, when they died, and appearance. The data that was not include is mostly these characters powers/abilities.  "
   ]
  },
  {
   "cell_type": "markdown",
   "id": "4c39035e-50fd-48f2-9108-1505dc691d11",
   "metadata": {},
   "source": [
    "# Part 2"
   ]
  },
  {
   "cell_type": "markdown",
   "id": "925c25d7-b2b6-4e99-91a5-03025f396e0f",
   "metadata": {},
   "source": [
    "The different computational principles, expression and practices that I used to to conduct the data analysis are in the like of sequences, loops, events, conditionals, etc.. I identify a series of steps to create tasks, make decisions based on conditions  and a lot more. Throughout working on these projects I manipulate my codes by debugging when I come on facing errors that occur when I write the codes wrong or miss a step of wrongful spelling or other typical mistakes.Aloso including booleans to conjunctions to combine or exclude keywords in a search. I used most of these computational definitions are taken from the computational thinking cheatsheet Developed by Dr. Wendy Norris; updated by Shiva Darian, to help me working on my codes to finalise these projects."
   ]
  },
  {
   "cell_type": "markdown",
   "id": "9495482d-43a2-4ad0-b166-41ca1eed3a5c",
   "metadata": {},
   "source": [
    "# Part 3"
   ]
  },
  {
   "cell_type": "markdown",
   "id": "73d05df5-e34a-4ccd-8cb6-6e7e18d183c7",
   "metadata": {},
   "source": [
    "What are the different types of sexuality’s of the characters?    \n",
    "    For this question I wanted to go on and follow up with my them and Continue on expluring the involvement of women in the Marvel and DC univers. Analyzing what the sexuality of these characters are in the universe to make conection with how much involvements/introduction to the world. Also wanted to see what Universe, Marvel vs DC would most likely accept change."
   ]
  },
  {
   "cell_type": "code",
   "execution_count": 18,
   "id": "ac6d5e9e-e8dc-4441-9778-a39180343132",
   "metadata": {},
   "outputs": [
    {
     "data": {
      "text/html": [
       "<div>\n",
       "<style scoped>\n",
       "    .dataframe tbody tr th:only-of-type {\n",
       "        vertical-align: middle;\n",
       "    }\n",
       "\n",
       "    .dataframe tbody tr th {\n",
       "        vertical-align: top;\n",
       "    }\n",
       "\n",
       "    .dataframe thead th {\n",
       "        text-align: right;\n",
       "    }\n",
       "</style>\n",
       "<table border=\"1\" class=\"dataframe\">\n",
       "  <thead>\n",
       "    <tr style=\"text-align: right;\">\n",
       "      <th>ALIGN</th>\n",
       "      <th>Bad Characters</th>\n",
       "      <th>Good Characters</th>\n",
       "      <th>ND</th>\n",
       "      <th>Neutral Characters</th>\n",
       "      <th>Reformed Criminals</th>\n",
       "      <th>All</th>\n",
       "    </tr>\n",
       "    <tr>\n",
       "      <th>SEXUALITY</th>\n",
       "      <th></th>\n",
       "      <th></th>\n",
       "      <th></th>\n",
       "      <th></th>\n",
       "      <th></th>\n",
       "      <th></th>\n",
       "    </tr>\n",
       "  </thead>\n",
       "  <tbody>\n",
       "    <tr>\n",
       "      <th>Bisexual Characters</th>\n",
       "      <td>7</td>\n",
       "      <td>15</td>\n",
       "      <td>0</td>\n",
       "      <td>7</td>\n",
       "      <td>0</td>\n",
       "      <td>29</td>\n",
       "    </tr>\n",
       "    <tr>\n",
       "      <th>Genderfluid Characters</th>\n",
       "      <td>0</td>\n",
       "      <td>1</td>\n",
       "      <td>0</td>\n",
       "      <td>0</td>\n",
       "      <td>0</td>\n",
       "      <td>1</td>\n",
       "    </tr>\n",
       "    <tr>\n",
       "      <th>Heterosexual Characters</th>\n",
       "      <td>9590</td>\n",
       "      <td>7372</td>\n",
       "      <td>3402</td>\n",
       "      <td>2751</td>\n",
       "      <td>3</td>\n",
       "      <td>23118</td>\n",
       "    </tr>\n",
       "    <tr>\n",
       "      <th>Homosexual Characters</th>\n",
       "      <td>17</td>\n",
       "      <td>77</td>\n",
       "      <td>10</td>\n",
       "      <td>14</td>\n",
       "      <td>0</td>\n",
       "      <td>118</td>\n",
       "    </tr>\n",
       "    <tr>\n",
       "      <th>ND</th>\n",
       "      <td>2</td>\n",
       "      <td>117</td>\n",
       "      <td>24</td>\n",
       "      <td>6</td>\n",
       "      <td>0</td>\n",
       "      <td>149</td>\n",
       "    </tr>\n",
       "    <tr>\n",
       "      <th>Pansexual Characters</th>\n",
       "      <td>0</td>\n",
       "      <td>1</td>\n",
       "      <td>0</td>\n",
       "      <td>0</td>\n",
       "      <td>0</td>\n",
       "      <td>1</td>\n",
       "    </tr>\n",
       "    <tr>\n",
       "      <th>Transgender Characters</th>\n",
       "      <td>0</td>\n",
       "      <td>1</td>\n",
       "      <td>1</td>\n",
       "      <td>0</td>\n",
       "      <td>0</td>\n",
       "      <td>2</td>\n",
       "    </tr>\n",
       "    <tr>\n",
       "      <th>Transvestites</th>\n",
       "      <td>0</td>\n",
       "      <td>0</td>\n",
       "      <td>0</td>\n",
       "      <td>1</td>\n",
       "      <td>0</td>\n",
       "      <td>1</td>\n",
       "    </tr>\n",
       "    <tr>\n",
       "      <th>All</th>\n",
       "      <td>9616</td>\n",
       "      <td>7584</td>\n",
       "      <td>3437</td>\n",
       "      <td>2779</td>\n",
       "      <td>3</td>\n",
       "      <td>23419</td>\n",
       "    </tr>\n",
       "  </tbody>\n",
       "</table>\n",
       "</div>"
      ],
      "text/plain": [
       "ALIGN                    Bad Characters  Good Characters    ND  \\\n",
       "SEXUALITY                                                        \n",
       "Bisexual Characters                   7               15     0   \n",
       "Genderfluid Characters                0                1     0   \n",
       "Heterosexual Characters            9590             7372  3402   \n",
       "Homosexual Characters                17               77    10   \n",
       "ND                                    2              117    24   \n",
       "Pansexual Characters                  0                1     0   \n",
       "Transgender Characters                0                1     1   \n",
       "Transvestites                         0                0     0   \n",
       "All                                9616             7584  3437   \n",
       "\n",
       "ALIGN                    Neutral Characters  Reformed Criminals    All  \n",
       "SEXUALITY                                                               \n",
       "Bisexual Characters                       7                   0     29  \n",
       "Genderfluid Characters                    0                   0      1  \n",
       "Heterosexual Characters                2751                   3  23118  \n",
       "Homosexual Characters                    14                   0    118  \n",
       "ND                                        6                   0    149  \n",
       "Pansexual Characters                      0                   0      1  \n",
       "Transgender Characters                    0                   0      2  \n",
       "Transvestites                             1                   0      1  \n",
       "All                                    2779                   3  23419  "
      ]
     },
     "execution_count": 18,
     "metadata": {},
     "output_type": "execute_result"
    }
   ],
   "source": [
    "pd.crosstab(superheros[\"SEXUALITY\"], superheros[\"ALIGN\"], margins=True)"
   ]
  },
  {
   "cell_type": "markdown",
   "id": "7971b9ad-4108-48af-b01c-fb75e0095c22",
   "metadata": {},
   "source": [
    " What universe has the most superheros?   \n",
    "    Here I wanted to see which universe has the most Superheros and how it will realate to my them of why one universe is more like to introduce more female characters. I wanted to get the sense of these universes of which character is more to conected to the real world. I wanted to see the conection of how involve these universe were to let women characters be the main characters.  "
   ]
  },
  {
   "cell_type": "code",
   "execution_count": 20,
   "id": "f408346a-a2fb-4c39-b621-82969dd3206d",
   "metadata": {},
   "outputs": [
    {
     "data": {
      "image/png": "[encoded data removed]",
      "text/plain": [
       "<Figure size 720x576 with 1 Axes>"
      ]
     },
     "metadata": {
      "needs_background": "light"
     },
     "output_type": "display_data"
    }
   ],
   "source": [
    "universe = ('DC comics', 'Marvel')\n",
    "y_pos = np.arange(len(universe))\n",
    "nr_superheros = [6896,18000]\n",
    "    \n",
    "fig, ax = plt.subplots()\n",
    "fig.set_size_inches(10, 8)\n",
    "\n",
    "barlist = ax.bar(y_pos, nr_superheros, align='center')\n",
    "barlist[1].set_color('r')\n",
    "\n",
    "plt.xticks(y_pos, universe)\n",
    "plt.xlabel('Universe')\n",
    "plt.ylabel('Number of Superheros')\n",
    "plt.title('What Universe has the most Superheros?')\n",
    "\n",
    "plt.rc('axes', titlesize=16)     \n",
    "plt.rc('axes', labelsize=12)    \n",
    "plt.rc('xtick', labelsize=12)   \n",
    "plt.rc('figure', titlesize=12)  \n",
    " \n",
    "plt.show()"
   ]
  },
  {
   "cell_type": "markdown",
   "id": "28c2d5a9-4d60-4f0a-8041-fca677245f45",
   "metadata": {},
   "source": [
    "Who's to be seen?    \n",
    "    I wanted to see the conection of how involve these universe were to let women characters be the main characters. Here I wantd to make the connection how DC is letting there character being seeing as. I make the connection how it will realate to my them of why one universe is more like to introduce more female characters. Analyzing what DC is letting their characters follow through. "
   ]
  },
  {
   "cell_type": "code",
   "execution_count": 21,
   "id": "8dda4013-a796-45a7-8e8d-46730840b9ab",
   "metadata": {},
   "outputs": [],
   "source": [
    "# exclude missing values from total number of superheros\n",
    "a = len(superheros)-superheros['ID'].isnull().sum()"
   ]
  },
  {
   "cell_type": "code",
   "execution_count": 22,
   "id": "8a0a538b-ac8d-4765-a7d7-d8e2447919c4",
   "metadata": {},
   "outputs": [
    {
     "name": "stderr",
     "output_type": "stream",
     "text": [
      "<ipython-input-22-683998a58511>:11: MatplotlibDeprecationWarning: normalize=None does not normalize if the sum is less than 1 but this behavior is deprecated since 3.3 until two minor releases later. After the deprecation period the default value will be normalize=True. To prevent normalization pass normalize=False \n",
      "  ax.pie(sizes, explode=explode, labels=labels, autopct='%1.1f%%',\n"
     ]
    },
    {
     "data": {
      "image/png": "[encoded data removed]",
      "text/plain": [
       "<Figure size 720x576 with 1 Axes>"
      ]
     },
     "metadata": {},
     "output_type": "display_data"
    }
   ],
   "source": [
    "# Make a pie chart\n",
    "labels = 'Secret Identity', 'Public Identity', 'Identity Unknown'\n",
    "sizes = [(len(superheros[superheros['ID'] == 'Secret Identity'])/a),\n",
    "         (len(superheros[superheros['ID'] == 'Public Identity'])/a), \n",
    "         (len(superheros[superheros['ID'] == 'Identity Unknown'])/a)]\n",
    "\n",
    "explode = (0.1, 0, 0)  # split the first slice (i.e. 'Secret Identity')\n",
    "\n",
    "fig, ax = plt.subplots()\n",
    "fig.set_size_inches(10, 8)\n",
    "ax.pie(sizes, explode=explode, labels=labels, autopct='%1.1f%%',\n",
    "        shadow=False, startangle=100)\n",
    "ax.axis('equal')\n",
    "\n",
    "plt.title('Info about the DC comics Superheros identity')\n",
    "\n",
    "plt.show()\n",
    "\n",
    "#I had to get some help from whatching videos on YouTube to find how to implement the cart- CREDIT\n",
    "# I don't really know the meaning of this message."
   ]
  },
  {
   "cell_type": "markdown",
   "id": "968fe447-92a9-49ac-85d9-ad687e7e8d99",
   "metadata": {},
   "source": [
    "# Part 4"
   ]
  },
  {
   "cell_type": "markdown",
   "id": "2c813f23-5db5-4222-8c92-6391688aa99c",
   "metadata": {},
   "source": [
    "For all these data what I came to find is the connection of what the author of the CVS fife wanted us to see. Starting with the data that was provided and the limitation of what can actualy be done with it. I wanted to make a connection to how these universes Marvel and DC would likely introde more women characters to the real world. I wanted to make the connection maybe their appearance is limited due to there abilities but sadly I was provide with that data by author of the CVS file so that connection was a little bit harder to do. With the result I got throughout my Analysts I come to find out it's more likely for as theMarvel universe to have more women involmen because they clearly have more numbers than DC. "
   ]
  },
  {
   "cell_type": "markdown",
   "id": "8c4006f3-0c07-46ba-b866-7fac570b96ad",
   "metadata": {},
   "source": [
    "# Part 5"
   ]
  },
  {
   "cell_type": "markdown",
   "id": "e3898632-ccba-44a0-b646-9909ed4a9b26",
   "metadata": {},
   "source": [
    "acknowledgments:\n",
    "Mainly where most of my help come crom is the article that was related to the CVS file by Walt Hickey. I also used GitHub to see some other provided data that I could relate to the data that I was already missing from the CVS file provided. I also watch some Youtube videos to guide me on fixing some the erros that came across in help of debugging. I also would like to credit the computational thinking cheatsheet Developed by Dr. Wendy Norris; updated by Shiva Darian, to help me working on my codes to finalise these projects. All these tools really help me to create this masterpiece of a project which was very fun to come up with. "
   ]
  },
  {
   "cell_type": "code",
   "execution_count": null,
   "id": "c5a14c7f-b950-45a6-ab74-f02f5dd608db",
   "metadata": {},
   "outputs": [],
   "source": []
  }
 ],
 "metadata": {
  "kernelspec": {
   "display_name": "Python 3",
   "language": "python",
   "name": "python3"
  },
  "language_info": {
   "codemirror_mode": {
    "name": "ipython",
    "version": 3
   },
   "file_extension": ".py",
   "mimetype": "text/x-python",
   "name": "python",
   "nbconvert_exporter": "python",
   "pygments_lexer": "ipython3",
   "version": "3.8.8"
  }
 },
 "nbformat": 4,
 "nbformat_minor": 5
}
