{
 "cells": [
  {
   "cell_type": "code",
   "execution_count": null,
   "id": "e8cd4648-7481-4fc3-87bf-7fe51dcd39df",
   "metadata": {},
   "outputs": [],
   "source": [
    "# The fight to slay a dragon! Chose the correct combination to fight the dragon and win!"
   ]
  },
  {
   "cell_type": "code",
   "execution_count": 72,
   "id": "e745296b-2edb-45f5-bf57-cb06fdad5d4b",
   "metadata": {},
   "outputs": [
    {
     "name": "stdout",
     "output_type": "stream",
     "text": [
      "Hello there traveler!\n",
      "Welcome to Dragonia. \n",
      "You must have heard we need a great warrior to slay the dragon that has turned evil. \n"
     ]
    },
    {
     "name": "stdin",
     "output_type": "stream",
     "text": [
      "Would you like to start the game? (yes/no?)  yes\n"
     ]
    },
    {
     "name": "stdout",
     "output_type": "stream",
     "text": [
      "Amazing we need a great warrior like yourself! \n"
     ]
    },
    {
     "name": "stdin",
     "output_type": "stream",
     "text": [
      "Would you like to go down the long safe road to the village or the short road with potential bandits? (long/short?)  long\n"
     ]
    },
    {
     "name": "stdout",
     "output_type": "stream",
     "text": [
      "You have arrived safely to the village\n"
     ]
    },
    {
     "name": "stdin",
     "output_type": "stream",
     "text": [
      "We have two weapons for you to chose from. You may chose an axe or a bow. (axe/bow) bow\n",
      "Wise, would you like to train before attacking the dragon?(yes/no) yes\n"
     ]
    },
    {
     "name": "stdout",
     "output_type": "stream",
     "text": [
      "You have become a great shot! \n"
     ]
    },
    {
     "name": "stdin",
     "output_type": "stream",
     "text": [
      "Are you now ready to go and fight the dragon? (yes/no) yes\n"
     ]
    },
    {
     "name": "stdout",
     "output_type": "stream",
     "text": [
      "You now take the road into the dark forest and up the mountain. \n",
      "You have arrived in a dark cavern. Smells terrible and in the distance you hear a growl. \n",
      "Before you a dragon approaches from the dark\n",
      "\n",
      "                                       ._ o o\n",
      "                                       \\_`-)|_\n",
      "                                    ,\"\"       \\ \n",
      "                                  ,\"  ## |   ಠ ಠ. \n",
      "                                ,\" ##   ,-\\__    `.\n",
      "                              ,\"       /     `--._;)\n",
      "                            ,\"     ## /\n",
      "                          ,\"   ##    /\n",
      "\n",
      "\n",
      "                    \n"
     ]
    },
    {
     "name": "stdin",
     "output_type": "stream",
     "text": [
      "Do you want to attack the dragon? (attack/wait) wait\n"
     ]
    },
    {
     "name": "stdout",
     "output_type": "stream",
     "text": [
      "The dragon seems to be protecting something. Approach caustiously. \n",
      "You see what looks like a large dragon egg. From this angle you also see a missing scale on the dragon.\n"
     ]
    },
    {
     "name": "stdin",
     "output_type": "stream",
     "text": [
      "Do you want to shoot the dragon and claim the glory and the egg, or do you want to leave the dragon as it is only ever defending its egg? (attack/leave) leave\n"
     ]
    },
    {
     "name": "stdout",
     "output_type": "stream",
     "text": [
      "As you go to leave the dragon unviels a massive treasure of gold for you. You now leave a very rich person! \n"
     ]
    }
   ],
   "source": [
    "print(\"Hello there traveler!\" )\n",
    "print(\"Welcome to Dragonia. \")\n",
    "print(\"You must have heard we need a great warrior to slay the dragon that has turned evil. \")\n",
    "\n",
    "answer = input(\"Would you like to start the game? (yes/no?) \")\n",
    "\n",
    "if answer.lower().strip() == \"yes\":\n",
    "       print(\"Amazing we need a great warrior like yourself! \")\n",
    "else:\n",
    "        print(\"Perhaps after you have had more training. \")\n",
    "answer = input(\"Would you like to go down the long safe road to the village or the short road with potential bandits? (long/short?) \")\n",
    "\n",
    "if answer == \"long\":\n",
    "    print(\"You have arrived safely to the village\")\n",
    "else:\n",
    "    print(\"You were robbed and killed on the road to the village you are now dead. Game Over. \")\n",
    "\n",
    "answer = input(\"We have two weapons for you to chose from. You may chose an axe or a bow. (axe/bow)\")\n",
    "\n",
    "if answer == \"bow\":\n",
    "    answer = input(\"Wise, would you like to train before attacking the dragon?(yes/no)\")\n",
    "    if answer == \"yes\":\n",
    "        print(\"You have become a great shot! \")\n",
    "    else:\n",
    "        print(\"Well I hope you know what you are doing. \")\n",
    "else:\n",
    "    answer = input(\"An axe will require you to get close to the dragon. Would you also like armor? (yes/no)\")\n",
    "    if answer == \"yes\":\n",
    "        print(\"A wise choice for dragons are very powerful. \")\n",
    "    else: \n",
    "        print(\"I truly hope you know what you are doing. \")\n",
    "        \n",
    "answer = input(\"Are you now ready to go and fight the dragon? (yes/no)\")\n",
    "if answer == \"yes\":\n",
    "    print(\"You now take the road into the dark forest and up the mountain. \")\n",
    "else: \n",
    "    print(\"Perhaps more training then. \")\n",
    "print(\"You have arrived in a dark cavern. Smells terrible and in the distance you hear a growl. \")\n",
    "print(\"Before you a dragon approaches from the dark\")\n",
    "print(\"\"\"\\\n",
    "\n",
    "                                       ._ o o\n",
    "                                       \\_`-)|_\n",
    "                                    ,\"\"       \\ \n",
    "                                  ,\"  ## |   ಠ ಠ. \n",
    "                                ,\" ##   ,-\\__    `.\n",
    "                              ,\"       /     `--._;)\n",
    "                            ,\"     ## /\n",
    "                          ,\"   ##    /\n",
    "\n",
    "\n",
    "                    \"\"\")\n",
    "answer = input(\"Do you want to attack the dragon? (attack/wait)\")\n",
    "if answer == \"attack\":\n",
    "    print(\"The dragon eats you. You are dead. Game Over. \")\n",
    "else: \n",
    "    print(\"The dragon seems to be protecting something. Approach caustiously. \")\n",
    "    print(\"You see what looks like a large dragon egg. From this angle you also see a missing scale on the dragon.\")\n",
    "answer = input(\"Do you want to shoot the dragon and claim the glory and the egg, or do you want to leave the dragon as it is only ever defending its egg? (attack/leave)\")\n",
    "if answer == \"attack\":\n",
    "    print(\"You shot the dragon scoring a killing blow. As the dragon dies it falls on you and you die. Game Over. \")\n",
    "else:\n",
    "    print(\"As you go to leave the dragon unviels a massive treasure of gold for you. You now leave a very rich person! \")\n",
    "\n"
   ]
  },
  {
   "cell_type": "code",
   "execution_count": null,
   "id": "650e2ef1-a0e5-46f4-b342-b4a5f952e288",
   "metadata": {},
   "outputs": [],
   "source": [
    "# Credit Apkfear on youtbue for some helpful tips with errors.\n",
    "# Credit to Finxter for the Dragon art toward the end game. "
   ]
  },
  {
   "cell_type": "code",
   "execution_count": null,
   "id": "29aef97a-8f4f-4b9d-9429-0a3e691962e4",
   "metadata": {},
   "outputs": [],
   "source": []
  },
  {
   "cell_type": "code",
   "execution_count": null,
   "id": "cb27f7c5-4a6a-49c4-b781-234a64e0252c",
   "metadata": {},
   "outputs": [],
   "source": []
  }
 ],
 "metadata": {
  "kernelspec": {
   "display_name": "Python 3",
   "language": "python",
   "name": "python3"
  },
  "language_info": {
   "codemirror_mode": {
    "name": "ipython",
    "version": 3
   },
   "file_extension": ".py",
   "mimetype": "text/x-python",
   "name": "python",
   "nbconvert_exporter": "python",
   "pygments_lexer": "ipython3",
   "version": "3.8.8"
  }
 },
 "nbformat": 4,
 "nbformat_minor": 5
}
