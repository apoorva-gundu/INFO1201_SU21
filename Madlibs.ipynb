{
 "cells": [
  {
   "cell_type": "code",
   "execution_count": 1,
   "id": "049c8f1e-77b8-45ad-b736-fe25f407f0b8",
   "metadata": {},
   "outputs": [],
   "source": [
    "# This is a short poem a great writter by the name JACQUELINE WOODSON, the poem's titlle is \"Church\""
   ]
  },
  {
   "cell_type": "code",
   "execution_count": 14,
   "id": "ffb68b77-eabd-4a40-8a76-94462e452344",
   "metadata": {},
   "outputs": [],
   "source": [
    "# Before I started this, I watched many youtube videos on how to write python codes to be more fluent."
   ]
  },
  {
   "cell_type": "code",
   "execution_count": 3,
   "id": "4465d122-a2cc-4cf6-a58c-b3d15bfa7084",
   "metadata": {},
   "outputs": [
    {
     "name": "stdout",
     "output_type": "stream",
     "text": [
      "On Sundays, the _____(noun) gives everyone a chance to repent their ____(Verb).\n",
      "Miss ____(name) makes me go to ____(place of worship).\n",
      "She wears a bright hat I wear my ____(Fancy type of clothing). \n",
      "Babies dress in lace. Girls my age, some pretty, some not so _____(adjective). \n",
      "Old ladies and men nodding.\n",
      "Miss ____(name) every now and then throwing her hand in the air.\n",
      "Saying Yes, Lord and Preach! I sneak a pen from my back pocket,\n",
      "bend down low like I dropped something.\n",
      "The chorus marches up behind the preacher clapping and humming and getting ready to sing.\n",
      "I write the word HOPE on my hand.\n"
     ]
    }
   ],
   "source": [
    "print(\"On Sundays, the _____(noun) gives everyone a chance to repent their ____(Verb).\")\n",
    "print(\"Miss ____(name) makes me go to ____(place of worship).\")\n",
    "print(\"She wears a bright hat I wear my ____(Fancy type of clothing). \")\n",
    "print(\"Babies dress in lace. Girls my age, some pretty, some not so _____(adjective). \")\n",
    "print(\"Old ladies and men nodding.\")\n",
    "print(\"Miss ____(name) every now and then throwing her hand in the air.\")\n",
    "print(\"Saying Yes, Lord and Preach! I sneak a pen from my back pocket,\")\n",
    "print(\"bend down low like I dropped something.\")\n",
    "print(\"The chorus marches up behind the preacher clapping and humming and getting ready to sing.\")\n",
    "print(\"I write the word HOPE on my hand.\")\n"
   ]
  },
  {
   "cell_type": "code",
   "execution_count": 4,
   "id": "f36f2669-432d-4ae1-8bce-dbcadbb20799",
   "metadata": {},
   "outputs": [],
   "source": [
    "# Player Instructions: To play the the game, follow the the prompt with the suggested words to complete each line of the poem."
   ]
  },
  {
   "cell_type": "code",
   "execution_count": 5,
   "id": "f5fc9594-b9d1-4a2c-9fa4-97148ff26f11",
   "metadata": {},
   "outputs": [
    {
     "name": "stdin",
     "output_type": "stream",
     "text": [
      "Give me a noun go \n"
     ]
    }
   ],
   "source": [
    "word0 = input(\"Give me a noun\")"
   ]
  },
  {
   "cell_type": "code",
   "execution_count": 6,
   "id": "841bb786-e798-45c5-ba1a-8005b376aa30",
   "metadata": {},
   "outputs": [
    {
     "name": "stdin",
     "output_type": "stream",
     "text": [
      "Give me a verb hi\n"
     ]
    }
   ],
   "source": [
    "word1 = input(\"Give me a verb\")"
   ]
  },
  {
   "cell_type": "code",
   "execution_count": 7,
   "id": "6303ad6d-2a63-4988-8187-a0783737aaba",
   "metadata": {},
   "outputs": [
    {
     "name": "stdin",
     "output_type": "stream",
     "text": [
      "Gime me a name gi\n"
     ]
    }
   ],
   "source": [
    "word2 = input(\"Gime me a name\")"
   ]
  },
  {
   "cell_type": "code",
   "execution_count": 8,
   "id": "6b8c5d68-859e-4086-8aae-87e223cf847a",
   "metadata": {},
   "outputs": [
    {
     "name": "stdin",
     "output_type": "stream",
     "text": [
      "Give me a place of worship jd\n"
     ]
    }
   ],
   "source": [
    "word3 = input(\"Give me a place of worship\")"
   ]
  },
  {
   "cell_type": "code",
   "execution_count": 9,
   "id": "6a636079-e55d-4fff-a146-3dd9b8731c2c",
   "metadata": {},
   "outputs": [
    {
     "name": "stdin",
     "output_type": "stream",
     "text": [
      "Give me a Fancy type of clothing kk\n"
     ]
    }
   ],
   "source": [
    "word4 = input(\"Give me a Fancy type of clothing\")"
   ]
  },
  {
   "cell_type": "code",
   "execution_count": 10,
   "id": "dc32b703-974a-4511-b008-6faebe1f157a",
   "metadata": {},
   "outputs": [
    {
     "name": "stdin",
     "output_type": "stream",
     "text": [
      "Gime me an adjective kj\n"
     ]
    }
   ],
   "source": [
    "word5 = input(\"Gime me an adjective\")"
   ]
  },
  {
   "cell_type": "code",
   "execution_count": 11,
   "id": "bda7fdd5-5c3f-403a-b962-00936458decb",
   "metadata": {},
   "outputs": [
    {
     "name": "stdin",
     "output_type": "stream",
     "text": [
      "Give me another name jd\n"
     ]
    }
   ],
   "source": [
    "word6 = input(\"Give me another name\")"
   ]
  },
  {
   "cell_type": "code",
   "execution_count": 12,
   "id": "6f831dc2-6eca-4c63-b8b9-4ab4f6944180",
   "metadata": {},
   "outputs": [],
   "source": [
    "poem = \"On Sundays, the \" + word0 + \" gives everyone a chance to repent their \" + word1 + \"\\nMiss \" + word2 + \" makes me go to \" + word3 + \"\\nShe wears a bright hat I wear \" + word4 + \"\\nBabies dress in lace. Girls my age, some pretty, some not so \" + word5 + \"\\nOld ladies and men nodding. \" \"\\nMiss \" + word6 + \" every now and then throwing her hand in the air \" \"\\nSaying yes, Lord and preach! I sneak a pen from my back pocket, \" \"\\nbend down low like I dropped something. \" \"\\nThe chorus marches up behind the preacher clapping and humming and getting ready to sing. \" \"\\nI write the word Hope on my hand. \" "
   ]
  },
  {
   "cell_type": "code",
   "execution_count": 13,
   "id": "35b4f04d-2a41-4bcf-9003-70d269d76970",
   "metadata": {},
   "outputs": [
    {
     "name": "stdout",
     "output_type": "stream",
     "text": [
      "On Sundays, the go  gives everyone a chance to repent their hi\n",
      "Miss gi makes me go to jd\n",
      "She wears a bright hat I wear kk\n",
      "Babies dress in lace. Girls my age, some pretty, some not so kj\n",
      "Old ladies and men nodding. \n",
      "Miss jd every now and then throwing her hand in the air \n",
      "Saying yes, Lord and preach! I sneak a pen from my back pocket, \n",
      "bend down low like I dropped something. \n",
      "The chorus marches up behind the preacher clapping and humming and getting ready to sing. \n",
      "I write the word Hope on my hand. \n"
     ]
    }
   ],
   "source": [
    "print(poem)"
   ]
  },
  {
   "cell_type": "code",
   "execution_count": null,
   "id": "61ddf106-0321-4dde-9aa1-cfd8a144f5c7",
   "metadata": {},
   "outputs": [],
   "source": [
    "# I used the handout as a refren"
   ]
  }
 ],
 "metadata": {
  "kernelspec": {
   "display_name": "Python 3",
   "language": "python",
   "name": "python3"
  },
  "language_info": {
   "codemirror_mode": {
    "name": "ipython",
    "version": 3
   },
   "file_extension": ".py",
   "mimetype": "text/x-python",
   "name": "python",
   "nbconvert_exporter": "python",
   "pygments_lexer": "ipython3",
   "version": "3.8.8"
  }
 },
 "nbformat": 4,
 "nbformat_minor": 5
}
