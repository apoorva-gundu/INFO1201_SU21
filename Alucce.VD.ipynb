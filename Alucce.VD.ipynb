{
 "cells": [
  {
   "cell_type": "code",
   "execution_count": 1,
   "id": "729e11e0-40c5-471b-b6b3-2df38c5be1ee",
   "metadata": {},
   "outputs": [],
   "source": [
    "#import the libraries we want to use\n",
    "import pandas as pd\n",
    "import numpy as np\n",
    "import matplotlib.pyplot as plt \n",
    "\n",
    "#this will display graths in line \n",
    "%matplotlib inline\n",
    "#specifiying how large to show the figure\n",
    "plt.rcParams[\"figure.figsize\"] =(8,6)"
   ]
  },
  {
   "cell_type": "code",
   "execution_count": 2,
   "id": "45c6faf6-3873-4861-b31e-a3e1289705d9",
   "metadata": {},
   "outputs": [],
   "source": [
    "superheros = pd.read_csv(\"superhero_vz_data.csv\" , parse_dates = [\"FIRST_YEAR\"])"
   ]
  },
  {
   "cell_type": "code",
   "execution_count": 3,
   "id": "e6877bec-75c3-4b6c-8e06-bc9f235bff75",
   "metadata": {},
   "outputs": [
    {
     "data": {
      "text/html": [
       "<div>\n",
       "<style scoped>\n",
       "    .dataframe tbody tr th:only-of-type {\n",
       "        vertical-align: middle;\n",
       "    }\n",
       "\n",
       "    .dataframe tbody tr th {\n",
       "        vertical-align: top;\n",
       "    }\n",
       "\n",
       "    .dataframe thead th {\n",
       "        text-align: right;\n",
       "    }\n",
       "</style>\n",
       "<table border=\"1\" class=\"dataframe\">\n",
       "  <thead>\n",
       "    <tr style=\"text-align: right;\">\n",
       "      <th></th>\n",
       "      <th>UNIVERSE</th>\n",
       "      <th>page_id</th>\n",
       "      <th>name</th>\n",
       "      <th>urlslug</th>\n",
       "      <th>ID</th>\n",
       "      <th>ALIGN</th>\n",
       "      <th>IS_AVENGER</th>\n",
       "      <th>AVENGER_STATUS</th>\n",
       "      <th>AVENGER_YEAR</th>\n",
       "      <th>EYES</th>\n",
       "      <th>...</th>\n",
       "      <th>SEX</th>\n",
       "      <th>SEXUALITY</th>\n",
       "      <th>ALIVE</th>\n",
       "      <th>APPEARANCES</th>\n",
       "      <th>FIRST_MONTH</th>\n",
       "      <th>FIRST_YEAR</th>\n",
       "      <th>DECEASED</th>\n",
       "      <th>RESURRECTED</th>\n",
       "      <th>Unnamed: 19</th>\n",
       "      <th>Unnamed: 20</th>\n",
       "    </tr>\n",
       "  </thead>\n",
       "  <tbody>\n",
       "    <tr>\n",
       "      <th>0</th>\n",
       "      <td>DC</td>\n",
       "      <td>1702</td>\n",
       "      <td>Richard Occult (New Earth)</td>\n",
       "      <td>Richard_Occult_(New_Earth)</td>\n",
       "      <td>Secret Identity</td>\n",
       "      <td>ND</td>\n",
       "      <td>NO</td>\n",
       "      <td>ND</td>\n",
       "      <td>ND</td>\n",
       "      <td>Grey Eyes</td>\n",
       "      <td>...</td>\n",
       "      <td>Male Characters</td>\n",
       "      <td>Heterosexual Characters</td>\n",
       "      <td>Living Characters</td>\n",
       "      <td>125</td>\n",
       "      <td>October</td>\n",
       "      <td>1935</td>\n",
       "      <td>ND</td>\n",
       "      <td>ND</td>\n",
       "      <td>NaN</td>\n",
       "      <td>NaN</td>\n",
       "    </tr>\n",
       "    <tr>\n",
       "      <th>1</th>\n",
       "      <td>DC</td>\n",
       "      <td>158200</td>\n",
       "      <td>Arthur Pendragon (New Earth)</td>\n",
       "      <td>Arthur_Pendragon_(New_Earth)</td>\n",
       "      <td>Public Identity</td>\n",
       "      <td>Good Characters</td>\n",
       "      <td>NO</td>\n",
       "      <td>ND</td>\n",
       "      <td>ND</td>\n",
       "      <td>Brown Eyes</td>\n",
       "      <td>...</td>\n",
       "      <td>Male Characters</td>\n",
       "      <td>Heterosexual Characters</td>\n",
       "      <td>Living Characters</td>\n",
       "      <td>41</td>\n",
       "      <td>February</td>\n",
       "      <td>1936</td>\n",
       "      <td>ND</td>\n",
       "      <td>ND</td>\n",
       "      <td>NaN</td>\n",
       "      <td>NaN</td>\n",
       "    </tr>\n",
       "    <tr>\n",
       "      <th>2</th>\n",
       "      <td>DC</td>\n",
       "      <td>289378</td>\n",
       "      <td>Bedivere (New Earth)</td>\n",
       "      <td>Bedivere_(New_Earth)</td>\n",
       "      <td>ND</td>\n",
       "      <td>ND</td>\n",
       "      <td>NO</td>\n",
       "      <td>ND</td>\n",
       "      <td>ND</td>\n",
       "      <td>ND</td>\n",
       "      <td>...</td>\n",
       "      <td>Male Characters</td>\n",
       "      <td>Heterosexual Characters</td>\n",
       "      <td>Living Characters</td>\n",
       "      <td>ND</td>\n",
       "      <td>February</td>\n",
       "      <td>1936</td>\n",
       "      <td>ND</td>\n",
       "      <td>ND</td>\n",
       "      <td>NaN</td>\n",
       "      <td>NaN</td>\n",
       "    </tr>\n",
       "    <tr>\n",
       "      <th>3</th>\n",
       "      <td>DC</td>\n",
       "      <td>11333</td>\n",
       "      <td>Franklin Delano Roosevelt (New Earth)</td>\n",
       "      <td>Franklin_Delano_Roosevelt_(New_Earth)</td>\n",
       "      <td>Public Identity</td>\n",
       "      <td>Good Characters</td>\n",
       "      <td>NO</td>\n",
       "      <td>ND</td>\n",
       "      <td>ND</td>\n",
       "      <td>ND</td>\n",
       "      <td>...</td>\n",
       "      <td>Male Characters</td>\n",
       "      <td>Heterosexual Characters</td>\n",
       "      <td>Living Characters</td>\n",
       "      <td>52</td>\n",
       "      <td>March</td>\n",
       "      <td>1936</td>\n",
       "      <td>ND</td>\n",
       "      <td>ND</td>\n",
       "      <td>NaN</td>\n",
       "      <td>NaN</td>\n",
       "    </tr>\n",
       "    <tr>\n",
       "      <th>4</th>\n",
       "      <td>DC</td>\n",
       "      <td>342641</td>\n",
       "      <td>Gareth (New Earth)</td>\n",
       "      <td>Gareth_(New_Earth)</td>\n",
       "      <td>ND</td>\n",
       "      <td>ND</td>\n",
       "      <td>NO</td>\n",
       "      <td>ND</td>\n",
       "      <td>ND</td>\n",
       "      <td>ND</td>\n",
       "      <td>...</td>\n",
       "      <td>Male Characters</td>\n",
       "      <td>Heterosexual Characters</td>\n",
       "      <td>Living Characters</td>\n",
       "      <td>1</td>\n",
       "      <td>February</td>\n",
       "      <td>1936</td>\n",
       "      <td>ND</td>\n",
       "      <td>ND</td>\n",
       "      <td>NaN</td>\n",
       "      <td>NaN</td>\n",
       "    </tr>\n",
       "  </tbody>\n",
       "</table>\n",
       "<p>5 rows × 21 columns</p>\n",
       "</div>"
      ],
      "text/plain": [
       "  UNIVERSE page_id                                   name  \\\n",
       "0       DC    1702             Richard Occult (New Earth)   \n",
       "1       DC  158200           Arthur Pendragon (New Earth)   \n",
       "2       DC  289378                   Bedivere (New Earth)   \n",
       "3       DC   11333  Franklin Delano Roosevelt (New Earth)   \n",
       "4       DC  342641                     Gareth (New Earth)   \n",
       "\n",
       "                                 urlslug               ID            ALIGN  \\\n",
       "0             Richard_Occult_(New_Earth)  Secret Identity               ND   \n",
       "1           Arthur_Pendragon_(New_Earth)  Public Identity  Good Characters   \n",
       "2                   Bedivere_(New_Earth)               ND               ND   \n",
       "3  Franklin_Delano_Roosevelt_(New_Earth)  Public Identity  Good Characters   \n",
       "4                     Gareth_(New_Earth)               ND               ND   \n",
       "\n",
       "  IS_AVENGER AVENGER_STATUS AVENGER_YEAR        EYES  ...              SEX  \\\n",
       "0         NO             ND           ND   Grey Eyes  ...  Male Characters   \n",
       "1         NO             ND           ND  Brown Eyes  ...  Male Characters   \n",
       "2         NO             ND           ND          ND  ...  Male Characters   \n",
       "3         NO             ND           ND          ND  ...  Male Characters   \n",
       "4         NO             ND           ND          ND  ...  Male Characters   \n",
       "\n",
       "                 SEXUALITY              ALIVE APPEARANCES FIRST_MONTH  \\\n",
       "0  Heterosexual Characters  Living Characters         125    October    \n",
       "1  Heterosexual Characters  Living Characters          41   February    \n",
       "2  Heterosexual Characters  Living Characters          ND   February    \n",
       "3  Heterosexual Characters  Living Characters          52      March    \n",
       "4  Heterosexual Characters  Living Characters           1   February    \n",
       "\n",
       "  FIRST_YEAR DECEASED RESURRECTED Unnamed: 19  Unnamed: 20  \n",
       "0       1935       ND          ND         NaN          NaN  \n",
       "1       1936       ND          ND         NaN          NaN  \n",
       "2       1936       ND          ND         NaN          NaN  \n",
       "3       1936       ND          ND         NaN          NaN  \n",
       "4       1936       ND          ND         NaN          NaN  \n",
       "\n",
       "[5 rows x 21 columns]"
      ]
     },
     "execution_count": 3,
     "metadata": {},
     "output_type": "execute_result"
    }
   ],
   "source": [
    "superheros.head()"
   ]
  },
  {
   "cell_type": "code",
   "execution_count": 77,
   "id": "08e65380-6fbb-428b-ac58-bfbc65e6ca05",
   "metadata": {},
   "outputs": [],
   "source": [
    "## plot #1: When was most Superheros introduced?"
   ]
  },
  {
   "cell_type": "code",
   "execution_count": 32,
   "id": "c4a74547-6aaa-4e50-961e-25286b9b3f50",
   "metadata": {},
   "outputs": [
    {
     "data": {
      "text/plain": [
       "UNIVERSE              0\n",
       "page_id               0\n",
       "name                  0\n",
       "urlslug               0\n",
       "ID                    0\n",
       "ALIGN                 1\n",
       "IS_AVENGER            0\n",
       "AVENGER_STATUS        0\n",
       "AVENGER_YEAR          0\n",
       "EYES                  3\n",
       "HAIR                  3\n",
       "SEX                   0\n",
       "SEXUALITY             0\n",
       "ALIVE                 0\n",
       "APPEARANCES           0\n",
       "FIRST_MONTH           0\n",
       "FIRST_YEAR            0\n",
       "DECEASED              0\n",
       "RESURRECTED           0\n",
       "Unnamed: 19       23420\n",
       "Unnamed: 20       23420\n",
       "dtype: int64"
      ]
     },
     "execution_count": 32,
     "metadata": {},
     "output_type": "execute_result"
    }
   ],
   "source": [
    "superheros.isnull().sum()# want to see what the values we have "
   ]
  },
  {
   "cell_type": "code",
   "execution_count": 58,
   "id": "26e526a0-934a-44f3-a1e0-b68046c5ce09",
   "metadata": {},
   "outputs": [
    {
     "data": {
      "text/plain": [
       "'1935'"
      ]
     },
     "execution_count": 58,
     "metadata": {},
     "output_type": "execute_result"
    }
   ],
   "source": [
    "# When did the first Superhero get introduced ?\n",
    "superheros[\"FIRST_YEAR\"].min()\n"
   ]
  },
  {
   "cell_type": "code",
   "execution_count": 57,
   "id": "4e76480f-c795-4827-815b-49cec2c1a344",
   "metadata": {},
   "outputs": [
    {
     "data": {
      "text/plain": [
       "ND      881\n",
       "1993    764\n",
       "1994    716\n",
       "2006    687\n",
       "1992    636\n",
       "Name: FIRST_YEAR, dtype: int64"
      ]
     },
     "execution_count": 57,
     "metadata": {},
     "output_type": "execute_result"
    }
   ],
   "source": [
    "# What year was most Superheros introduced?\n",
    "introduction1 = superheros[\"FIRST_YEAR\"].value_counts()\n",
    "introduction1.head()"
   ]
  },
  {
   "cell_type": "code",
   "execution_count": 62,
   "id": "ce3d1b6a-bde1-420f-9f99-597dab2dcb77",
   "metadata": {},
   "outputs": [],
   "source": [
    "# sort by actuall year (not the column)\n",
    "introduction1 = introduction1.sort_index()"
   ]
  },
  {
   "cell_type": "code",
   "execution_count": 89,
   "id": "ef03be21-ac9b-4509-832e-2e5978966d94",
   "metadata": {},
   "outputs": [
    {
     "data": {
      "image/png": "[encoded data removed]",
      "text/plain": [
       "<Figure size 720x576 with 1 Axes>"
      ]
     },
     "metadata": {
      "needs_background": "light"
     },
     "output_type": "display_data"
    }
   ],
   "source": [
    "# make line chart\n",
    "y1 = introduction1\n",
    "x1 = introduction1\n",
    "\n",
    "y2 = introduction1\n",
    "x2 = introduction1\n",
    "\n",
    "fig, ax = plt.subplots()\n",
    "fig.set_size_inches(10, 8)\n",
    "\n",
    "ax.plot(x1, y1, label=\"DC comics\", color='b')\n",
    "\n",
    "\n",
    "ax.legend(bbox_to_anchor=(1.05, 1), loc=2, borderaxespad=0.)\n",
    "\n",
    "plt.xlabel('Year')\n",
    "plt.ylabel('Number of Superheros introduced')\n",
    "plt.title('When was most Superheros introduced?')\n",
    "\n",
    "plt.show();"
   ]
  },
  {
   "cell_type": "code",
   "execution_count": 92,
   "id": "0ce96b1e-d12c-47db-9110-2ff64db07f86",
   "metadata": {},
   "outputs": [
    {
     "data": {
      "image/png": "[encoded data removed]",
      "text/plain": [
       "<Figure size 720x576 with 1 Axes>"
      ]
     },
     "metadata": {
      "needs_background": "light"
     },
     "output_type": "display_data"
    }
   ],
   "source": [
    "#Plot #2: What universe has the most superheros?\n",
    "# Make a bar chart\n",
    "universe = ('DC comics', 'Marvel')\n",
    "y_pos = np.arange(len(universe))\n",
    "nr_superheros = [6896,18000]\n",
    "    \n",
    "fig, ax = plt.subplots()\n",
    "fig.set_size_inches(10, 8)\n",
    "\n",
    "barlist = ax.bar(y_pos, nr_superheros, align='center')\n",
    "barlist[1].set_color('r')\n",
    "\n",
    "plt.xticks(y_pos, universe)\n",
    "plt.xlabel('Universe')\n",
    "plt.ylabel('Number of Superheros')\n",
    "plt.title('What Universe has the most Superheros?')\n",
    "\n",
    "plt.rc('axes', titlesize=16)     \n",
    "plt.rc('axes', labelsize=12)    \n",
    "plt.rc('xtick', labelsize=12)   \n",
    "plt.rc('figure', titlesize=12)  \n",
    " \n",
    "plt.show()\n",
    "#I had to get some help from whatching videos on YouTube to find how to implement a graph-CREDIT"
   ]
  },
  {
   "cell_type": "code",
   "execution_count": 76,
   "id": "d4617d3a-a50c-4f67-ad71-b5d5749d3c07",
   "metadata": {},
   "outputs": [],
   "source": [
    "##plot #3:\n",
    "# exclude missing values from total number of superheros\n",
    "a = len(superheros)-superheros['ID'].isnull().sum()"
   ]
  },
  {
   "cell_type": "code",
   "execution_count": 112,
   "id": "c8fe10bb-3a82-4bca-a56b-d4fd0151bd9f",
   "metadata": {},
   "outputs": [
    {
     "name": "stderr",
     "output_type": "stream",
     "text": [
      "<ipython-input-112-082debbe8185>:11: MatplotlibDeprecationWarning: normalize=None does not normalize if the sum is less than 1 but this behavior is deprecated since 3.3 until two minor releases later. After the deprecation period the default value will be normalize=True. To prevent normalization pass normalize=False \n",
      "  ax.pie(sizes, explode=explode, labels=labels, autopct='%1.1f%%',\n"
     ]
    },
    {
     "data": {
      "image/png": "[encoded data removed]",
      "text/plain": [
       "<Figure size 720x576 with 1 Axes>"
      ]
     },
     "metadata": {},
     "output_type": "display_data"
    }
   ],
   "source": [
    "# Make a pie chart\n",
    "labels = 'Secret Identity', 'Public Identity', 'Identity Unknown'\n",
    "sizes = [(len(superheros[superheros['ID'] == 'Secret Identity'])/a),\n",
    "         (len(superheros[superheros['ID'] == 'Public Identity'])/a), \n",
    "         (len(superheros[superheros['ID'] == 'Identity Unknown'])/a)]\n",
    "\n",
    "explode = (0.1, 0, 0)  # split the first slice (i.e. 'Secret Identity')\n",
    "\n",
    "fig, ax = plt.subplots()\n",
    "fig.set_size_inches(10, 8)\n",
    "ax.pie(sizes, explode=explode, labels=labels, autopct='%1.1f%%',\n",
    "        shadow=False, startangle=100)\n",
    "ax.axis('equal')\n",
    "\n",
    "plt.title('Info about the DC comics Superheros identity')\n",
    "\n",
    "plt.show()\n",
    "\n",
    "#I had to get some help from whatching videos on YouTube to find how to implement the cart- CREDIT\n",
    "# I don't really know the meaning of this message. "
   ]
  },
  {
   "cell_type": "code",
   "execution_count": 113,
   "id": "41b26c6d-c43b-4e02-9b19-3af50be50ab1",
   "metadata": {},
   "outputs": [],
   "source": [
    "#CREDIT to the lecture video I rewaatch and YouTube videos- \n",
    "#In loooked up some online examples to guide me to come up with my own \n",
    "\n"
   ]
  },
  {
   "cell_type": "code",
   "execution_count": null,
   "id": "290be647-3229-4741-93de-63f7dc97b360",
   "metadata": {},
   "outputs": [],
   "source": []
  },
  {
   "cell_type": "code",
   "execution_count": null,
   "id": "04649a2a-4a0b-40fc-980c-98b4105f08d4",
   "metadata": {},
   "outputs": [],
   "source": []
  },
  {
   "cell_type": "code",
   "execution_count": null,
   "id": "74f43bd6-4776-491a-a964-922eaa91dbd3",
   "metadata": {},
   "outputs": [],
   "source": []
  }
 ],
 "metadata": {
  "kernelspec": {
   "display_name": "Python 3",
   "language": "python",
   "name": "python3"
  },
  "language_info": {
   "codemirror_mode": {
    "name": "ipython",
    "version": 3
   },
   "file_extension": ".py",
   "mimetype": "text/x-python",
   "name": "python",
   "nbconvert_exporter": "python",
   "pygments_lexer": "ipython3",
   "version": "3.8.8"
  }
 },
 "nbformat": 4,
 "nbformat_minor": 5
}
