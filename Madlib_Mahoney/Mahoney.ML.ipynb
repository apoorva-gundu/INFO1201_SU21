{
 "cells": [
  {
   "cell_type": "code",
   "execution_count": null,
   "id": "48487f21-d562-407d-8b89-6c03717c8014",
   "metadata": {},
   "outputs": [],
   "source": [
    "# Credits: JFK Inauguration speech, Youtubes Izzy Analytics and Cracking the Code\n",
    "# Run the code and follow the questions.\n",
    "noun1 = input (\"Give me a name \")\n",
    "verb1 = input (\"Give me a verb \")\n",
    "adjective1 = input (\"Give me an adjective \")\n",
    "propernoun1 = input (\"Give me your name \")\n",
    "verb2 = input (\"Give me an action verb \")\n",
    "noun2 = input (\"Give me an animal noun \")\n",
    "adjective2 = input (\"Give a descriptive adjective \")\n",
    "adjective3 = input (\"Give another descriptive adjective \")\n",
    "propernoun2 = input (\"Give a Proper National Noun \")\n",
    "propernoun3 = input (\"Give a Nationality \")\n",
    "actionverb1 = input (\"Give a action verb \")\n",
    "# Build the Story\n",
    "\n",
    "print (f\"In the long history of the world, only a {noun1} have been granted the role of {verb1} freedom in its hour of {adjective1} danger. \")\n",
    "print (f\"{propernoun1} does not shrink from this responsibility — I welcome it. \")\n",
    "print (f\"I do not believe that any of us would {verb2} places with any other {noun2} or any other generation. \")\n",
    "print (f\"The {adjective2}, the faith, the {adjective3} which we bring to this endeavor will light our country and all who serve {propernoun2} \")\n",
    "print (f\"— and the glow from that fire can truly light the world. \")\n",
    "print (f\"And so, my fellow {propernoun3}: {actionverb1} not what your country can {actionverb1} for you — ask what you {actionverb1} do for your country.\")\n",
    "\n",
    "# Answer the aksed inputs for your MadLib!\n"
   ]
  },
  {
   "cell_type": "code",
   "execution_count": null,
   "id": "426e58a3-f88c-465a-b9be-8e2e42f7cbbe",
   "metadata": {},
   "outputs": [],
   "source": []
  }
 ],
 "metadata": {
  "kernelspec": {
   "display_name": "Python 3",
   "language": "python",
   "name": "python3"
  },
  "language_info": {
   "codemirror_mode": {
    "name": "ipython",
    "version": 3
   },
   "file_extension": ".py",
   "mimetype": "text/x-python",
   "name": "python",
   "nbconvert_exporter": "python",
   "pygments_lexer": "ipython3",
   "version": "3.8.8"
  }
 },
 "nbformat": 4,
 "nbformat_minor": 5
}
