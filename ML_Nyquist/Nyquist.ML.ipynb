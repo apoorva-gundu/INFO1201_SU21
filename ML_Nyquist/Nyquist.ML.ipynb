{
 "cells": [
  {
   "cell_type": "code",
   "execution_count": 1,
   "id": "e53db962-eae7-4203-b0f4-e1e1e71d34d2",
   "metadata": {},
   "outputs": [],
   "source": [
    "# Title: Ancient Waves; original poem"
   ]
  },
  {
   "cell_type": "code",
   "execution_count": 2,
   "id": "22daf5c8-e5db-4246-8620-10b9e90d8657",
   "metadata": {},
   "outputs": [],
   "source": [
    "# This is my MadLibs project for my Info 1201 class, completed through JupyterLab"
   ]
  },
  {
   "cell_type": "code",
   "execution_count": 3,
   "id": "c9667b48-8639-48c7-9f01-0ccbf81db4a6",
   "metadata": {},
   "outputs": [],
   "source": [
    "# After reading the incomplete poem, you'll be able to input your own words into the blanks and view the finished version"
   ]
  },
  {
   "cell_type": "code",
   "execution_count": 4,
   "id": "67771742-7a3a-4c29-9569-c91c315dcd67",
   "metadata": {},
   "outputs": [],
   "source": [
    "# Everything is based off of the code Shiva Darian presented in the assignment details"
   ]
  },
  {
   "cell_type": "code",
   "execution_count": 5,
   "id": "368dc0c4-e775-4c92-b9f4-e7f7b2310f90",
   "metadata": {},
   "outputs": [],
   "source": [
    "# Below is a print statement of the poem with some words left blank"
   ]
  },
  {
   "cell_type": "code",
   "execution_count": 6,
   "id": "cc60a1b6-78f6-458e-bdee-5d6077643133",
   "metadata": {
    "tags": []
   },
   "outputs": [
    {
     "name": "stdout",
     "output_type": "stream",
     "text": [
      "The coast was the first step towards the bottom of the ____ (salty body of water).\n",
      "____ (Verb+ing) through the grainy sand, we’d be met with an engulfment of water,\n",
      "its ____ (positive adjective) hue intriguing our eyes as the ____ (temperature) wind blew.\n",
      "Each step forward covering more of our body, distorting our ____ (outer body part+s) beneath.\n",
      "By ____ (small integer) minutes, we would be where our ancestors once were,\n",
      "____ (adverb) trying to climb out of the moving waves to dry land.\n",
      "A ____ (saltwater animal) would catch glimpses as we swum deeper,\n",
      "perhaps questioning where we had been.\n"
     ]
    }
   ],
   "source": [
    "print (\"The coast was the first step towards the bottom of the ____ (salty body of water).\")\n",
    "print (\"____ (Verb+ing) through the grainy sand, we’d be met with an engulfment of water,\")\n",
    "print (\"its ____ (positive adjective) hue intriguing our eyes as the ____ (temperature) wind blew.\")\n",
    "print (\"Each step forward covering more of our body, distorting our ____ (outer body part+s) beneath.\")\n",
    "print (\"By ____ (small integer) minutes, we would be where our ancestors once were,\")\n",
    "print (\"____ (adverb) trying to climb out of the moving waves to dry land.\")\n",
    "print (\"A ____ (saltwater animal) would catch glimpses as we swum deeper,\")\n",
    "print (\"perhaps questioning where we had been.\")"
   ]
  },
  {
   "cell_type": "code",
   "execution_count": 7,
   "id": "86fc094f-88c8-4a55-afbf-bfaf90ba578d",
   "metadata": {
    "tags": []
   },
   "outputs": [],
   "source": [
    "# Fill in the blanks with words of each type to complete the poem (pay attention to capital letters)"
   ]
  },
  {
   "cell_type": "code",
   "execution_count": 8,
   "id": "552e7b45-54d2-4970-9044-5e57ff4cf989",
   "metadata": {},
   "outputs": [
    {
     "name": "stdin",
     "output_type": "stream",
     "text": [
      "Give me a name of a salty body of water:  Pacific Ocean\n"
     ]
    }
   ],
   "source": [
    "word0 = input(\"Give me a name of a salty body of water: \")"
   ]
  },
  {
   "cell_type": "code",
   "execution_count": 9,
   "id": "303c1f35-a70a-463d-a8c2-a39107173364",
   "metadata": {},
   "outputs": [
    {
     "name": "stdin",
     "output_type": "stream",
     "text": [
      "Give me a Verb with ing:  Shitting\n"
     ]
    }
   ],
   "source": [
    "word1 = input(\"Give me a Verb with ing: \")"
   ]
  },
  {
   "cell_type": "code",
   "execution_count": 10,
   "id": "304b1ec6-42cf-4450-8722-31ade34c7f1c",
   "metadata": {},
   "outputs": [
    {
     "name": "stdin",
     "output_type": "stream",
     "text": [
      "Give me a positive adjective:  colorful\n"
     ]
    }
   ],
   "source": [
    "word2 = input(\"Give me a positive adjective: \")"
   ]
  },
  {
   "cell_type": "code",
   "execution_count": 11,
   "id": "9933d007-f448-4ad4-ac6f-aca29f20e92a",
   "metadata": {},
   "outputs": [
    {
     "name": "stdin",
     "output_type": "stream",
     "text": [
      "Give me a temperature with its scale:  74 degrees Celcius\n"
     ]
    }
   ],
   "source": [
    "word3 = input(\"Give me a temperature with its scale: \")"
   ]
  },
  {
   "cell_type": "code",
   "execution_count": 12,
   "id": "775bf7ae-6685-453d-94dd-c09b6cf4393d",
   "metadata": {},
   "outputs": [
    {
     "name": "stdin",
     "output_type": "stream",
     "text": [
      "Give me a plural outer body part:  balls\n"
     ]
    }
   ],
   "source": [
    "word4 = input(\"Give me a plural outer body part: \")"
   ]
  },
  {
   "cell_type": "code",
   "execution_count": 13,
   "id": "9db1cea1-1649-40d7-a8f5-4d9dc9499f88",
   "metadata": {},
   "outputs": [
    {
     "name": "stdin",
     "output_type": "stream",
     "text": [
      "Give me a small integer:  3\n"
     ]
    }
   ],
   "source": [
    "word5 = int(input(\"Give me a small integer: \"))"
   ]
  },
  {
   "cell_type": "code",
   "execution_count": 14,
   "id": "229d5f36-292b-42c9-b47d-85b34cc77f67",
   "metadata": {},
   "outputs": [
    {
     "name": "stdin",
     "output_type": "stream",
     "text": [
      "Give me an adverb:  loudly\n"
     ]
    }
   ],
   "source": [
    "word6 = input(\"Give me an adverb: \")"
   ]
  },
  {
   "cell_type": "code",
   "execution_count": 15,
   "id": "0fc2ebfa-0da0-43bd-aef9-7f0fc3a665b8",
   "metadata": {},
   "outputs": [
    {
     "name": "stdin",
     "output_type": "stream",
     "text": [
      "Give me a saltwater animal:  sperm whale\n"
     ]
    }
   ],
   "source": [
    "word7 = input(\"Give me a saltwater animal: \")"
   ]
  },
  {
   "cell_type": "code",
   "execution_count": 16,
   "id": "9e5cf958-dc96-4d94-972e-6a649d9f4c45",
   "metadata": {},
   "outputs": [],
   "source": [
    "# The variable poem is created by rewriting the poem, combining strings and variables for each word in a concatenation"
   ]
  },
  {
   "cell_type": "code",
   "execution_count": 17,
   "id": "67bb9d2c-28c2-4396-9378-fae7de661826",
   "metadata": {},
   "outputs": [],
   "source": [
    "# The lines of text are preserved by writing \\n before each line begins"
   ]
  },
  {
   "cell_type": "code",
   "execution_count": 18,
   "id": "60d7d14b-edce-4a5e-abe8-d9c24387e93c",
   "metadata": {},
   "outputs": [],
   "source": [
    "poem = \"The coast was the first step towards the bottom of the \" + word0 + \".\\n\" + word1 + \" through the grainy sand, we’d be met with an engulfment of water,\\nits \" + word2 + \" hue intriguing our eyes as the \" + word3 + \" wind blew.\\nEach step forward covering more of our body, distorting our \" + word4 + \" beneath.\\nBy \" + str(word5) + \" minutes, we would be where our ancestors once were,\\n\" + word6 + \" trying to climb out of the moving waves to dry land.\\nA \" + word7 + \" would catch glimpses as we swum deeper,\\nperhaps questioning where we had been.\""
   ]
  },
  {
   "cell_type": "code",
   "execution_count": 19,
   "id": "9803d682-9400-4d69-97ea-4b18d2587005",
   "metadata": {},
   "outputs": [
    {
     "name": "stdout",
     "output_type": "stream",
     "text": [
      "The coast was the first step towards the bottom of the Pacific Ocean.\n",
      "Shitting through the grainy sand, we’d be met with an engulfment of water,\n",
      "its colorful hue intriguing our eyes as the 74 degrees Celcius wind blew.\n",
      "Each step forward covering more of our body, distorting our balls beneath.\n",
      "By 3 minutes, we would be where our ancestors once were,\n",
      "loudly trying to climb out of the moving waves to dry land.\n",
      "A sperm whale would catch glimpses as we swum deeper,\n",
      "perhaps questioning where we had been.\n"
     ]
    }
   ],
   "source": [
    "print(poem)"
   ]
  }
 ],
 "metadata": {
  "kernelspec": {
   "display_name": "Python 3",
   "language": "python",
   "name": "python3"
  },
  "language_info": {
   "codemirror_mode": {
    "name": "ipython",
    "version": 3
   },
   "file_extension": ".py",
   "mimetype": "text/x-python",
   "name": "python",
   "nbconvert_exporter": "python",
   "pygments_lexer": "ipython3",
   "version": "3.8.8"
  }
 },
 "nbformat": 4,
 "nbformat_minor": 5
}
