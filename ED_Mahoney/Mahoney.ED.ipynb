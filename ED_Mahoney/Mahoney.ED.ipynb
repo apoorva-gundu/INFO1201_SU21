{
 "cells": [
  {
   "cell_type": "code",
   "execution_count": 2,
   "id": "a4411d1e-eb16-4b43-a7b8-2889e351c54b",
   "metadata": {},
   "outputs": [],
   "source": [
    "import pandas as pd\n",
    "import numpy as np\n",
    "import matplotlib.pyplot as plt\n",
    "%matplotlib inline\n",
    "plt.rcParams[\"figure.figsize\"] = (8, 6)"
   ]
  },
  {
   "cell_type": "code",
   "execution_count": 3,
   "id": "1cb38ee7-2d4c-45d9-a7b3-69663ebb3930",
   "metadata": {
    "tags": []
   },
   "outputs": [],
   "source": [
    "superheroes = pd.read_csv(\"superhero_data.csv\", parse_dates = [\"FIRST_YEAR\"])"
   ]
  },
  {
   "cell_type": "code",
   "execution_count": 4,
   "id": "d193343d-626f-4dbc-b86b-9fda32cbee5e",
   "metadata": {
    "tags": []
   },
   "outputs": [
    {
     "name": "stdout",
     "output_type": "stream",
     "text": [
      "      UNIVERSE page_id                                   name  \\\n",
      "0           DC    1702             Richard Occult (New Earth)   \n",
      "1           DC  158200           Arthur Pendragon (New Earth)   \n",
      "2           DC  289378                   Bedivere (New Earth)   \n",
      "3           DC   11333  Franklin Delano Roosevelt (New Earth)   \n",
      "4           DC  342641                     Gareth (New Earth)   \n",
      "...        ...     ...                                    ...   \n",
      "23415   MARVEL      ND                  Zola Hulk (Earth-616)   \n",
      "23416   MARVEL      ND              Zola Iron Man (Earth-616)   \n",
      "23417   MARVEL      ND                  Zola Thor (Earth-616)   \n",
      "23418   MARVEL      ND                    Zoltaro (Earth-616)   \n",
      "23419   MARVEL      ND                Zora Loftus (Earth-616)   \n",
      "\n",
      "                                     urlslug               ID  \\\n",
      "0                 Richard_Occult_(New_Earth)  Secret Identity   \n",
      "1               Arthur_Pendragon_(New_Earth)  Public Identity   \n",
      "2                       Bedivere_(New_Earth)               ND   \n",
      "3      Franklin_Delano_Roosevelt_(New_Earth)  Public Identity   \n",
      "4                         Gareth_(New_Earth)               ND   \n",
      "...                                      ...              ...   \n",
      "23415                  Zola_Hulk_(Earth-616)  Secret Identity   \n",
      "23416              Zola_Iron_Man_(Earth-616)  Secret Identity   \n",
      "23417                  Zola_Thor_(Earth-616)  Secret Identity   \n",
      "23418                    Zoltaro_(Earth-616)               ND   \n",
      "23419                Zora_Loftus_(Earth-616)  Secret Identity   \n",
      "\n",
      "                 ALIGN IS_AVENGER AVENGER_STATUS AVENGER_YEAR        EYES  \\\n",
      "0                   ND         NO             ND           ND   Grey Eyes   \n",
      "1      Good Characters         NO             ND           ND  Brown Eyes   \n",
      "2                   ND         NO             ND           ND          ND   \n",
      "3      Good Characters         NO             ND           ND          ND   \n",
      "4                   ND         NO             ND           ND          ND   \n",
      "...                ...        ...            ...          ...         ...   \n",
      "23415   Bad Characters         NO             ND           ND    Red Eyes   \n",
      "23416   Bad Characters         NO             ND           ND  Black Eyes   \n",
      "23417   Bad Characters         NO             ND           ND   Blue Eyes   \n",
      "23418   Bad Characters         NO             ND           ND          ND   \n",
      "23419   Bad Characters         NO             ND           ND          ND   \n",
      "\n",
      "             HAIR                SEX                SEXUALITY  \\\n",
      "0      Black Hair    Male Characters  Heterosexual Characters   \n",
      "1      Brown Hair    Male Characters  Heterosexual Characters   \n",
      "2              ND    Male Characters  Heterosexual Characters   \n",
      "3       Grey Hair    Male Characters  Heterosexual Characters   \n",
      "4              ND    Male Characters  Heterosexual Characters   \n",
      "...           ...                ...                      ...   \n",
      "23415        Bald    Male Characters  Heterosexual Characters   \n",
      "23416     No Hair    Male Characters  Heterosexual Characters   \n",
      "23417  Blond Hair    Male Characters  Heterosexual Characters   \n",
      "23418  Black Hair    Male Characters  Heterosexual Characters   \n",
      "23419  Blond Hair  Female Characters  Heterosexual Characters   \n",
      "\n",
      "                     ALIVE APPEARANCES FIRST_MONTH FIRST_YEAR DECEASED  \\\n",
      "0        Living Characters         125    October        1935       ND   \n",
      "1        Living Characters          41   February        1936       ND   \n",
      "2        Living Characters          ND   February        1936       ND   \n",
      "3        Living Characters          52      March        1936       ND   \n",
      "4        Living Characters           1   February        1936       ND   \n",
      "...                    ...         ...         ...        ...      ...   \n",
      "23415    Living Characters           1          ND         ND       ND   \n",
      "23416    Living Characters           1          ND         ND       ND   \n",
      "23417    Living Characters           1          ND         ND       ND   \n",
      "23418  Deceased Characters           2          ND         ND       ND   \n",
      "23419    Living Characters          ND          ND         ND       ND   \n",
      "\n",
      "      RESURRECTED  \n",
      "0              ND  \n",
      "1              ND  \n",
      "2              ND  \n",
      "3              ND  \n",
      "4              ND  \n",
      "...           ...  \n",
      "23415          ND  \n",
      "23416          ND  \n",
      "23417          ND  \n",
      "23418          ND  \n",
      "23419          ND  \n",
      "\n",
      "[23420 rows x 19 columns]\n"
     ]
    }
   ],
   "source": [
    "#introduce the dataframe. From Pandas (pd) library, use DataFrame function and specify the data is coming from 'superheroes'\n",
    "df = pd.DataFrame(data = superheroes)\n",
    "print(df)"
   ]
  },
  {
   "cell_type": "code",
   "execution_count": 6,
   "id": "4e355292-75ba-4931-96a7-3d074d7c6723",
   "metadata": {
    "tags": []
   },
   "outputs": [
    {
     "name": "stdin",
     "output_type": "stream",
     "text": [
      "To start what color eyes are you looking for in your heros? (Brown Eyes, Blue Eyes, Yellow Eyes, Red Eyes, or Purple Eyes) Blue Eyes\n",
      "Do you want your characters to be good or bad(Good Characters, Bad Characters) Bad Characters\n"
     ]
    },
    {
     "name": "stdout",
     "output_type": "stream",
     "text": [
      "                         Is not Bad Characters  Is Bad Characters\n",
      "Does not have Blue Eyes                  11631               8662\n",
      "Has Blue Eyes                             2173                954\n"
     ]
    },
    {
     "ename": "KeyError",
     "evalue": "'Blue Eyes'",
     "output_type": "error",
     "traceback": [
      "\u001b[1;31m---------------------------------------------------------------------------\u001b[0m",
      "\u001b[1;31mKeyError\u001b[0m                                  Traceback (most recent call last)",
      "\u001b[1;32m~\\anaconda3\\lib\\site-packages\\pandas\\core\\indexes\\base.py\u001b[0m in \u001b[0;36mget_loc\u001b[1;34m(self, key, method, tolerance)\u001b[0m\n\u001b[0;32m   3079\u001b[0m             \u001b[1;32mtry\u001b[0m\u001b[1;33m:\u001b[0m\u001b[1;33m\u001b[0m\u001b[1;33m\u001b[0m\u001b[0m\n\u001b[1;32m-> 3080\u001b[1;33m                 \u001b[1;32mreturn\u001b[0m \u001b[0mself\u001b[0m\u001b[1;33m.\u001b[0m\u001b[0m_engine\u001b[0m\u001b[1;33m.\u001b[0m\u001b[0mget_loc\u001b[0m\u001b[1;33m(\u001b[0m\u001b[0mcasted_key\u001b[0m\u001b[1;33m)\u001b[0m\u001b[1;33m\u001b[0m\u001b[1;33m\u001b[0m\u001b[0m\n\u001b[0m\u001b[0;32m   3081\u001b[0m             \u001b[1;32mexcept\u001b[0m \u001b[0mKeyError\u001b[0m \u001b[1;32mas\u001b[0m \u001b[0merr\u001b[0m\u001b[1;33m:\u001b[0m\u001b[1;33m\u001b[0m\u001b[1;33m\u001b[0m\u001b[0m\n",
      "\u001b[1;32mpandas\\_libs\\index.pyx\u001b[0m in \u001b[0;36mpandas._libs.index.IndexEngine.get_loc\u001b[1;34m()\u001b[0m\n",
      "\u001b[1;32mpandas\\_libs\\index.pyx\u001b[0m in \u001b[0;36mpandas._libs.index.IndexEngine.get_loc\u001b[1;34m()\u001b[0m\n",
      "\u001b[1;32mpandas\\_libs\\hashtable_class_helper.pxi\u001b[0m in \u001b[0;36mpandas._libs.hashtable.PyObjectHashTable.get_item\u001b[1;34m()\u001b[0m\n",
      "\u001b[1;32mpandas\\_libs\\hashtable_class_helper.pxi\u001b[0m in \u001b[0;36mpandas._libs.hashtable.PyObjectHashTable.get_item\u001b[1;34m()\u001b[0m\n",
      "\u001b[1;31mKeyError\u001b[0m: 'Blue Eyes'",
      "\nThe above exception was the direct cause of the following exception:\n",
      "\u001b[1;31mKeyError\u001b[0m                                  Traceback (most recent call last)",
      "\u001b[1;32m<ipython-input-6-70bdc65f1f35>\u001b[0m in \u001b[0;36m<module>\u001b[1;34m\u001b[0m\n\u001b[0;32m     11\u001b[0m \u001b[1;33m\u001b[0m\u001b[0m\n\u001b[0;32m     12\u001b[0m \u001b[1;33m\u001b[0m\u001b[0m\n\u001b[1;32m---> 13\u001b[1;33m \u001b[0mappearance_by_sex\u001b[0m \u001b[1;33m=\u001b[0m \u001b[0mpd\u001b[0m\u001b[1;33m.\u001b[0m\u001b[0mcrosstab\u001b[0m\u001b[1;33m(\u001b[0m\u001b[0msuperheroes\u001b[0m\u001b[1;33m[\u001b[0m\u001b[0mEyes1\u001b[0m\u001b[1;33m]\u001b[0m\u001b[1;33m,\u001b[0m \u001b[0msuperheroes\u001b[0m\u001b[1;33m[\u001b[0m\u001b[0mAlign1\u001b[0m\u001b[1;33m]\u001b[0m\u001b[1;33m)\u001b[0m\u001b[1;33m\u001b[0m\u001b[1;33m\u001b[0m\u001b[0m\n\u001b[0m",
      "\u001b[1;32m~\\anaconda3\\lib\\site-packages\\pandas\\core\\frame.py\u001b[0m in \u001b[0;36m__getitem__\u001b[1;34m(self, key)\u001b[0m\n\u001b[0;32m   3022\u001b[0m             \u001b[1;32mif\u001b[0m \u001b[0mself\u001b[0m\u001b[1;33m.\u001b[0m\u001b[0mcolumns\u001b[0m\u001b[1;33m.\u001b[0m\u001b[0mnlevels\u001b[0m \u001b[1;33m>\u001b[0m \u001b[1;36m1\u001b[0m\u001b[1;33m:\u001b[0m\u001b[1;33m\u001b[0m\u001b[1;33m\u001b[0m\u001b[0m\n\u001b[0;32m   3023\u001b[0m                 \u001b[1;32mreturn\u001b[0m \u001b[0mself\u001b[0m\u001b[1;33m.\u001b[0m\u001b[0m_getitem_multilevel\u001b[0m\u001b[1;33m(\u001b[0m\u001b[0mkey\u001b[0m\u001b[1;33m)\u001b[0m\u001b[1;33m\u001b[0m\u001b[1;33m\u001b[0m\u001b[0m\n\u001b[1;32m-> 3024\u001b[1;33m             \u001b[0mindexer\u001b[0m \u001b[1;33m=\u001b[0m \u001b[0mself\u001b[0m\u001b[1;33m.\u001b[0m\u001b[0mcolumns\u001b[0m\u001b[1;33m.\u001b[0m\u001b[0mget_loc\u001b[0m\u001b[1;33m(\u001b[0m\u001b[0mkey\u001b[0m\u001b[1;33m)\u001b[0m\u001b[1;33m\u001b[0m\u001b[1;33m\u001b[0m\u001b[0m\n\u001b[0m\u001b[0;32m   3025\u001b[0m             \u001b[1;32mif\u001b[0m \u001b[0mis_integer\u001b[0m\u001b[1;33m(\u001b[0m\u001b[0mindexer\u001b[0m\u001b[1;33m)\u001b[0m\u001b[1;33m:\u001b[0m\u001b[1;33m\u001b[0m\u001b[1;33m\u001b[0m\u001b[0m\n\u001b[0;32m   3026\u001b[0m                 \u001b[0mindexer\u001b[0m \u001b[1;33m=\u001b[0m \u001b[1;33m[\u001b[0m\u001b[0mindexer\u001b[0m\u001b[1;33m]\u001b[0m\u001b[1;33m\u001b[0m\u001b[1;33m\u001b[0m\u001b[0m\n",
      "\u001b[1;32m~\\anaconda3\\lib\\site-packages\\pandas\\core\\indexes\\base.py\u001b[0m in \u001b[0;36mget_loc\u001b[1;34m(self, key, method, tolerance)\u001b[0m\n\u001b[0;32m   3080\u001b[0m                 \u001b[1;32mreturn\u001b[0m \u001b[0mself\u001b[0m\u001b[1;33m.\u001b[0m\u001b[0m_engine\u001b[0m\u001b[1;33m.\u001b[0m\u001b[0mget_loc\u001b[0m\u001b[1;33m(\u001b[0m\u001b[0mcasted_key\u001b[0m\u001b[1;33m)\u001b[0m\u001b[1;33m\u001b[0m\u001b[1;33m\u001b[0m\u001b[0m\n\u001b[0;32m   3081\u001b[0m             \u001b[1;32mexcept\u001b[0m \u001b[0mKeyError\u001b[0m \u001b[1;32mas\u001b[0m \u001b[0merr\u001b[0m\u001b[1;33m:\u001b[0m\u001b[1;33m\u001b[0m\u001b[1;33m\u001b[0m\u001b[0m\n\u001b[1;32m-> 3082\u001b[1;33m                 \u001b[1;32mraise\u001b[0m \u001b[0mKeyError\u001b[0m\u001b[1;33m(\u001b[0m\u001b[0mkey\u001b[0m\u001b[1;33m)\u001b[0m \u001b[1;32mfrom\u001b[0m \u001b[0merr\u001b[0m\u001b[1;33m\u001b[0m\u001b[1;33m\u001b[0m\u001b[0m\n\u001b[0m\u001b[0;32m   3083\u001b[0m \u001b[1;33m\u001b[0m\u001b[0m\n\u001b[0;32m   3084\u001b[0m         \u001b[1;32mif\u001b[0m \u001b[0mtolerance\u001b[0m \u001b[1;32mis\u001b[0m \u001b[1;32mnot\u001b[0m \u001b[1;32mNone\u001b[0m\u001b[1;33m:\u001b[0m\u001b[1;33m\u001b[0m\u001b[1;33m\u001b[0m\u001b[0m\n",
      "\u001b[1;31mKeyError\u001b[0m: 'Blue Eyes'"
     ]
    }
   ],
   "source": [
    "#In this example you will be asked to complete two inputs to compare superheroes.\n",
    "#Complete the prompted questions to compare characters eye colors and thier Alignment of good and evil.\n",
    "\n",
    "Eyes1 = input(\"To start what color eyes are you looking for in your heros? (Brown Eyes, Blue Eyes, Yellow Eyes, Red Eyes, or Purple Eyes)\")\n",
    "Align1 = input(\"Do you want your characters to be good or bad(Good Characters, Bad Characters)\")\n",
    "character_compare = pd.crosstab(index = superheroes[\"EYES\"] == Eyes1, columns = superheroes[\"ALIGN\"] == Align1)\n",
    "character_compare.columns = [\"Is not \" + Align1, \"Is \" + Align1]\n",
    "character_compare.index = [\"Does not have \" + Eyes1, \"Has \" + Eyes1]\n",
    "print(character_compare)\n",
    "\n",
    "        \n",
    "        \n",
    "appearance_by_sex = pd.crosstab(superheroes[Eyes1], superheroes[Align1])"
   ]
  },
  {
   "cell_type": "code",
   "execution_count": 7,
   "id": "b51bfb1d-9b5a-4ad1-8b25-df109f585a7b",
   "metadata": {},
   "outputs": [
    {
     "name": "stdin",
     "output_type": "stream",
     "text": [
      "Would you like to fall into Marvel or DC commics?(MARVEL, DC) MARVEL\n",
      "To start what color eyes are you looking for in your heros? (Brown Eyes, Blue Eyes, Yellow Eyes, Red Eyes, or Purple Eyes) Red Eyes\n",
      "First pick a hair color (White Hair, Black Hair, Red Hair, Brown Hair, Purple Hair, Green Hair, Bald). Brown Hair\n",
      "Now chose living or deceased heroes (Living Characters, Deceased Characters) Living Characters\n",
      "What month do you want these heros to have appeared in the universe? September\n"
     ]
    },
    {
     "name": "stdout",
     "output_type": "stream",
     "text": [
      "\n",
      " Here is the list of all of the corresponding heros!['Eon (Earth-616)']\n"
     ]
    }
   ],
   "source": [
    "# Now try and find your own specific character/characters! Note that you may not always get a result with such a refined search. Example is here listed below.\n",
    "#SPELLING IS IMPORTANT FOR ACCURACY\n",
    "#Would you like to fall into Marvel or DC commics?(MARVEL, DC) MARVEL\n",
    "#To start what color eyes are you looking for in your heros? (Brown Eyes, Blue Eyes, Yellow Eyes, Red Eyes, or Purple Eyes) Blue Eyes\n",
    "#First pick a hair color (White Hair, Black Hair, Red Hair, Brown Hair, Purple Hair, Green Hair, Bald). Bald\n",
    "#Now chose living or deceased heroes (Living Characters, Deceased Characters) Living Characters\n",
    "#What month do you want these heros to have appeared in the universe? October\n",
    "#'Albert Potter (Earth-616)', 'Douglas Scott (Earth-616)', 'Ernest Popchik (Earth-616)'\n",
    " \n",
    "Universe1 = input(\"Would you like to fall into Marvel or DC commics?(MARVEL, DC)\")\n",
    "Eyes1 = input(\"To start what color eyes are you looking for in your heros? (Brown Eyes, Blue Eyes, Yellow Eyes, Red Eyes, or Purple Eyes)\")\n",
    "Hair1 = input(\"First pick a hair color (White Hair, Black Hair, Red Hair, Brown Hair, Purple Hair, Green Hair, Bald).\")\n",
    "Alive1 = input(\"Now chose living or deceased heroes (Living Characters, Deceased Characters)\")\n",
    "Month1 = input(\"What month do you want these heros to have appeared in the universe?\")\n",
    "list_name = []\n",
    "\n",
    "# .shape[0] gives the number of rows, .shape[1] gives the number of columns\n",
    "num_rows = df.shape[0]\n",
    "\n",
    "#printing is a good way to check our work\n",
    "#to print out row 0 of Appearances column\n",
    "#print(df[\"APPEARANCES\"] [0])\n",
    "\n",
    "\n",
    "#use a for loop to go through all of the rows\n",
    "#for each row in the total rows of the dataframe for our file\n",
    "for row in range(num_rows):\n",
    "    \n",
    "    #use 'continue' to skip any instance with no data (ND) about the number of appearances\n",
    "    if(df[\"EYES\"][row]==\"ND\"):\n",
    "        continue\n",
    "        \n",
    "    #this is the main line of code that does what we want.    \n",
    "    elif(df[\"EYES\"][row] == Eyes1 and (df[\"ALIVE\"][row] == Alive1) and (df[\"HAIR\"][row] == Hair1) and (df[\"FIRST_MONTH\"][row] == Month1) and (df[\"UNIVERSE\"][row] == Universe1)):\n",
    "        list_name.append(df[\"name\"][row])\n",
    "\n",
    "print(\"\\n Here is the list of all of the corresponding heros!\" + str(list_name))\n",
    "\n",
    "    "
   ]
  },
  {
   "cell_type": "code",
   "execution_count": null,
   "id": "7bfc8702-ebde-4405-9041-5f59a7469205",
   "metadata": {},
   "outputs": [],
   "source": [
    "#This is a notes tab where I wanted to compare the numbers I was getting below. Also credit the youtubers I watched they are written at the end of my code \n",
    "#and, not, or  boolean operators\n",
    "#<, <=, >, !=, ==  arithemetic operators\n",
    "#df[\"SEX\"].value_counts().plot(kind=\"bar\")\n",
    "#before1980 = df((df[\"SEX\"].value_counts(normalize=True)== \"Male Characters\") and (df[\"FIRST_YEAR\"].value_counts(normalize=True)<= str(1980))\n",
    "#df[\"SEX\"].value_counts()\n",
    "#Male Characters           16521\n",
    "#Female Characters          5853\n",
    "#ND                          978\n",
    "#Agender Characters           45\n",
    "#Genderless Characters        20\n",
    "#Genderfluid Characters        2\n",
    "#Transgender Characters        1\n",
    "#Name: SEX, dtype: int64"
   ]
  },
  {
   "cell_type": "code",
   "execution_count": 17,
   "id": "ed4138fd-074f-454c-baf6-57cb01006516",
   "metadata": {},
   "outputs": [
    {
     "name": "stdin",
     "output_type": "stream",
     "text": [
      "Pick a year to see how many female characters were made before and after that year. 1977\n"
     ]
    },
    {
     "data": {
      "image/png": "[encoded data removed]",
      "text/plain": [
       "<Figure size 576x432 with 1 Axes>"
      ]
     },
     "metadata": {},
     "output_type": "display_data"
    }
   ],
   "source": [
    "# This question is used to find the where the unequal balances in superheroes was created.\n",
    "# Enter a year to see how many male and female characters were created before that year and after that year.\n",
    "\n",
    "\n",
    "list_womensa = []\n",
    "list_mensa = []\n",
    "list_womensb = []\n",
    "list_mensb = []\n",
    "\n",
    "num_rows = df.shape[0]\n",
    "\n",
    "over1980 = input(\"Pick a year to see how many female characters were made before and after that year.\")\n",
    "\n",
    "for row in range(num_rows):\n",
    "    if(df[\"FIRST_YEAR\"][row]==\"ND\") or (df[\"SEX\"][row]==\"ND\"):\n",
    "        continue\n",
    "    elif(df[\"FIRST_YEAR\"][row] >= over1980 and (df[\"SEX\"][row] == \"Female Characters\")):\n",
    "        list_womensa.append(df[\"name\"][row])\n",
    "\n",
    "for row in range(num_rows):\n",
    "    if(df[\"FIRST_YEAR\"][row]==\"ND\") or (df[\"SEX\"][row]==\"ND\"):\n",
    "        continue\n",
    "    elif(df[\"FIRST_YEAR\"][row] >= over1980 and (df[\"SEX\"][row] == \"Male Characters\")):\n",
    "        list_mensa.append(df[\"name\"][row])\n",
    "        \n",
    "for row in range(num_rows):\n",
    "    if(df[\"FIRST_YEAR\"][row]==\"ND\") or (df[\"SEX\"][row]==\"ND\"):\n",
    "        continue\n",
    "    elif(df[\"FIRST_YEAR\"][row] <= over1980 and (df[\"SEX\"][row] == \"Female Characters\")):\n",
    "        list_womensb.append(df[\"name\"][row])\n",
    "\n",
    "for row in range(num_rows):\n",
    "    if(df[\"FIRST_YEAR\"][row]==\"ND\") or (df[\"SEX\"][row]==\"ND\"):\n",
    "        continue\n",
    "    elif(df[\"FIRST_YEAR\"][row] <= over1980 and (df[\"SEX\"][row] == \"Male Characters\")):\n",
    "        list_mensb.append(df[\"name\"][row])\n",
    "        \n",
    "        \n",
    "# print the total number of characters in the data\n",
    "#print(\"\\nTotal number of characters: \" + str(len(superhero)))\n",
    "#print(\"\\nTotal number of female characters created after: \" + str(len(list_womensa)))\n",
    "#print(\"\\nTotal number of males characters created after: \" + str(len(list_mensa)))\n",
    "#print(\"\\nTotal number of female characters created before: \" + str(len(list_womensb)))\n",
    "#print(\"\\nTotal number of males characters created before: \" + str(len(list_mensb)))\n",
    "\n",
    "chart_values = [str(len(list_womensa)),str(len(list_womensb)),str(len(list_mensa)),str(len(list_mensb))]\n",
    "chart_labels = [\"Female Characters created after\",\"Female Characters created before\",\"Male Characters created after\",\"Male Characters created before\"]\n",
    "\n",
    "plt.axis('equal')\n",
    "plt.title(\"Number of Marvel and DC Characters created before and after \" + over1980, fontsize = 18)\n",
    "plt.pie(chart_values,labels=chart_labels)\n",
    "plt.show()\n"
   ]
  },
  {
   "cell_type": "code",
   "execution_count": null,
   "id": "c5b0cae9-49f3-4f94-94a9-12b77ef9a653",
   "metadata": {},
   "outputs": [],
   "source": [
    "#The Credit Page\n",
    "#Alot of the ideas are extentions of the work we did in class. I just wanted something where the user can easily adjust inputs\n",
    "#Data School on youtube as well as Datagy on youtube. The functions they listed were actually much more complex so I did not use all of them, but I drew inspiration on them.\n"
   ]
  },
  {
   "cell_type": "code",
   "execution_count": null,
   "id": "3b8dd3d8-ac82-43d9-a4e7-a128e6b9c2cb",
   "metadata": {},
   "outputs": [],
   "source": []
  }
 ],
 "metadata": {
  "kernelspec": {
   "display_name": "Python 3",
   "language": "python",
   "name": "python3"
  },
  "language_info": {
   "codemirror_mode": {
    "name": "ipython",
    "version": 3
   },
   "file_extension": ".py",
   "mimetype": "text/x-python",
   "name": "python",
   "nbconvert_exporter": "python",
   "pygments_lexer": "ipython3",
   "version": "3.8.8"
  }
 },
 "nbformat": 4,
 "nbformat_minor": 5
}
