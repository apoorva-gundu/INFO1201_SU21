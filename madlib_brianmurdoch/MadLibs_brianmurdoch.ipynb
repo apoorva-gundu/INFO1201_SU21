{
 "cells": [
  {
   "cell_type": "code",
   "execution_count": 5,
   "metadata": {},
   "outputs": [],
   "source": [
    "#Making a Mad Lib with a template story found online\n"
   ]
  },
  {
   "cell_type": "code",
   "execution_count": 6,
   "metadata": {},
   "outputs": [],
   "source": [
    "#First, print story so player can see the whole game"
   ]
  },
  {
   "cell_type": "code",
   "execution_count": 7,
   "metadata": {},
   "outputs": [
    {
     "name": "stdout",
     "output_type": "stream",
     "text": [
      "Our ____ (nouns) are packed for a hike in the ____ (adjective)\n",
      "Mountains! We are carrying a picnic lunch with\n",
      "____ (food) and ____ (food) on our ____ (part of the body), and I\n",
      "have a ____ (noun) for ____ (verb-ing) photos. We will ____ (verb)\n",
      "past meadows filled with ____ (color) and ___ (color)\n",
      "flowers, and pass a ____ (adjective) waterfall that\n",
      "sounds like a ____ (noun). Many animals live in the\n",
      "mountains, like the ____ (adjective) ____ (animals) and\n",
      "____ (adjective) ____(animal). It's fun to ____ (verb) them\n",
      "but important to be safe and keep a ____ (adjective)\n",
      "distance. The higher we ____ (verb), the smaller\n",
      "the wildflower meadow and waterfall appear;\n",
      "we may even see ____ (noun) still on the ground\n",
      "from last winter. This hike should take ____ (number) of hours to complete.\n"
     ]
    }
   ],
   "source": [
    "print(\"Our ____ (nouns) are packed for a hike in the ____ (adjective)\")\n",
    "print(\"Mountains! We are carrying a picnic lunch with\")\n",
    "print(\"____ (food) and ____ (food) on our ____ (part of the body), and I\")\n",
    "print(\"have a ____ (noun) for ____ (verb-ing) photos. We will ____ (verb)\")\n",
    "print(\"past meadows filled with ____ (color) and ___ (color)\")\n",
    "print(\"flowers, and pass a ____ (adjective) waterfall that\")\n",
    "print(\"sounds like a ____ (noun). Many animals live in the\")\n",
    "print(\"mountains, like the ____ (adjective) ____ (animals) and\")\n",
    "print(\"____ (adjective) ____(animal). It's fun to ____ (verb) them\")\n",
    "print(\"but important to be safe and keep a ____ (adjective)\")\n",
    "print(\"distance. The higher we ____ (verb), the smaller\")\n",
    "print(\"the wildflower meadow and waterfall appear;\")\n",
    "print(\"we may even see ____ (noun) still on the ground\")\n",
    "print(\"from last winter. This hike should take ____ (number) of hours to complete.\")"
   ]
  },
  {
   "cell_type": "code",
   "execution_count": null,
   "metadata": {},
   "outputs": [],
   "source": [
    "#Player instructions: To play game, follow the prompts below "
   ]
  },
  {
   "cell_type": "code",
   "execution_count": 8,
   "metadata": {},
   "outputs": [
    {
     "name": "stdin",
     "output_type": "stream",
     "text": [
      "Give me plural noun:  backpacks\n"
     ]
    }
   ],
   "source": [
    "word0 = input(\"Give me plural noun: \")"
   ]
  },
  {
   "cell_type": "code",
   "execution_count": 9,
   "metadata": {},
   "outputs": [
    {
     "name": "stdin",
     "output_type": "stream",
     "text": [
      "Give me an adjective:  Rocky\n"
     ]
    }
   ],
   "source": [
    "word1 = input(\"Give me an adjective: \")"
   ]
  },
  {
   "cell_type": "code",
   "execution_count": 10,
   "metadata": {},
   "outputs": [
    {
     "name": "stdin",
     "output_type": "stream",
     "text": [
      "Give me a food:  apples\n"
     ]
    }
   ],
   "source": [
    "word2 = input(\"Give me a food: \")"
   ]
  },
  {
   "cell_type": "code",
   "execution_count": 11,
   "metadata": {},
   "outputs": [
    {
     "name": "stdin",
     "output_type": "stream",
     "text": [
      "Give me another food:  cheese\n"
     ]
    }
   ],
   "source": [
    "word3 = input(\"Give me another food: \")"
   ]
  },
  {
   "cell_type": "code",
   "execution_count": 12,
   "metadata": {},
   "outputs": [
    {
     "name": "stdin",
     "output_type": "stream",
     "text": [
      "Give me a body part:  backs\n"
     ]
    }
   ],
   "source": [
    "word4 = input(\"Give me a body part: \")"
   ]
  },
  {
   "cell_type": "code",
   "execution_count": 13,
   "metadata": {},
   "outputs": [
    {
     "name": "stdin",
     "output_type": "stream",
     "text": [
      "Give me a noun film camera\n"
     ]
    }
   ],
   "source": [
    "word5 = input(\"Give me a noun\")"
   ]
  },
  {
   "cell_type": "code",
   "execution_count": 14,
   "metadata": {},
   "outputs": [
    {
     "name": "stdin",
     "output_type": "stream",
     "text": [
      "Give me a verb ending in -ing:  hiking\n"
     ]
    }
   ],
   "source": [
    "word6 = input(\"Give me a verb ending in -ing: \")"
   ]
  },
  {
   "cell_type": "code",
   "execution_count": 15,
   "metadata": {},
   "outputs": [
    {
     "name": "stdin",
     "output_type": "stream",
     "text": [
      "Give me a verb:  walk\n"
     ]
    }
   ],
   "source": [
    "word7 = input(\"Give me a verb: \")"
   ]
  },
  {
   "cell_type": "code",
   "execution_count": 16,
   "metadata": {},
   "outputs": [
    {
     "name": "stdin",
     "output_type": "stream",
     "text": [
      "Give me a color:  purple\n"
     ]
    }
   ],
   "source": [
    "word8 = input(\"Give me a color: \")"
   ]
  },
  {
   "cell_type": "code",
   "execution_count": 17,
   "metadata": {},
   "outputs": [
    {
     "name": "stdin",
     "output_type": "stream",
     "text": [
      "Give me another color:  yellow\n"
     ]
    }
   ],
   "source": [
    "word9 = input(\"Give me another color: \")"
   ]
  },
  {
   "cell_type": "code",
   "execution_count": 18,
   "metadata": {},
   "outputs": [
    {
     "name": "stdin",
     "output_type": "stream",
     "text": [
      "Give me an adjective:  gushing\n"
     ]
    }
   ],
   "source": [
    "word10 = input(\"Give me an adjective: \")"
   ]
  },
  {
   "cell_type": "code",
   "execution_count": 19,
   "metadata": {},
   "outputs": [
    {
     "name": "stdin",
     "output_type": "stream",
     "text": [
      "Give me a noun:  washing machine\n"
     ]
    }
   ],
   "source": [
    "word11 = input(\"Give me a noun: \")"
   ]
  },
  {
   "cell_type": "code",
   "execution_count": 20,
   "metadata": {},
   "outputs": [
    {
     "name": "stdin",
     "output_type": "stream",
     "text": [
      "Give me an adjective:  brown\n"
     ]
    }
   ],
   "source": [
    "word12 = input(\"Give me an adjective: \")"
   ]
  },
  {
   "cell_type": "code",
   "execution_count": 21,
   "metadata": {},
   "outputs": [
    {
     "name": "stdin",
     "output_type": "stream",
     "text": [
      "Give me an animal:  bear\n"
     ]
    }
   ],
   "source": [
    "word13 = input(\"Give me an animal: \")"
   ]
  },
  {
   "cell_type": "code",
   "execution_count": 22,
   "metadata": {},
   "outputs": [
    {
     "name": "stdin",
     "output_type": "stream",
     "text": [
      "Give me an adjective:  bald\n"
     ]
    }
   ],
   "source": [
    "word14 = input(\"Give me an adjective: \")"
   ]
  },
  {
   "cell_type": "code",
   "execution_count": 23,
   "metadata": {},
   "outputs": [
    {
     "name": "stdin",
     "output_type": "stream",
     "text": [
      "Give me an animal:  eagle\n"
     ]
    }
   ],
   "source": [
    "word15 = input(\"Give me an animal: \")"
   ]
  },
  {
   "cell_type": "code",
   "execution_count": 24,
   "metadata": {},
   "outputs": [
    {
     "name": "stdin",
     "output_type": "stream",
     "text": [
      "Give me a verb:  watch\n"
     ]
    }
   ],
   "source": [
    "word16 = input(\"Give me a verb: \")"
   ]
  },
  {
   "cell_type": "code",
   "execution_count": 25,
   "metadata": {},
   "outputs": [
    {
     "name": "stdin",
     "output_type": "stream",
     "text": [
      "Give me an adjective safe\n"
     ]
    }
   ],
   "source": [
    "word17 = input(\"Give me an adjective\")"
   ]
  },
  {
   "cell_type": "code",
   "execution_count": 26,
   "metadata": {},
   "outputs": [
    {
     "name": "stdin",
     "output_type": "stream",
     "text": [
      "Give me a verb:  climb\n"
     ]
    }
   ],
   "source": [
    "word18 = input(\"Give me a verb: \")"
   ]
  },
  {
   "cell_type": "code",
   "execution_count": 27,
   "metadata": {},
   "outputs": [
    {
     "name": "stdin",
     "output_type": "stream",
     "text": [
      "Give me a noun:  snow\n"
     ]
    }
   ],
   "source": [
    "word19 = input(\"Give me a noun: \")"
   ]
  },
  {
   "cell_type": "code",
   "execution_count": 28,
   "metadata": {},
   "outputs": [
    {
     "name": "stdin",
     "output_type": "stream",
     "text": [
      "Give me a number:  8\n"
     ]
    }
   ],
   "source": [
    "word20 = input(\"Give me a number: \")"
   ]
  },
  {
   "cell_type": "code",
   "execution_count": 29,
   "metadata": {},
   "outputs": [],
   "source": [
    "# Create new variable called \"story\" and write out all the lines"
   ]
  },
  {
   "cell_type": "code",
   "execution_count": 30,
   "metadata": {},
   "outputs": [],
   "source": [
    "# use \\n to seperate each line"
   ]
  },
  {
   "cell_type": "code",
   "execution_count": 31,
   "metadata": {},
   "outputs": [],
   "source": [
    "story = \" Our \" + word0 + \" are packed for a hike in the \" + word1 + \" Mountains! We are carrying a picnic lunch with \" + word2 + \" and \" + word3 + \" on our \" + word4 + \", and I have a \" + word5 + \" for \" + word6 + \" photos. We will \" + word7 + \" past meadows filled with \" + word8 + \" and \" + word9 + \" flowers, and pass a \" + word10 + \" waterfall that sounds like a \" + word11 + \". Many animals live in the mountains, like the \" + word12 + \" \" + word13 + \" and \" + word14 + \" \" + word15 + \". It's fun to \" + word16 + \" them but important to be safe and keep a \" + word17 + \" distance. The higher we \" + word18 + \", the smaller the wildflower meadow and waterfall appear; we may even see \" + word19 + \" still on the ground from last winter. This hike should take \" + str(word20) + \" of hours to complete. \"       "
   ]
  },
  {
   "cell_type": "code",
   "execution_count": 32,
   "metadata": {},
   "outputs": [],
   "source": [
    "# Print story with inputs"
   ]
  },
  {
   "cell_type": "code",
   "execution_count": 33,
   "metadata": {},
   "outputs": [
    {
     "name": "stdout",
     "output_type": "stream",
     "text": [
      " Our backpacks are packed for a hike in the Rocky Mountains! We are carrying a picnic lunch with apples and cheese on our backs, and I have a film camera for hiking photos. We will walk past meadows filled with purple and yellow flowers, and pass a gushing waterfall that sounds like a washing machine. Many animals live in the mountains, like the brown bear and bald eagle. It's fun to watch them but important to be safe and keep a safe distance. The higher we climb, the smaller the wildflower meadow and waterfall appear; we may even see snow still on the ground from last winter. This hike should take 8 of hours to complete. \n"
     ]
    }
   ],
   "source": [
    "print(story)"
   ]
  },
  {
   "cell_type": "code",
   "execution_count": null,
   "metadata": {},
   "outputs": [],
   "source": []
  },
  {
   "cell_type": "code",
   "execution_count": null,
   "metadata": {},
   "outputs": [],
   "source": []
  },
  {
   "cell_type": "code",
   "execution_count": null,
   "metadata": {},
   "outputs": [],
   "source": []
  }
 ],
 "metadata": {
  "kernelspec": {
   "display_name": "Python 3",
   "language": "python",
   "name": "python3"
  },
  "language_info": {
   "codemirror_mode": {
    "name": "ipython",
    "version": 3
   },
   "file_extension": ".py",
   "mimetype": "text/x-python",
   "name": "python",
   "nbconvert_exporter": "python",
   "pygments_lexer": "ipython3",
   "version": "3.8.5"
  }
 },
 "nbformat": 4,
 "nbformat_minor": 4
}
