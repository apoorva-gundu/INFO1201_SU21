{
 "cells": [
  {
   "cell_type": "code",
   "execution_count": 2,
   "metadata": {},
   "outputs": [],
   "source": [
    "# start with intro"
   ]
  },
  {
   "cell_type": "code",
   "execution_count": 3,
   "metadata": {},
   "outputs": [
    {
     "name": "stdout",
     "output_type": "stream",
     "text": [
      "Welcome to the apocalypse adventure. \n",
      "Make the right choices to win the game \n"
     ]
    }
   ],
   "source": [
    "print(\"Welcome to the apocalypse adventure. \\nMake the right choices to win the game \")"
   ]
  },
  {
   "cell_type": "code",
   "execution_count": 4,
   "metadata": {},
   "outputs": [
    {
     "name": "stdout",
     "output_type": "stream",
     "text": [
      "You wake up in your bed. You realize the power is out and your roommates are gone. \n",
      "What do you want to do?\n",
      "Look for your cell phone?\n",
      "Search the house for clues about what's happening?\n"
     ]
    }
   ],
   "source": [
    "print(\"You wake up in your bed. You realize the power is out and your roommates are gone. \\nWhat do you want to do?\") \n",
    "print(\"Look for your cell phone?\")\n",
    "print(\"Search the house for clues about what's happening?\")"
   ]
  },
  {
   "cell_type": "code",
   "execution_count": 5,
   "metadata": {},
   "outputs": [],
   "source": [
    "# use input function and if/elif to allow user to make a choice "
   ]
  },
  {
   "cell_type": "code",
   "execution_count": 6,
   "metadata": {},
   "outputs": [
    {
     "name": "stdin",
     "output_type": "stream",
     "text": [
      "What do you want to do? Enter cell phone or search the house:  search the house\n"
     ]
    }
   ],
   "source": [
    "choice = (input(\"What do you want to do? Enter cell phone or search the house: \"))"
   ]
  },
  {
   "cell_type": "code",
   "execution_count": 7,
   "metadata": {},
   "outputs": [
    {
     "name": "stdout",
     "output_type": "stream",
     "text": [
      "You search the house for clues. \n",
      "Do you start inside or outside?\n",
      "(5) Start inside?\n",
      "(6) Start outside\n"
     ]
    }
   ],
   "source": [
    "if choice == \"cell phone\":\n",
    "    # continue story by checking your phone\n",
    "    print(\"You find your phone is 5% battery. You have no missed calls or unanswered text messages. \\nDo you start making calls or check the internet for clues? \")\n",
    "    \n",
    "    print(\"(3) Start making calls?\")\n",
    "    print(\"(4) Check the internet?\")\n",
    "    \n",
    "elif choice == \"search the house\":\n",
    "    # continue story by checking the houuse\n",
    "    print(\"You search the house for clues. \\nDo you start inside or outside?\")\n",
    "    print(\"(5) Start inside?\")\n",
    "    print(\"(6) Start outside\")"
   ]
  },
  {
   "cell_type": "code",
   "execution_count": 8,
   "metadata": {},
   "outputs": [
    {
     "name": "stdin",
     "output_type": "stream",
     "text": [
      "What do you want to do? Enter a number:  6\n"
     ]
    }
   ],
   "source": [
    "choice = int(input(\"What do you want to do? Enter a number: \"))"
   ]
  },
  {
   "cell_type": "code",
   "execution_count": 9,
   "metadata": {},
   "outputs": [
    {
     "name": "stdout",
     "output_type": "stream",
     "text": [
      "You go outside. Do you check the out the front yard or back yard?\n",
      "(13) front yard?\n",
      "(14) back yard?\n"
     ]
    }
   ],
   "source": [
    "if choice == 3:\n",
    "    # continue story by making calls\n",
    "    print(\"You start making calls. \\nDo you call your roommates or 9-1-1\")\n",
    "    \n",
    "    print(\"(7) Call roommates?\")\n",
    "    print(\"(8) Call 9-1-1?\")\n",
    "    \n",
    "elif choice == 4:\n",
    "    # continue story by using the internet\n",
    "    print(\"You decide to check the internet and social media for clues. \\nDo you check a news website or your Instagram account?\")\n",
    "    print(\"(9) Do you check a news website?\")\n",
    "    print(\"(10) Do you check your Instagram account?\")\n",
    "    \n",
    "elif choice == 5:\n",
    "    #continue story by starting inside\n",
    "    print(\"You start searching inside. Do you check the bathroom or the basement?\")\n",
    "    \n",
    "    print(\"(11) Check bathroom?\")\n",
    "    print(\"(12) Check basement\")\n",
    "    \n",
    "elif choice == 6:\n",
    "    # continue story by going outside\n",
    "    print(\"You go outside. Do you check the out the front yard or back yard?\")\n",
    "    \n",
    "    print(\"(13) front yard?\")\n",
    "    print(\"(14) back yard?\")"
   ]
  },
  {
   "cell_type": "code",
   "execution_count": 10,
   "metadata": {},
   "outputs": [],
   "source": [
    "# continue the story by adding the next layer of choices"
   ]
  },
  {
   "cell_type": "code",
   "execution_count": 11,
   "metadata": {},
   "outputs": [
    {
     "name": "stdin",
     "output_type": "stream",
     "text": [
      "What do you want to do? Enter a number:  13\n"
     ]
    }
   ],
   "source": [
    "choice = int(input(\"What do you want to do? Enter a number: \"))"
   ]
  },
  {
   "cell_type": "code",
   "execution_count": 13,
   "metadata": {},
   "outputs": [
    {
     "name": "stdout",
     "output_type": "stream",
     "text": [
      "You go to the front yard. You look up and get abducted by an alien UFO. WELCOME, YOU WIN!\n"
     ]
    }
   ],
   "source": [
    "if choice == 7:\n",
    "    print(\"You dial one of your roommates. The call goes straight to voicemail and your phone dies. \\nThe end. YOU LOSE\")\n",
    "    \n",
    "elif choice == 8:\n",
    "    print(\"You dial 9-1-1. The call goes straight to dial tone. Your phone dies. \\nThe end. YOU LOSE\")\n",
    "    \n",
    "elif choice == 9:\n",
    "    print(\"You check your local news website. The page is completely blank. Your phone dies. \\nThe end. YOU LOSE\")\n",
    "    \n",
    "elif choice == 10:\n",
    "    print(\"You check your Instagram account. The app opens, then closes immediately. Your phone dies. \\nThe end. YOU LOSE\")\n",
    "    \n",
    "elif choice == 11:\n",
    "    print(\"You check out the bathroom. The door locks and your stuck inside. \\nThe end. YOU LOSE\")\n",
    "    \n",
    "elif choice == 12:\n",
    "    print(\"You check out the basement. You fall down the stairs and injure yourself. \\nThe end. YOU LOSE\")\n",
    "    \n",
    "elif choice == 13:\n",
    "    print(\"You go to the front yard. You look up and get abducted by an alien UFO. WELCOME, YOU WIN!\")\n",
    "    \n",
    "elif choice == 14:\n",
    "    print(\"You go to the back yard. You look up and get struck by lightning. \\nThe end. YOU LOSE\")"
   ]
  },
  {
   "cell_type": "code",
   "execution_count": null,
   "metadata": {},
   "outputs": [],
   "source": []
  }
 ],
 "metadata": {
  "kernelspec": {
   "display_name": "Python 3",
   "language": "python",
   "name": "python3"
  },
  "language_info": {
   "codemirror_mode": {
    "name": "ipython",
    "version": 3
   },
   "file_extension": ".py",
   "mimetype": "text/x-python",
   "name": "python",
   "nbconvert_exporter": "python",
   "pygments_lexer": "ipython3",
   "version": "3.8.5"
  }
 },
 "nbformat": 4,
 "nbformat_minor": 4
}
