{
 "cells": [
  {
   "cell_type": "code",
   "execution_count": null,
   "id": "d883f8e4-c768-4949-aae4-2fac80b4e5cb",
   "metadata": {},
   "outputs": [],
   "source": [
    "# 'You Call It A Haunted House?' -- Story Adapted by Kent Ahn -- CYOA Project - INFO 1201"
   ]
  },
  {
   "cell_type": "code",
   "execution_count": null,
   "id": "61d87e63-7b82-483f-8fe1-7a8d2ab18049",
   "metadata": {},
   "outputs": [],
   "source": [
    "# StoryBoard Outline in a Document!"
   ]
  },
  {
   "cell_type": "code",
   "execution_count": null,
   "id": "8942399d-fbf2-4814-aae4-2b245e64cb05",
   "metadata": {},
   "outputs": [],
   "source": [
    "# Run this and enjoy the story!"
   ]
  },
  {
   "cell_type": "code",
   "execution_count": null,
   "id": "22d66105-f2ad-400c-a764-54856dd8c229",
   "metadata": {},
   "outputs": [],
   "source": [
    "print (\"You walk in the middle of the night and it's raining.\")\n",
    "print (\"You peer around for shelter, but you don't see anything.\")\n",
    "print (\"What do you do?\")"
   ]
  },
  {
   "cell_type": "code",
   "execution_count": null,
   "id": "b5caa12d-ecbb-4c0b-b377-9d70a5ff2296",
   "metadata": {},
   "outputs": [],
   "source": [
    "choice = (input(\"What do you want to do? Enter Keep Following the Path or Do Nothing: \"))"
   ]
  },
  {
   "cell_type": "code",
   "execution_count": null,
   "id": "029af921-c2f4-406e-8649-86a677f63383",
   "metadata": {},
   "outputs": [],
   "source": [
    "if choice == \"Keep Following the Path\":\n",
    "    # continue story by Keep Following the Path\n",
    "    print (\"A shadowy figure down the path stands before your eyes. \\nYou stand in shock and have no idea what to do. \\nWhat do you do next?\")\n",
    "    print (\"Walk toward?\")\n",
    "    print (\"Sit down and do nothing?\")\n",
    "    \n",
    "elif choice == \"Do Nothing\":\n",
    "    #discontinues story and displays 'Try Again'\n",
    "    print (\"Try Again\")\n",
    "    # Restart Kernel and all outputs"
   ]
  },
  {
   "cell_type": "code",
   "execution_count": null,
   "id": "b49ef34c-437d-4016-909d-3b314fa1d0f3",
   "metadata": {},
   "outputs": [],
   "source": [
    "choice = (input(\"What do you do next? Enter Walk Toward or Sit down and do nothing: \"))"
   ]
  },
  {
   "cell_type": "code",
   "execution_count": null,
   "id": "20b669c8-56d3-4f66-855a-0fdef7687689",
   "metadata": {},
   "outputs": [],
   "source": [
    "if choice == \"Walk Toward\": \n",
    "    print (\"The shadowy figure disappears in thin air as you approach it. \\nBut then you strumble upon a haunted house.\")\n",
    "    print (\"The front door creepily opens as if it is inviting you in. \\nDo you walk inside or stay outside?\")\n",
    "    print (\"(1) Walk Inside?\")\n",
    "    print (\"(2) Stay Outside?\")\n",
    "    \n",
    "elif choice == \"Sit down and do nothing\": \n",
    "    print (\"Try Again\")\n",
    "    # Restart Kernel and all outputs"
   ]
  },
  {
   "cell_type": "code",
   "execution_count": null,
   "id": "63a6529a-96ae-4c9a-9197-fd654bd14918",
   "metadata": {},
   "outputs": [],
   "source": [
    "choice = int(input(\"What do you want to do? Enter a number: \"))"
   ]
  },
  {
   "cell_type": "code",
   "execution_count": null,
   "id": "56d2e33b-6801-48d3-9bf7-a61e1ae883f7",
   "metadata": {},
   "outputs": [],
   "source": [
    "if choice == 1:\n",
    "    # Continue story by walking inside\n",
    "    print (\"As you enter the house, the cold air fills in all over the house. \\nThe paintings and pictures make you feel less secure as it watches you walk around.\")\n",
    "    print (\"Abruptly, a loud bang came from upstairs. \\nThen a clang sound came from the kitchen.\")\n",
    "    print (\"Do you follow the sound upstairs or follow the sound from the kitchen?\")\n",
    "    print (\"(3) Upstairs\")\n",
    "    print (\"(4) Kitchen\")\n",
    "    \n",
    "elif choice == 2:\n",
    "    # Continue story by staying outside\n",
    "    print (\"You then shut the door as if someone pushes you to the ground. \\nWith nothing left to do as you stand up, you start to walk away from the house.\")\n",
    "    print (\"Suddenly, a rustle sound came from behind. You look behind and see a ghost chasing after you.\")\n",
    "    print (\"What do you do?\")\n",
    "    print (\"(5) Run\")\n",
    "    print (\"(6) Scare it\")"
   ]
  },
  {
   "cell_type": "code",
   "execution_count": null,
   "id": "c1709988-76b9-4a1a-8628-570123c5945f",
   "metadata": {},
   "outputs": [],
   "source": [
    "choice = int(input(\"What do you want to do? Enter a number: \"))"
   ]
  },
  {
   "cell_type": "code",
   "execution_count": null,
   "id": "938721e3-41d5-413e-afc7-53cb738d8ede",
   "metadata": {},
   "outputs": [],
   "source": [
    "if choice == 3:\n",
    "    # Continue story by going upstairs\n",
    "    print (\"Slowly walking up the stairs, with the creaking sounds you're making, half of the bottom stairs suddenly collapses. \\nYou are now stuck exploring the upstairs.\")\n",
    "    print (\"Having little silence, the loud bang resumed. \\nIt was the door down the hall. \\nYou're slowly making your way through the hallway.\")\n",
    "    print (\"The door opens on its own as a mysterious shadow merges. Do you say hello or grab a random object?\")\n",
    "    print (\"(7) Say Hello\")\n",
    "    print (\"(8) Grab a random object\")\n",
    "    \n",
    "elif choice == 4:\n",
    "    # Continue story by going to the kitchen\n",
    "    print (\"Slowly walking towards the kitchen, you see a shadow that may look like someone making food.\")\n",
    "    print (\"You start to question if there is actually someone.\")\n",
    "    print (\"Do you say hello or grab a random object?\")\n",
    "    print (\"(9) Say Hello\")\n",
    "    print (\"(10) Grab a random object\")\n",
    "    \n",
    "elif choice == 5:\n",
    "    # Continue story by running\n",
    "    print (\"You start to run as fast as you can. \\n You run through the forest you came from.\")\n",
    "    print (\"You kept running and running until you tripped over a rock. \\nThe ghost comes close to you.\")\n",
    "    print (\"What do you do?\")\n",
    "    print (\"(11) Cover Yourself\")\n",
    "    print (\"(12) Say 'Please Don't Hurt Me'\")\n",
    "    \n",
    "elif choice == 6:\n",
    "    #Continue story by scaring it\n",
    "    print (\"You let out a big roar like a lion to scare the ghost. \\nThe ghost suddenly stands in shock and starts laughing at you.\")\n",
    "    print (\"The ghost's laugh was making it scarier to you so you decided to talk to it with anger. \\nThe front door then creaks open slowly.\")\n",
    "    print (\"what do you do?\")\n",
    "    print (\"(13) Stand in sparring position\")\n",
    "    print (\"(14) Scare it\")"
   ]
  },
  {
   "cell_type": "code",
   "execution_count": null,
   "id": "ec51ceb9-fa07-4b1b-84aa-30bf3feed0d0",
   "metadata": {},
   "outputs": [],
   "source": [
    "choice = int(input(\"What do you want to do? Enter a number: \"))"
   ]
  },
  {
   "cell_type": "code",
   "execution_count": null,
   "id": "224b79b2-ae65-4428-b257-e27af97290b1",
   "metadata": {},
   "outputs": [],
   "source": [
    "if choice == 7:\n",
    "    # Continue story by saying hello\n",
    "    print (\"The shadow walks toward your direction as you back up. \\nAs the shadow appeared, a woman in her late 20s greets you.\")\n",
    "    print (\"She then tells you that the stairs breaking was an illusion created by friendly prank ghosts.\")\n",
    "    print (\"She felt apologetic and handed you a towel to wipe off.\")\n",
    "    print (\"The End\")\n",
    "    \n",
    "elif choice == 8:\n",
    "    # Continue story by grabbing a random object\n",
    "    print (\"The shadow walks toward your direction as you back up. \\nAs the shadow appeared, a woman in her late 20s greets you.\")\n",
    "    print (\"She stands in shock with what you're carrying. \\nShe then tries to tell you that the stairs breaking was an illusion created by friendly prank ghosts, but you run away.\")\n",
    "    print (\"The End\")\n",
    "    \n",
    "elif choice == 9:\n",
    "    # Continue story by saying hello part 2\n",
    "    print (\"The shadow walks toward your direction. \\nThe shadow appeared. \\nIt turned out to be a woman in her late 20s.\")\n",
    "    print (\"She greets you with kindness. \\nShe then offers and convinces you to stay until the rain is gone.\")\n",
    "    print (\"The End\")\n",
    "    \n",
    "elif choice == 10:\n",
    "    # Continue story by grabbing a random object part 2\n",
    "    print (\"The shadow walks toward your direction. \\nThe shadow appeared. \\nIt turned out to be a woman in her late 20s.\")\n",
    "    print (\"Shee greets you with kindness, but sees you having an object with you. \\nShe tries to convince you that the ghosts in the house\")\n",
    "    print (\"were pulling a prank on you, but you suddenly pass out after hearing the word ghost.\")\n",
    "    print (\"The End\")\n",
    "    \n",
    "elif choice == 11:\n",
    "    #Continue story by covering yourself\n",
    "    print (\"The ghost starts to talk to you saying that it won't hurt you. \\nYou peek a little. \\nIt was a woman in her late 20s.\")\n",
    "    print (\"She extends her arm out to you. \\nYou realize that she is helping you. \\nYou decide to grab her hand.\")\n",
    "    print (\"She then offers to stay in the house until the rain is gone.\")\n",
    "    print (\"The End\")\n",
    "    \n",
    "elif choice == 12:\n",
    "    #Continue story by saying 'please don't hurt me'\n",
    "    print (\"The ghost starts to talk to you saying that it won't hurt you. \\nYou peek a little. \\nIt was a woman in her late 20s.\")\n",
    "    print (\"She extends her arm out to you. \\nYou realize that she is helping you. \\nYou decide to grab her hand.\")\n",
    "    print (\"She then offers to stay in the house until the rain is gone.\")\n",
    "    print (\"The End\")\n",
    "    \n",
    "elif choice == 13:\n",
    "    # Continue story by standing in sparring position\n",
    "    print (\"The door fully opened and it was a woman in her late 20s. \\nShe greets you and apologizes to you.\")\n",
    "    print (\"She states that the ghosts living in the house are friendly and do no harm. \\nShe offers to stay in the house until the rain in gone.\")\n",
    "    print (\"The End\")\n",
    "    \n",
    "elif choice == 14:\n",
    "    # Continue story by scaring it\n",
    "    print (\"The door fully opened and it was a woman in her late 20s. \\nShe did not flinch at all and greeted you. \\nShe also apologizes for the ghost's behavior.\")\n",
    "    print (\"She states that the ghosts living in the house are friendly and do no harm. \\nShe offers to stay in the house until the rain is gone\")\n",
    "    print (\"The End\")"
   ]
  },
  {
   "cell_type": "code",
   "execution_count": null,
   "id": "76dc26ed-218d-4811-881a-8ee8d64b31b0",
   "metadata": {},
   "outputs": [],
   "source": [
    "# Thanks for playing my COYA! "
   ]
  },
  {
   "cell_type": "code",
   "execution_count": null,
   "id": "cb15dcf1-a1a0-4269-9b9d-334e7568179f",
   "metadata": {},
   "outputs": [],
   "source": []
  }
 ],
 "metadata": {
  "kernelspec": {
   "display_name": "Python 3",
   "language": "python",
   "name": "python3"
  },
  "language_info": {
   "codemirror_mode": {
    "name": "ipython",
    "version": 3
   },
   "file_extension": ".py",
   "mimetype": "text/x-python",
   "name": "python",
   "nbconvert_exporter": "python",
   "pygments_lexer": "ipython3",
   "version": "3.8.8"
  }
 },
 "nbformat": 4,
 "nbformat_minor": 5
}
