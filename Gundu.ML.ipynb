{
 "cells": [
  {
   "cell_type": "code",
   "execution_count": null,
   "id": "4d966ed4-b214-4f75-9972-f3090eb107f4",
   "metadata": {},
   "outputs": [],
   "source": [
    "#Your Personalized Love Letter"
   ]
  },
  {
   "cell_type": "code",
   "execution_count": null,
   "id": "59161669-dd47-4de6-adc8-82a36d6b12b0",
   "metadata": {},
   "outputs": [],
   "source": [
    "#Credits: The entire letter is from the book \"P.S. I Still Love You\" by Jenny Han. The code is entirely mine and was inspired by Ms. Shiva Darian's example code. "
   ]
  },
  {
   "cell_type": "code",
   "execution_count": null,
   "id": "0a0fce6b-80ca-48a1-8b03-1abe25da6cba",
   "metadata": {},
   "outputs": [],
   "source": [
    "#Instructions: Read the Letter and get an idea of the subject. You will be asked for inputs on the empty spaces of the letter. Have fun and create a love letter for someone special!"
   ]
  },
  {
   "cell_type": "code",
   "execution_count": null,
   "id": "cfde9d7d-be35-45d3-b5c0-0115723cd44e",
   "metadata": {},
   "outputs": [],
   "source": [
    "print(\"Dear _____ (name), \")\n",
    "print(\"I miss you. It’s only been ____ (number) days but I miss you like it’s been ____ (number) years. Maybe because I don’t know if this is just it, if you and I will ever ____ (verb) again. I mean I’m sure we’ll say ____ (greeting) in ____ (subject) class, or in the ________ (location), but will it ever be like it was? That’s what makes me ______ (adj). I felt like I could say _______ (dialogue) to you. I think you felt the ______ (same/different) way. I hope you did.\")\n",
    "print(\"So I’m just going to say anything to you right now, while I’m still feeling ______ (adj). What happened between us in the ______ (location) scared me. I know it was just a _____ (noun) in the life of ______ (name) for you, but for me, it meant a lot more,  and that’s what ______ (adj) me. Not just what people were ______ (verb) about it, and me, but that it happened at all. How _____ (easy/late) it was, how much I _____ (liked/hated) it. I got ______ (adj) and I took it out on you and for that, I’m truly ______ (saying). \")\n",
    "print(\"And at the ______ (event/theme) party, I’m sorry I didn’t ______ (verb) you to _____ (name). I should have. I know I ____ (verb-ed) you that much. I still can’t believe you _____ (verb),  and that you brought those ________ (dessert). You looked ____ (adj) in your _______ (clothing), by the way. I’m not saying that to ______ (verb) you up. I mean it.\")\n",
    "print(\"You gave me my ____ (number) love story, _____ (name). Please just _____ (verb) let it be over yet. \")\n",
    "print(\"Love, _____ (name)\")"
   ]
  },
  {
   "cell_type": "code",
   "execution_count": null,
   "id": "42365750-a19f-467d-a546-107bada4c47b",
   "metadata": {},
   "outputs": [],
   "source": [
    "#Instructions pt.2: Dont forget to activate the input slot by clicking the [shift] and [enter] keys. Once you input your answers, then click enter. Have Fun!"
   ]
  },
  {
   "cell_type": "code",
   "execution_count": null,
   "id": "05a3ee8f-c74f-4829-9e7a-dc4788880b34",
   "metadata": {},
   "outputs": [],
   "source": [
    "word1= input(\"Select a name: \")"
   ]
  },
  {
   "cell_type": "code",
   "execution_count": null,
   "id": "357aa8e9-fa1d-48be-b291-ce6481b5f22d",
   "metadata": {},
   "outputs": [],
   "source": [
    "word2= input(\"Pick a number: \")"
   ]
  },
  {
   "cell_type": "code",
   "execution_count": null,
   "id": "5318be71-8231-4a86-a878-dfeb239537ab",
   "metadata": {},
   "outputs": [],
   "source": [
    "word3= input(\"Pick another number: \")"
   ]
  },
  {
   "cell_type": "code",
   "execution_count": null,
   "id": "e0e702b6-c28b-45b3-beaa-d933fdc5f0a1",
   "metadata": {},
   "outputs": [],
   "source": [
    "word4= input(\"Select a verb: \")"
   ]
  },
  {
   "cell_type": "code",
   "execution_count": null,
   "id": "c6605bab-3143-43ba-b980-57b3deec5967",
   "metadata": {},
   "outputs": [],
   "source": [
    "word5= input(\"Select a greeting: \")"
   ]
  },
  {
   "cell_type": "code",
   "execution_count": null,
   "id": "a63f3077-0bc2-48e4-8bfd-802c5c82f7e8",
   "metadata": {},
   "outputs": [],
   "source": [
    "word6= input(\"Select a school subject: \")"
   ]
  },
  {
   "cell_type": "code",
   "execution_count": null,
   "id": "1ec6aee4-a34d-42ba-a731-ced46f3557eb",
   "metadata": {},
   "outputs": [],
   "source": [
    "word7= input(\"Select a location: \")"
   ]
  },
  {
   "cell_type": "code",
   "execution_count": null,
   "id": "650a5bc9-9e0c-410c-acb5-b15578036b5b",
   "metadata": {},
   "outputs": [],
   "source": [
    "word8= input(\"Pick an adjective: \")"
   ]
  },
  {
   "cell_type": "code",
   "execution_count": null,
   "id": "19b5d0f8-0bc3-4245-a1e2-ddd7b9cd3759",
   "metadata": {},
   "outputs": [],
   "source": [
    "word14= input(\"Pick a dialogue: \")"
   ]
  },
  {
   "cell_type": "code",
   "execution_count": null,
   "id": "6b209273-e907-4dfd-b7fa-2c4393f36d25",
   "metadata": {},
   "outputs": [],
   "source": [
    "word15= input(\"Select same or different: \")"
   ]
  },
  {
   "cell_type": "code",
   "execution_count": null,
   "id": "c35c0d74-054e-4b22-a99e-9996dfe56a5a",
   "metadata": {},
   "outputs": [],
   "source": [
    "word16= input(\"Pick an adjective: \")"
   ]
  },
  {
   "cell_type": "code",
   "execution_count": null,
   "id": "5fc90efd-7a53-4566-b40f-fe039991551b",
   "metadata": {},
   "outputs": [],
   "source": [
    "word17= input(\"Select a location: \")"
   ]
  },
  {
   "cell_type": "code",
   "execution_count": null,
   "id": "df3fd47b-0943-4fa9-ab37-c9210244571b",
   "metadata": {},
   "outputs": [],
   "source": [
    "word18= input(\"Pick a time (i.e. day, year, etc.) : \")"
   ]
  },
  {
   "cell_type": "code",
   "execution_count": null,
   "id": "e41a28d4-3dec-498d-ba03-d64c6c999ec3",
   "metadata": {},
   "outputs": [],
   "source": [
    "word19= input(\"Type in the first name that you chose: \")"
   ]
  },
  {
   "cell_type": "code",
   "execution_count": null,
   "id": "feeafa47-cccc-4c50-997d-e126f3e7e59b",
   "metadata": {},
   "outputs": [],
   "source": [
    "word20= input (\"Pick an adjective: \")"
   ]
  },
  {
   "cell_type": "code",
   "execution_count": null,
   "id": "54bcd590-5eb4-4d54-9940-b91b784e0065",
   "metadata": {},
   "outputs": [],
   "source": [
    "word9= input(\"Select a verb: \")"
   ]
  },
  {
   "cell_type": "code",
   "execution_count": null,
   "id": "c7de51b5-8eeb-4ecb-8b2c-9c819d1a6973",
   "metadata": {},
   "outputs": [],
   "source": [
    "word10= input(\"Choose between easy and late: \")"
   ]
  },
  {
   "cell_type": "code",
   "execution_count": null,
   "id": "9ad07a2c-aef2-4875-8f7b-6f2d62135b5e",
   "metadata": {},
   "outputs": [],
   "source": [
    "word11= input(\"Choose between liked and hated: \")"
   ]
  },
  {
   "cell_type": "code",
   "execution_count": null,
   "id": "9327aa89-8d59-4a19-8c0d-dde4b4fc7d03",
   "metadata": {},
   "outputs": [],
   "source": [
    "word12= input(\"Pick an adjective: \")"
   ]
  },
  {
   "cell_type": "code",
   "execution_count": null,
   "id": "15136013-2bea-4cd9-9a25-1de7a3f97df8",
   "metadata": {},
   "outputs": [],
   "source": [
    "word13= input(\"Choose between sorry or not sorry: \") "
   ]
  },
  {
   "cell_type": "code",
   "execution_count": null,
   "id": "18df5060-52d5-4216-9bfb-d671e1d276a7",
   "metadata": {},
   "outputs": [],
   "source": [
    "word21= input(\"Choose a type of event or theme for the party: \")"
   ]
  },
  {
   "cell_type": "code",
   "execution_count": null,
   "id": "f7dbeae7-de03-49e4-b869-772b052df122",
   "metadata": {},
   "outputs": [],
   "source": [
    "word22= input(\"Choose a verb: \")"
   ]
  },
  {
   "cell_type": "code",
   "execution_count": null,
   "id": "ca39dfa1-bf4c-4261-89e8-958bb1e054be",
   "metadata": {},
   "outputs": [],
   "source": [
    "word23= input(\"Choose a name: \")"
   ]
  },
  {
   "cell_type": "code",
   "execution_count": null,
   "id": "be68d5c8-82da-4a55-bb35-97ccf4fabab6",
   "metadata": {},
   "outputs": [],
   "source": [
    "word24= input(\"Choose a verb with -ed: \")"
   ]
  },
  {
   "cell_type": "code",
   "execution_count": null,
   "id": "7538a470-6630-4c97-bf8a-f4442ab972d4",
   "metadata": {},
   "outputs": [],
   "source": [
    "word25= input(\"Choose another verb: \")"
   ]
  },
  {
   "cell_type": "code",
   "execution_count": null,
   "id": "d0edecde-074b-45aa-9b9e-8cc9d4c93acf",
   "metadata": {},
   "outputs": [],
   "source": [
    "word26= input(\"Choose a kind of dessert: \")"
   ]
  },
  {
   "cell_type": "code",
   "execution_count": null,
   "id": "52b8266f-a875-47f8-b7b6-4a6da91178f2",
   "metadata": {},
   "outputs": [],
   "source": [
    "word27= input(\"Pick an adjective: \")"
   ]
  },
  {
   "cell_type": "code",
   "execution_count": null,
   "id": "b014ca7c-61e2-4233-8cfa-71e2831a3e79",
   "metadata": {},
   "outputs": [],
   "source": [
    "word28= input(\"Choose a clothing article: \")"
   ]
  },
  {
   "cell_type": "code",
   "execution_count": null,
   "id": "7864a215-10fd-4bb2-97c4-8bab910ea7c6",
   "metadata": {},
   "outputs": [],
   "source": [
    "word29= input(\"Choose a verb: \")"
   ]
  },
  {
   "cell_type": "code",
   "execution_count": null,
   "id": "db24ba05-38ec-4a56-8b33-b1f6f187b15b",
   "metadata": {},
   "outputs": [],
   "source": [
    "word30= input(\"Choose a number: \")"
   ]
  },
  {
   "cell_type": "code",
   "execution_count": null,
   "id": "4bea9a2a-d93a-4777-aec8-245f46cc7686",
   "metadata": {},
   "outputs": [],
   "source": [
    "word31= input(\"Type in the second name you used before: \")"
   ]
  },
  {
   "cell_type": "code",
   "execution_count": null,
   "id": "bf164dfd-9430-446f-ab0f-c01c838c50e2",
   "metadata": {},
   "outputs": [],
   "source": [
    "word32= input(\"Choose a verb: \")"
   ]
  },
  {
   "cell_type": "code",
   "execution_count": null,
   "id": "fea698da-3f5d-460d-9eaf-1a3fa73534d5",
   "metadata": {},
   "outputs": [],
   "source": [
    "word33= input(\"Choose a name: \")"
   ]
  },
  {
   "cell_type": "code",
   "execution_count": null,
   "id": "308777fd-cc5d-4b98-b79f-957e9a8c2363",
   "metadata": {},
   "outputs": [],
   "source": [
    "loveletter= \"Dear \" + word1 +  \",\" + \"\\nI miss you. It’s only been \" + str(word2)+ \" days but I miss you like it’s been \" + str(word3) + \" years. Maybe because I don’t know if this is just it, if you and I will ever \" + word4 + \" again. I mean I’m sure we’ll say \" + word5 + \" in \" + word6 + \" class, or in the \" + word7 + \" but will it ever be like it was? That’s what makes me \" + word8 + \". I felt like I could say \" + word14 + \" to you. I think you felt the \" + word15 + \" way. I hope you did.\" + \"\\nSo I’m just going to say anything to you right now, while I’m still feeling \" + word16 + \". What happened between us in the \" + word17 + \" scared me. I know it was just a \" + word18 +  \" in the life of \" + word19 +  \" for you, but for me, it meant a lot more, and that’s what \" + word20 + \" me. Not just what people were \" + word9 + \" about it, and me, but that it happened at all. How \" + word10 + \" it was, how much I \" + word11 + \" it. I got \" + word12 + \" and I took it out on you and for that, I’m truly \" + word13 + \".\" + \"\\nAnd at the \" + word21 + \" party, I’m sorry I didn’t \" + word22 + \" you to \" + word23+ \". I should have. I know I \" + word24 + \" you that much. I still can’t believe you \" + word25 + \",  and that you brought those \" + word26 + \". You looked \" + word27 + \" in your \" + word28+ \", by the way. I’m not saying that to \" + word29 +  \" you up. I mean it.\" + \"\\nYou gave me my \" + str(word30) + \" love story, \" + word31 + \". Please just \" + word32 + \" let it be over yet.\" + \"\\nLove, \" + word33 \n"
   ]
  },
  {
   "cell_type": "code",
   "execution_count": null,
   "id": "5c5a0ce3-e57f-457f-9f97-4a9085282c2f",
   "metadata": {},
   "outputs": [],
   "source": [
    "print(loveletter)\n",
    "\n",
    "print(\"Hope you created the most beautiful (or not) letter possible and had fun!\")"
   ]
  },
  {
   "cell_type": "code",
   "execution_count": null,
   "id": "4ef6078c-f448-4ce7-bc83-2ba7456310cc",
   "metadata": {},
   "outputs": [],
   "source": []
  }
 ],
 "metadata": {
  "kernelspec": {
   "display_name": "Python 3",
   "language": "python",
   "name": "python3"
  },
  "language_info": {
   "codemirror_mode": {
    "name": "ipython",
    "version": 3
   },
   "file_extension": ".py",
   "mimetype": "text/x-python",
   "name": "python",
   "nbconvert_exporter": "python",
   "pygments_lexer": "ipython3",
   "version": "3.8.8"
  }
 },
 "nbformat": 4,
 "nbformat_minor": 5
}
