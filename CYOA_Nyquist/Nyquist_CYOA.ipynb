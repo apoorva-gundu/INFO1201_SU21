{
 "cells": [
  {
   "cell_type": "code",
   "execution_count": 1,
   "id": "ae8f4e6c-6844-48a5-8699-3f0258874e50",
   "metadata": {},
   "outputs": [],
   "source": [
    "# Island Exploration"
   ]
  },
  {
   "cell_type": "code",
   "execution_count": 2,
   "id": "ed29581f-da88-432c-8fa6-dfb1998a6617",
   "metadata": {},
   "outputs": [],
   "source": [
    "# The game and story was inspired in some ways by Shiva Darian's example in class."
   ]
  },
  {
   "cell_type": "code",
   "execution_count": 3,
   "id": "a2b4ec69-8a8b-4836-b4f3-79324e67e1f7",
   "metadata": {},
   "outputs": [],
   "source": [
    "# The code for the game is also based off of the code Shiva Darian presented in the project's lectures."
   ]
  },
  {
   "cell_type": "code",
   "execution_count": 4,
   "id": "6d4db108-983b-4442-82b4-8ed8eea41377",
   "metadata": {},
   "outputs": [],
   "source": [
    "# I used this website to solve python syntax issues: https://stackoverflow.com/questions/24237111/syntax-error-invalid-syntax-for-no-apparent-reason\n",
    "# I learned that the syntax errors can be about lines before the syntax actually found the error. "
   ]
  },
  {
   "cell_type": "code",
   "execution_count": 5,
   "id": "58c22d5b-d99d-42b7-bb69-8752141467ff",
   "metadata": {},
   "outputs": [],
   "source": [
    "# To play the game, enter one of the words given for each question to create a print statement of the storyline.\n",
    "# If you don't type any of the words given, the story will stop and you will have to restart.\n",
    "# The boolean operators only prompt the conditional if the script inputted is equal to the variable in an elif statement. \n",
    "# Else, there are no equivalents, and the game cannot continue."
   ]
  },
  {
   "cell_type": "code",
   "execution_count": 6,
   "id": "ec475fe6-937b-4a69-bc44-cde66b26ec2e",
   "metadata": {},
   "outputs": [],
   "source": [
    "# There are 20 possible endings, under four layers of choices. "
   ]
  },
  {
   "cell_type": "code",
   "execution_count": null,
   "id": "6b0c3025-4501-43ad-b80b-0096cc4d0047",
   "metadata": {
    "tags": []
   },
   "outputs": [
    {
     "name": "stdout",
     "output_type": "stream",
     "text": [
      "The air is overtly humid this afternoon.\n",
      "As the world has changed throughout the years,\n",
      "landforms have shifted, some disappearing, some joining,\n",
      "while others form.\n",
      "New islands are kept isolated from humans for a long period of time\n",
      "to then be investigated for new speciation.\n",
      "You’ve been tasked to drop down to one of these islands,\n",
      "which has been creating its own jungle for decades.\n",
      "It is now ready to be investigated for the first time.\n",
      "Equipped with a camera, recorder, and the bare necessities,\n",
      "you arrive on a parachute.\n",
      "\n"
     ]
    }
   ],
   "source": [
    "print(\"The air is overtly humid this afternoon.\\nAs the world has changed throughout the years,\\nlandforms have shifted, some disappearing, some joining,\\nwhile others form.\\nNew islands are kept isolated from humans for a long period of time\\nto then be investigated for new speciation.\\nYou’ve been tasked to drop down to one of these islands,\\nwhich has been creating its own jungle for decades.\\nIt is now ready to be investigated for the first time.\\nEquipped with a camera, recorder, and the bare necessities,\\nyou arrive on a parachute.\\n\")\n",
    "choice1 = input(\"Are you prepared to explore? Enter yes or no: \")"
   ]
  },
  {
   "cell_type": "code",
   "execution_count": null,
   "id": "22ee5a52-6e01-48d1-a641-f6522efa503f",
   "metadata": {},
   "outputs": [],
   "source": [
    "if choice1 == \"yes\":\n",
    "        print(\"You begin to rummage through the different plants and trees, taking note of anything particularly new,\\nrecording characteristics and taking samples and photos.\\nAs the sunlight glimmers through these trees, green colors mesh with one another,\\nhighlighting any particularly bold hues.\\nThe faint sounds of rustling leaves are paired with familiar bird and insect songs,\\nyet odd from the ones you are used to hearing.\\nYou creep steadily along.\\n\\nYou hear a strange thundering in the distance.\\n\")\n",
    "        choice2 = input(\"Do you investigate? Enter investigate or ignore: \")\n",
    "    \n",
    "elif choice1 == \"no\":\n",
    "    print(\"It’s all so very new to you. You need a second to take everything in.\\nYou double check your belongings.\\nAs you’re making sure your camera’s charger is working in the sunlight,\\nyou jump after seeing a shadow in the trees from the corner of your eye.\\n\")\n",
    "    choice2 = input(\"Do you want to take a closer look? Enter closer or farther: \")\n",
    "    \n",
    "else: \n",
    "    print(\"You didn't write that correctly. You'll have to restart.\")"
   ]
  },
  {
   "cell_type": "code",
   "execution_count": null,
   "id": "bdae9627-6be7-4f17-b6ae-c4d708c3ae0e",
   "metadata": {},
   "outputs": [],
   "source": [
    "if choice2 == \"investigate\":\n",
    "    print(\"Curious, you carry onwards towards the sound, still aware of your surroundings.\\nAs the sounds grow louder, they become more distinct.\\nYou find a waterfall.\\nThe beauty of it all astounds you.\\n\")\n",
    "    choice3 = input(\"What do you do? Enter step or sing or move: \")\n",
    "    \n",
    "elif choice2 == \"ignore\":\n",
    "    print(\"Keep it moving. You want nothing to do with whatever can make noise like that.\\nAs you walk, you reach an area where a spotlight of sun breaks through.\\nThe trees seem to be evading this small area.\\nBut where the trees have opened, the vegetation underneath has bloomed.\\nYou catch glimpses of purple underneath the green,\\nand find yourself quite hungry.\\n\")\n",
    "    choice3 = input(\"Eat the fruit? Enter eat or specimen: \")\n",
    "    \n",
    "elif choice2 == \"closer\":\n",
    "    print(\"You don’t know what it could be, and that fuels your first steps inwards.\\nYou watch as leaves rustle abnormally in the trees, and take note of any prints in the earth.\\nA call is heard several yards away, helping to readjust your direction.\\nOver time you find yourself in rocky terrain.\\nYou trip,\\nbut catch yourself, at the foot of a small but long lava tube.\\n\")\n",
    "    choice3 = input(\"How many steps do you want to take inside? Enter zero or few or many: \")\n",
    "    \n",
    "elif choice2 == \"farther\":\n",
    "    print(\"In fact, you’re even more reluctant to enter the area now.\\nWhy did you agree to do this?\\nYour thoughts race even faster because...\\nis it coming towards you??\\n\")\n",
    "    choice3 = input(\"What do you do? Enter run or freeze: \")\n",
    "    \n",
    "else: \n",
    "    print(\"You didn't write that correctly. You'll have to restart.\")"
   ]
  },
  {
   "cell_type": "code",
   "execution_count": null,
   "id": "4a83e2d4-e8b2-48b7-8ed5-e5b21df8fa8e",
   "metadata": {},
   "outputs": [],
   "source": [
    "if choice3 == \"step\":\n",
    "    print(\"The humidity in the air has made you hot.\\nIt's making it hard to get your work done.\\nYou decide to step in the water. Or take several steps.\\nIn fact, you're standing in the middle of the stream at this point.\\nYou slip. And now you are going downstream.\\nThere’s a branch a ways away at your left and a boulder to your right.\\n\")\n",
    "    choice4 = input(\"What do you do? Enter branch or boulder: \")\n",
    "    \n",
    "elif choice3 == \"sing\":\n",
    "    print(\"Alright. We’re living free. This is what life’s all about.\\nYou’re a bit out of tune but you've got the spirit.\\nAny life around you is, at the very least, startled by your sudden bravado, and has decided that this space is yours now.\\n\")\n",
    "    choice4 = input(\"Are you going to focus? Enter focus or live: \")\n",
    "    \n",
    "elif choice3 == \"move\":\n",
    "    print(\"You take note of its appearance for geological records but carry forward.\\nThere’s so much more left to explore.\\nAs you carry forward you see a structure in the distance,\\nbut it’s getting dark and you have yet to create a space for yourself.\\n\")\n",
    "    choice4 = input(\"Go to the structure? Enter structure or camp: \")\n",
    "\n",
    "elif choice3 == \"eat\":\n",
    "    print(\"Why not?\\n\\nIt’s strange. Didn’t taste very good.\\nYou continue forwards from... somewhere?\\n\\nAnd go... somewhere?\\n\")\n",
    "    choice4 = input(\"Where are you? Enter island or ???: \")\n",
    "\n",
    "elif choice3 == \"specimen\":\n",
    "    print(\"Nope.\\nYou don’t want to fall ill on an unfamiliar island by yourself, and this sounds like the perfect way to do that.\\nYou take a sample of it but continue forwards.\\nA few steps away, you come across a very oddly-shaped tree.\\nIts trunk seems to have lost its strength, causing the tree to twist and curve.\\nYou see a strange purple growth at its base.\\n\")\n",
    "    choice4 = input(\"Get a sample of the bark? Enter sample or picture: \")\n",
    "\n",
    "elif choice3 == \"zero\":\n",
    "    print(\"You’re not going into that thing. Your focus is solely on the thing in the trees.\\nThere is no life down there.\\nYou continue forth, following movements and going into thicker and thicker tree growth.\\nYou move a branch out of the way, only to get web in your face.\\nYou feel bad for this mystery spider. You broke their home, and their way of getting lunch.\\nYou're hungry and tired too.\\n\")\n",
    "    choice4 = input(\"Set up camp? Enter set or higher: \")\n",
    "\n",
    "elif choice3 == \"few\":\n",
    "    print(\"You don’t want to venture too far, but taking a look around wouldn’t hurt.\\nYou enter the tube and find a stash of fruit at a corner.\\nYou find an arthropod scuttling with a piece of the hoard for itself.\\n\")\n",
    "    choice4 = input(\"Follow it? Enter follow or fear: \")\n",
    "\n",
    "elif choice3 == \"many\":\n",
    "    print(\"Nevermind these shadows, they don’t want to be followed.\\nYou head straight into the tube, wondering how far along it goes.\\nAfter several steps, you need a flashlight to see, and you need to crawl forwards.\\nYou hear an echoing screech behind you. It catches you off guard.\\n\")\n",
    "    choice4 =  input(\"Is it time to turn around? Enter turn or never: \")\n",
    "\n",
    "elif choice3 == \"run\":\n",
    "    print(\"Run now, ask questions later.\\nYou run through the beach before hitting the edge of the water.\\nYou swim against the waves. Whatever it was, it wouldn’t want to follow you out this far.\\nYour bag drags you down.\\n\")                \n",
    "    choice4 = input(\"Let go of belongings? Enter let or return: \")\n",
    "    \n",
    "elif choice3 == \"freeze\":\n",
    "    print(\"Stand still. Freeze tactic.\\nNice.\\nGreat for observing, though it seems your stature has made the shadow second guess itself.\\n\")\n",
    "    choice4 = input(\"What do you do? Enter still or camera: \")\n",
    "    \n",
    "else: \n",
    "    print(\"You didn't write that correctly. You'll have to restart.\")"
   ]
  },
  {
   "cell_type": "code",
   "execution_count": null,
   "id": "f46b25f5-8c0e-4cf3-a559-732d210e9c9d",
   "metadata": {},
   "outputs": [],
   "source": [
    "if choice4 == \"branch\":\n",
    "    print(\"It takes a lot of energy and risk to grab it but its bark helps you grip its surface.\\nYou’re able to regain your stance and walk back up to the bottom of the waterfall.\\nYou hang your equipment and bags on a branch to dry off and bask in the sunlight.\\nThat could’ve gone poorly.\\nYou decide to set up camp and enjoy a nice dinner, a few steps away from the river's edge.\")\n",
    "    \n",
    "elif choice4 == \"boulder\":\n",
    "    print(\"You’re able to touch it, but its smooth surface makes it impossible to hold onto.\\nYou continue sliding downstream, struggling to stay afloat from the weight of your bag.\\nYou decide to let the bag go, and swim your way to the river's bank.\\nBagless, you follow the edge of the river, hoping that it got caught by something.\\nIt grows dark. It's hard to see, and you’re cold.\")\n",
    "\n",
    "elif choice4 == \"focus\":\n",
    "    print(\"That was a bit out of character.\\nYou regain your composure, but the animals are unsure of you at this point.\\nYou decide you’ve ruined the moment, take a picture, and continue your journey through the trees.\")\n",
    "    \n",
    "elif choice4 == \"live\":\n",
    "    print(\"No.\\nYou’re leaning into this feeling today.\\nYou continue to sing and dance, going under the waterfall just to increase the mystique of your nature.\\nOr the silliness of it.\\nThe animals get an idea of who you are. Some join you in song.\\nThe night is filled with odd melodies and interpretive movements.\")\n",
    "    \n",
    "elif choice4 == \"structure\":\n",
    "    print(\"After climbing up a hill, you are met with an odd rock formation.\\nIts peculiarities are noted, but it is the perfect place to set up a small space for yourself.\\nYou enjoy the sunset from this rock, aware of your solitude.\")\n",
    "    \n",
    "elif choice4 == \"camp\":\n",
    "    print(\"That structure looks interesting, but you are unsure of how the night will welcome you.\\nYou decide that the hum of the water will keep you company tonight.\\nYou set camp near the foot of the waterfall\\nand watch the hue of the water cascade into darker shades of red and purple,\\nuntil only white glimmers of the moon remind you of where you are.\")\n",
    "\n",
    "elif choice4 == \"island\":\n",
    "    print(\"Get it together. And let’s never do that again.\\nYou’ve somehow made your way back to the end of the beach.\\nThe waves calm you down, and you lay on a patch of grass underneath a tree.\\nAn unfamiliar crab greets you. You fall asleep as the night approaches.\")\n",
    "    \n",
    "elif choice4 == \"???\":\n",
    "    print(\"What??\\n\\nYou’re lost. \\nWhy would you even eat that?\\nYou have food in your bag, you know?\\n\\nYou eventually regain your senses in a deep stretch of forest.\\nIt is dark and your bag is gone.\\nThe moon is here to guide you though.\\nAfter your initial mental anguish, you work your way up to a standing position.\\nYou walk in a random direction and hope for the best.\")\n",
    "    \n",
    "elif choice4 == \"sample\":\n",
    "    print(\"You take a closer look at the bark.\\nIn some places it is healthy, but it feels soft in others.\\nYou come to the root of the problem: a purple fungus appears to have taken the tree over.\\nAs you take your samples, the tree becomes unstable, and you jump away before it falls to the ground.\\nA pungent smell fills the air.\\nYou realize that the growth is on your shoes.\")\n",
    "    \n",
    "elif choice4 == \"picture\":\n",
    "    print(\"You take pictures from a distance. The tree will most likely fall over, which could cause issues.\\nYou are only the initial investigator of this place, anyways.\\nOn your way back, you notice a purple beetle underneath the fruit leaves.\")\n",
    "    \n",
    "elif choice4 == \"set\":\n",
    "    print(\"It’s a tight and congested space, but you can make it work.\\nYou want to document the shadows at night as well.\\nYou set up camp and pull out food to eat. You bring out equipment to document a summary of the day.\\nThen turn around to find your food gone.\\nYou look up to see several figures in the trees. Mammals with your food.\\nThey take it as a peace offering, allowing you to take photos from the ground.\\nThe social dynamic comforts you as the night drudges along.\")\n",
    "    \n",
    "elif choice4 == \"higher\":\n",
    "    print(\"This area would be terrifying at night. Higher ground would be much better.\\nYou take one last look at the trees before heading into higher terrain.\\nYou hear rustling follow you as you continue onwards, but you don’t look back.\")\n",
    "    \n",
    "elif choice4 == \"follow\":\n",
    "    print(\"You want to document this guy. It doesn’t want you to, though.\\nAfter scurrying a bit faster, it lifts up an appendage, ready for combat.\\nYou try to get a close up picture anyways.\\nYou get smacked. Ouch.\\nBut you got the picture!\\nYou hurry out of the tube to the next discovery.\")\n",
    "    \n",
    "elif choice4 == \"fear\":\n",
    "    print(\"You’ve never been too fond of bugs, and it’s a bit big for your liking.\\nYou head back out, but these few minutes have led your trail to the shadows dry.\\nThe light brings you warmth, however,\\nand you feel that the rest of your day will be met with many more things to document.\")\n",
    "    \n",
    "elif choice4 == \"turn\":\n",
    "    print(\"You feel like you're being cornered, as the tube gets smaller and smaller.\\nThe end of the day is drawing nearer.\\nYou run back at full force to find nothing near the entrance,\\nbut some of the fruit has disappeared.\\nYou decide staying above ground would be better from now on.\")\n",
    "    \n",
    "elif choice4 == \"never\":\n",
    "    print(\"There is something behind you, and you didn’t like the noise it made.\\nOnwards it is.\\nYou direct your light towards any scuttling noises.\\nFaint light is seen a distance away.\\nYou crawl on your elbows, having to lay on your stomach at this point.\\nYou reach the other end, where an opening in the tube reveals a new glimpse into the unexplored habitat.\")\n",
    "    \n",
    "elif choice4 == \"let\":\n",
    "    print(\"The weight forces you to leave behind some equipment so that it can float.\\nYou decide that your adventure ends here - you’re done with whatever this was - and call for an emergency rescue.\\nThey aren’t going to like this.\")\n",
    "    \n",
    "elif choice4 == \"return\":\n",
    "    print(\"This has been quite the embarrassing start to your experience,\\nbut you are the only one tasked to do this so far.\\nFear is understandable.\\nYou come out of the water, clothing and equipment soaked.\\nYou check to make sure that everything is working properly. It is. A stroke of good luck.\\nYou decide to stay at the edges of the island for the rest of the day,\\ndocumenting vegetation and choosing to ignore sudden movements.\\nYou set up your makeshift home for the night, hopeful for the courage the next day may bring.\")\n",
    "    \n",
    "elif choice4 == \"still\":\n",
    "    print(\"Any movements could scare it away.\\nMinutes pass.\\nThe shadow's form distinguishes itself.\\nThe quiet mammal slowly moves forward to greet you from a distance.\\nAfter burning its view in memory, you move and watch its movements as it rushes away.\\nYou draw out its features in the sand, and record an explanation.\\nWhile eating dinner, your friend greets you once more, and the two of you sit by the campfire as stars fall into view.\")\n",
    "    \n",
    "elif choice4 == \"camera\":\n",
    "    print(\"You turn on your camera.\\nDocumentation is the whole reason why you’re here, right? Though the movement seems to have scared the shadow off.\\nYou find the courage to venture into the trees, by just a little.\\nYour mere height seemed to scare it, so perhaps it is more docile?\\nYou continue to look, finding seeds leftover from fruit.\\nAfter searching the whole day, you head back to the sand for rest.\\nYou’re perplexed by the eyes that stare back at you from the trees, but it’s too late to investigate now.\")\n",
    "    \n",
    "else: \n",
    "    print(\"You didn't write that correctly. You'll have to restart.\")"
   ]
  }
 ],
 "metadata": {
  "kernelspec": {
   "display_name": "Python 3",
   "language": "python",
   "name": "python3"
  },
  "language_info": {
   "codemirror_mode": {
    "name": "ipython",
    "version": 3
   },
   "file_extension": ".py",
   "mimetype": "text/x-python",
   "name": "python",
   "nbconvert_exporter": "python",
   "pygments_lexer": "ipython3",
   "version": "3.8.8"
  }
 },
 "nbformat": 4,
 "nbformat_minor": 5
}
